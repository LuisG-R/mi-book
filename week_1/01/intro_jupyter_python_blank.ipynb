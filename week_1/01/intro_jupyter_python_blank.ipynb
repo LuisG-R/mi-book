{
 "cells": [
  {
   "cell_type": "markdown",
   "id": "a1e46af8",
   "metadata": {},
   "source": [
    "# Introduction to Jupyter notebooks and Python\n",
    "\n",
    "*Authors: Enze Chen and Mark Asta (University of California, Berkeley)*\n",
    "\n",
    "Welcome!\n",
    "In this notebook, we will introduce the **Jupyter notebook** programming environment and the **Python** programming language.\n",
    "If you already have extensive experience with both of these concepts, that's great!\n",
    "We hope you don't mind the quick refresher, and maybe some of our protips will be new for you. 😀\n",
    "\n",
    "```{note}\n",
    "This is an interactive exercise, so you will want to click the {fa}`rocket` and open the notebook in DataHub (or Colab for non-UCB students).\n",
    "```"
   ]
  },
  {
   "cell_type": "markdown",
   "id": "e164844b",
   "metadata": {},
   "source": [
    "## Philosophy of Jupyter notebooks\n",
    "\n",
    "The main design philosophy behind Jupyter notebooks could be summarized as the following: A platform for creating _computational narratives_ to promote _literate computing_.\n",
    "The creators of Project Jupyter, one of whom is UC Berkeley Statistics Professor [Fernando Pérez](https://statistics.berkeley.edu/people/fernando-perez), wanted to create a tool that made computational research easier to communicate and more reproducible, which led to the development of Jupyter notebooks.\n",
    "The interleaving of code with prose and graphics has made programming a lot more accessible to general audiences and the interactivity of these notebooks also makes them great teaching tools!"
   ]
  },
  {
   "cell_type": "markdown",
   "id": "61a87bd0",
   "metadata": {},
   "source": [
    "### Organization of Jupyter notebooks\n",
    "\n",
    "The information in Jupyter notebooks is organized into **cells**, which come in many forms.\n",
    "This cell is called a **Markdown cell**, which is used for text that can be formatted with the [Markdown](https://www.markdownguide.org/) markup language.\n",
    "This is a fairly simple, yet extremely powerful markup language that allows you to do most of the basic styles, such as add emphasis, make itemized lists, create headings, write inline code, add links, include external images, and use HTML (see [here](https://www.markdownguide.org/cheat-sheet/) for a cheat sheet).\n",
    "You know this is a Markdown cell because when you select this cell (click on it such that a <font color=\"blue\">blue bar</font> appears on the left), the menu bar at the top shows \"`Markdown  v`\" in the second row:\n",
    "\n",
    "![jupyter_menu](../../assets/fig/week_1/01/jupyter_menu.png)\n",
    "\n",
    "As an example, here is an itemized list:\n",
    "\n",
    "- Go\n",
    "- Fight\n",
    "- Win!\n",
    "\n",
    "And here is a code block _in the Markdown cell_ with Python syntax highlighting:\n",
    "```python\n",
    "print('Hello, World!')\n",
    "```\n",
    "\n",
    "And if you love $\\LaTeX$ as much as we do, it can handle that too. 😍"
   ]
  },
  {
   "cell_type": "markdown",
   "id": "3a4b186f",
   "metadata": {},
   "source": [
    "### Making edits\n",
    "\n",
    "To **edit** a Markdown cell, double-click on it until you see your cursor flashing in the cell and the cell change color from <font color=\"blue\">blue</font> to <font color=\"green\">green</font>.\n",
    "The cell's background will also change color from white to a light gray.\n",
    "\n",
    "**EXERCISE:** Double click on this cell and answer the following question by replacing the underscores:\n",
    "\n",
    "What is your name? _________\n",
    "\n",
    "----\n",
    "\n",
    "To leave \"edit mode\" and show your changes, press <kbd>Shift</kbd>+<kbd>Enter</kbd> when you're done.\n",
    "\n",
    "Notice how we included several Markdown cells in a row rather than putting all this information into a single, giant cell.\n",
    "It's often a nice design choice to split your work into smaller chunks to improve readability. 👀"
   ]
  },
  {
   "cell_type": "markdown",
   "id": "37ff8287",
   "metadata": {},
   "source": [
    "## Introducing the code cell\n",
    "\n",
    "Notice how the next cell looks a little different. \n",
    "It is a **code cell**, which you can distinguish in a few ways. \n",
    "\n",
    "- If you click in the cell, the menu bar at the top will now show \"`Code   v`.\"\n",
    "- The cell will always have a gray background.\n",
    "- You may also notice a `In [ ]:` tag in the left margin.\n",
    "\n",
    "You can write Python code in these cells and then **execute the code** with <kbd>Shift</kbd>+<kbd>Enter</kbd>.\n",
    "\n",
    "**EXERCISE:** In the space below, enter your name between the quotation marks and then run the code cell."
   ]
  },
  {
   "cell_type": "code",
   "execution_count": null,
   "id": "62f22dfe",
   "metadata": {
    "tags": [
     "remove-output"
    ]
   },
   "outputs": [],
   "source": [
    "# inline comments in Python start with \"#\"\n",
    "name = \"\"                  # enter your name here as a string\n",
    "print(f'Hello, {name}!')   # this is a formatted string literal, or f-string, and it's super cool"
   ]
  },
  {
   "cell_type": "markdown",
   "id": "9958bdd4",
   "metadata": {},
   "source": [
    "Now you might notice that some output appeared after you executed the cell (which makes sense because we called `print()`) and a number also appeared between the square brackets!\n",
    "(e.g., `In [1]:`)\n",
    "This number indicates the sequence of code cell execution, which can be handy for a few reasons:\n",
    "\n",
    "- You can clearly tell which cells have been executed and which cells have not.\n",
    "A cell's variables and functions are only usable in the notebook after it has been executed.\n",
    "- Accordingly, for better or worse, the variables and functions in one code cell (at the global _scope_) can be accessed in other code cells that are executed later.\n",
    "This allows you to split code among several code blocks and run them sequentially.\n",
    "- For better or worse, you can execute code cells in Jupyter notebooks in _whatever order you want_. \n",
    "We still recommend top to bottom, but this does give us flexibility to change an earlier code cell (and rerun it!) if we later deem it necessary."
   ]
  },
  {
   "cell_type": "markdown",
   "id": "0221394e",
   "metadata": {},
   "source": [
    "### EXERCISE: Change this Markdown cell into a code cell using the menu bar and run it\n",
    "\n",
    "a = 4\n",
    "a             # what do you see?"
   ]
  },
  {
   "cell_type": "markdown",
   "id": "b87794e4",
   "metadata": {},
   "source": [
    "## DataHub\n",
    "\n",
    "If you are a UC Berkeley student, you may be reading this Jupyter notebook on the school's DataHub (a [JupyterHub](https://jupyter.org/hub) instance), which has been graciously provisioned for this module by the [Division of Computing, Data Science, and Society](https://data.berkeley.edu/).\n",
    "With DataHub, all of our Python code will be saved and executed in the cloud, which saves us _a lot_ of hassle with software installation. \n",
    "Everything is also automatically synced with the Jupyter Book!"
   ]
  },
  {
   "cell_type": "markdown",
   "id": "c0c8367c",
   "metadata": {},
   "source": [
    "### Installing extra packages\n",
    "\n",
    "Perhaps the only \"catch,\" which may come up as you work on your research project, is that you will have to manually install Python packages that are not included with the default DataHub deployment _every time_ you load DataHub.\n",
    "In order to install new packages, use the `pip` package manager directly within a Jupyter code cell.\n",
    "Let's demonstrate this below with the `mendeleev` package."
   ]
  },
  {
   "cell_type": "code",
   "execution_count": null,
   "id": "b8a8c26d",
   "metadata": {},
   "outputs": [],
   "source": []
  },
  {
   "cell_type": "markdown",
   "id": "bef7242b",
   "metadata": {},
   "source": [
    "We'll also quickly demonstrate how to navigate to the root directory for you to see all the files in DataHub and upload new ones as needed.\n",
    "Note that when you close a DataHub notebook, your edits and outputs are preserved, but the variables (kernel) will be reset."
   ]
  },
  {
   "cell_type": "markdown",
   "id": "c88e5874",
   "metadata": {},
   "source": [
    "## General programming principles and tips ☝\n",
    "\n",
    "**EXERCISE**: Before we set you loose to work on practice problems, let's spend some time discussing some general programming principles and best practices.\n",
    "\n",
    "I'll start us off with one: **save your work frequently**.\n",
    "Just because a code cell runs or a Markdown cell renders does _not_ mean that your work is saved. \n",
    "Jupyter notebook kernels are known to crash pretty randomly, so save your work by clicking the symbol in the menu bar or using <kbd>Ctrl</kbd>+<kbd>S</kbd> (or <kbd>Command</kbd>+<kbd>S</kbd> on Macs)."
   ]
  },
  {
   "cell_type": "code",
   "execution_count": null,
   "id": "767f049b",
   "metadata": {
    "tags": [
     "remove-cell"
    ]
   },
   "outputs": [],
   "source": [
    "# Tip #1: iterative refinement\n",
    "names = ['alexa', 'eddie', 'enze', 'kevin', 'luis', 'mack', 'mark', 'megan']\n"
   ]
  },
  {
   "cell_type": "code",
   "execution_count": null,
   "id": "da93a3c0",
   "metadata": {
    "tags": [
     "remove-cell"
    ]
   },
   "outputs": [],
   "source": [
    "# Tip #2: decomposition 🍁\n",
    "pos = [1, 1, 0]\n",
    "print( (sum([p ** 2 for p in pos])) ** 0.5 )\n"
   ]
  },
  {
   "cell_type": "markdown",
   "id": "6227124c",
   "metadata": {
    "tags": [
     "remove-cell"
    ]
   },
   "source": [
    "Tip #3: `print()` is your friend."
   ]
  },
  {
   "cell_type": "code",
   "execution_count": null,
   "id": "d3ab0f3a",
   "metadata": {
    "tags": [
     "remove-cell"
    ]
   },
   "outputs": [],
   "source": [
    "# Tip #4: block comments (in addition to regular comments!)\n",
    "a = 'This'\n",
    "b = 'is'\n",
    "c = 'unused'\n",
    "d = 'code'\n",
    "e = 'but'\n",
    "f = 'might'\n",
    "g = 'be'\n",
    "h = 'helpful'\n",
    "i = 'later'"
   ]
  },
  {
   "cell_type": "markdown",
   "id": "1633316b",
   "metadata": {
    "tags": [
     "remove-cell"
    ]
   },
   "source": [
    "Tip #5: Reset and run all (Jupyter only). ⏩"
   ]
  },
  {
   "cell_type": "markdown",
   "id": "d4b5357a",
   "metadata": {},
   "source": [
    "## Resources\n",
    "\n",
    "- If you want to read more about the design of Jupyter notebooks, please see the short paper by [Kluyver, T. et al. _Positioning and power in academic publishing: Players, agents and agendas_, 2016](https://ebooks.iospress.nl/publication/42900).\n",
    "- More tutorials on using Python in Jupyter notebooks can be found with a quick web search. \n",
    "- For a Markdown **cheat sheet**, see [here](https://www.markdownguide.org/cheat-sheet/)."
   ]
  }
 ],
 "metadata": {
  "celltoolbar": "Tags",
  "kernelspec": {
   "display_name": "Python 3",
   "language": "python",
   "name": "python3"
  },
  "language_info": {
   "codemirror_mode": {
    "name": "ipython",
    "version": 3
   },
   "file_extension": ".py",
   "mimetype": "text/x-python",
   "name": "python",
   "nbconvert_exporter": "python",
   "pygments_lexer": "ipython3",
   "version": "3.7.10"
  },
  "toc": {
   "base_numbering": 1,
   "nav_menu": {},
   "number_sections": false,
   "sideBar": true,
   "skip_h1_title": true,
   "title_cell": "Table of Contents",
   "title_sidebar": "Contents",
   "toc_cell": false,
   "toc_position": {},
   "toc_section_display": true,
   "toc_window_display": false
  }
 },
 "nbformat": 4,
 "nbformat_minor": 5
}
