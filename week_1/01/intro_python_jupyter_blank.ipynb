{
 "cells": [
  {
   "cell_type": "markdown",
   "id": "a1e46af8",
   "metadata": {},
   "source": [
    "# Introduction to Python and Jupyter notebooks\n",
    "\n",
    "*Authors: Enze Chen and Mark Asta (University of California, Berkeley)*\n",
    "\n",
    "Welcome!\n",
    "In this notebook, we will introduce the [**Python programming language**](https://www.python.org/) and [**Jupyter notebook**](https://jupyter.org/) programming environment.\n",
    "If you already have extensive experience with both of these concepts, that's great!\n",
    "We hope you don't mind the quick refresher, and maybe some of our protips will be new for you. 😀\n",
    "\n",
    "```{note}\n",
    "This is an interactive exercise, so you will want to click the {fa}`rocket` and open the notebook in DataHub (or Colab for non-UCB students).\n",
    "```"
   ]
  },
  {
   "cell_type": "markdown",
   "id": "ee4ba3cf",
   "metadata": {},
   "source": [
    "## Did you say... Python?\n",
    "\n",
    "````{margin}\n",
    "```{figure} ../../assets/fig/week_1/01/python.png\n",
    ":alt: python\n",
    ":width: 30%\n",
    ":align: center\n",
    "Python logo.\n",
    "```\n",
    "````\n",
    "\n",
    "By now, many people know (or at least have heard of) the Python programming language, but what they don't know is that the language is not named after the snake 🐍, but rather the television show [Monty Python's Flying Circus](https://en.wikipedia.org/wiki/Monty_Python%27s_Flying_Circus)! 📺\n",
    "\n",
    "Since its introduction in 1991, Python has [skyrocketed in popularity](https://stackoverflow.blog/2017/09/06/incredible-growth-python/) in recent years to become one of the most popular programming languages used in computer science, and arguably the _most_ popular language in data science.\n",
    "This growth is in part due to:\n",
    "\n",
    "````{sidebar} xkcd comic 353\n",
    "```{figure} ../../assets/fig/week_1/01/python_xkcd.png\n",
    ":alt: python_xkcd\n",
    ":width: 90%\n",
    ":align: center\n",
    "[Python](https://xkcd.com/353/).\n",
    "```\n",
    "````\n",
    "\n",
    "1. Its _readability_. Python is designed to be simple and reads like English, using common keywords instead of symbols (e.g., `and` vs. `&&`).\n",
    "1. Its _extensibility_. Python makes it easy for developers to write _modules_ that extend its functionalities for applications in data science, [scientific computing](https://www.nature.com/articles/s41586-020-2649-2), [imaging black holes](https://numfocus.org/case-studies/first-photograph-black-hole), and [flying drones on Mars](https://twitter.com/ThePSF/status/1362516507918483458?s=20).\n",
    "1. Its _open-source_ properties. This means anyone can contribute to Python development and anyone can use it—for free!\n",
    "\n",
    "For these reasons (and more), we will be using Python for this module.\n",
    "**If you're new to Python, that's OK!**\n",
    "The rest of today will be spent on [re]acquainting ourselves with Python and introducing the necessarity functionalities."
   ]
  },
  {
   "cell_type": "markdown",
   "id": "bbdbd475",
   "metadata": {},
   "source": [
    "### Using Python code\n",
    "\n",
    "In this module, we're going to take a somewhat practical approach to using Python, in the sense that we view it as just another tool in our toolbox for expanding our understanding of materials.\n",
    "We'll discuss Python concepts, syntax, and style along the way, but the _focus_ will always be on applying it to solve relevant MSE problems in a data-driven fashion.\n",
    "Therefore, our focus as mentors will be to teach you only what's relevant for this module, and unfortunately won't have much time to extensively cover the details of the language or various packages during the tutorials (you're welcome to ask in OH!).\n",
    "\n",
    "While this strategy risks leaving you with only a cursory understanding of Python, we want to offer two points of solace and why this might not actually be the case:\n",
    "1. Based on the initial survey, many of you have some programming experience already, even if it's in a different language. \n",
    "We think you'll be surprised to find that, both at a theoretical and applied level, Python is not _too_ different from other languages that you may have seen (e.g., C++, MATLAB) and that a lot of your prior knowledge will transfer to help you understand Python.\n",
    "1. Solving scientific problems algorithmically (e.g., in a data-driven way) often requires a lot more than being able to program, irrespective of the programming language. \n",
    "Therefore, while we're teaching you Python programming syntax and tools, what we're really hoping to communicate is a _way of thinking_ like a computer, which is quite different than the way humans think.\n",
    "And so you might find that you're spending more time _formulating_ data-driven solutions than actually _writing code_.\n",
    "A little planning goes a long way.\n",
    "For more on this topic, see Jeanette Wing's article on **computational thinking** assigned in the {doc}`homework_01`.\n",
    "\n",
    "\n",
    "### Running Python code\n",
    "\n",
    "You can _write_ Python code just about anywhere (even in Microsoft Word, lol), but in order to _execute_ the code, you will need a Python **kernel**.\n",
    "For this module (at least, for these tutorials), we will use Jupyter notebooks for running the Python code we write."
   ]
  },
  {
   "cell_type": "markdown",
   "id": "e164844b",
   "metadata": {},
   "source": [
    "## Philosophy of Jupyter notebooks\n",
    "\n",
    "The main design philosophy behind Jupyter notebooks could be summarized as the following: A platform for creating _computational narratives_ to promote _literate computing_.\n",
    "The creators of Project Jupyter, one of whom is UC Berkeley Statistics Professor [Fernando Pérez](https://statistics.berkeley.edu/people/fernando-perez), wanted to create a tool that made computational research easier to communicate and more reproducible, which led to the development of Jupyter notebooks.\n",
    "The interleaving of code with prose and graphics has made programming a lot more accessible to general audiences and the interactivity of these notebooks also makes them great teaching tools!"
   ]
  },
  {
   "cell_type": "markdown",
   "id": "61a87bd0",
   "metadata": {},
   "source": [
    "### Organization of Jupyter notebooks\n",
    "\n",
    "The information in Jupyter notebooks is organized into **cells**, which come in many forms.\n",
    "This cell is called a **Markdown cell**, which is used for text that can be formatted with the [Markdown](https://www.markdownguide.org/) markup language.\n",
    "This is a fairly simple, yet extremely powerful markup language that allows you to do most of the basic styles, such as add emphasis, make itemized lists, create headings, write inline code, add links, include external images, and use HTML (see [here](https://www.markdownguide.org/cheat-sheet/) for a cheat sheet).\n",
    "You know this is a Markdown cell because when you select this cell (click on it such that a <font color=\"blue\">blue bar</font> appears on the left), the menu bar at the top shows \"`Markdown  v`\" in the second row:\n",
    "\n",
    "![jupyter_menu](../../assets/fig/week_1/01/jupyter_menu.png)\n",
    "\n",
    "As an example, here is an itemized list:\n",
    "\n",
    "- spam\n",
    "- eggs\n",
    "\n",
    "And here is a code block _in the Markdown cell_ with Python syntax highlighting:\n",
    "```python\n",
    "print('Hello, World!')\n",
    "```\n",
    "\n",
    "And if you love $\\LaTeX$ as much as we do, it can handle that too. 😍"
   ]
  },
  {
   "cell_type": "markdown",
   "id": "3a4b186f",
   "metadata": {},
   "source": [
    "### Making edits\n",
    "\n",
    "To **edit** a Markdown cell, double-click on it until you see your cursor flashing in the cell and the cell change color from <font color=\"blue\">blue</font> to <font color=\"green\">green</font>.\n",
    "The cell's background will also change color from white to a light gray.\n",
    "\n",
    "**EXERCISE:** Double click on this cell and answer the following question by replacing the underscores:\n",
    "\n",
    "What is your name? _________\n",
    "\n",
    "----\n",
    "\n",
    "To leave \"edit mode\" and show your changes, press <kbd>Shift</kbd>+<kbd>Enter</kbd> when you're done.\n",
    "\n",
    "Notice how we included several Markdown cells in a row rather than putting all this information into a single, giant cell.\n",
    "It's often a nice design choice to split your work into smaller chunks to improve readability. 👀"
   ]
  },
  {
   "cell_type": "markdown",
   "id": "37ff8287",
   "metadata": {},
   "source": [
    "## Introducing the code cell\n",
    "\n",
    "Notice how the next cell looks a little different. \n",
    "It is a **code cell**, which you can distinguish in a few ways. \n",
    "\n",
    "- If you click in the cell, the menu bar at the top will now show \"`Code   v`.\"\n",
    "- The cell will always have a gray background.\n",
    "- You may also notice a `In [ ]:` tag in the left margin.\n",
    "\n",
    "You can write Python code in these cells and then **execute the code** with <kbd>Shift</kbd>+<kbd>Enter</kbd>.\n",
    "Or you can click the <kbd>▶ Run</kbd> button in the menu bar.\n",
    "\n",
    "**EXERCISE:** In the space below, enter your name between the quotation marks and then run the code cell."
   ]
  },
  {
   "cell_type": "code",
   "execution_count": null,
   "id": "62f22dfe",
   "metadata": {
    "tags": [
     "remove-output"
    ]
   },
   "outputs": [],
   "source": [
    "# inline comments in Python start with \"#\"\n",
    "name = \"\"                  # enter your name here as a string\n",
    "print(f'Hello, {name}!')   # this is a formatted string literal, or f-string, and it's f-ing awesome"
   ]
  },
  {
   "cell_type": "markdown",
   "id": "9958bdd4",
   "metadata": {},
   "source": [
    "Now you might notice that some output appeared after you executed the cell (which makes sense because we called `print()`) and a number also appeared between the square brackets!\n",
    "(e.g., `In [1]:`)\n",
    "This number indicates the sequence of code cell execution, which can be handy for a few reasons:\n",
    "\n",
    "- You can clearly tell which cells have been executed and which cells have not.\n",
    "A cell's variables and functions are only usable in the notebook after it has been executed.\n",
    "- Accordingly, for better or worse, the variables and functions in one code cell (at the global _scope_) can be accessed in other code cells that are executed later.\n",
    "This allows you to split code among several code blocks and run them sequentially.\n",
    "- For better or worse, you can execute code cells in Jupyter notebooks in _whatever order you want_. \n",
    "We still recommend top to bottom, but this does give us flexibility to change an earlier code cell (and rerun it!) if we later deem it necessary."
   ]
  },
  {
   "cell_type": "markdown",
   "id": "0221394e",
   "metadata": {},
   "source": [
    "### EXERCISE: Change this Markdown cell into a code cell using the menu bar and run it\n",
    "\n",
    "a = 4\n",
    "a             # what do you see?"
   ]
  },
  {
   "cell_type": "markdown",
   "id": "b87794e4",
   "metadata": {},
   "source": [
    "## DataHub\n",
    "\n",
    "If you are a UC Berkeley student, you may be reading this Jupyter notebook on the school's DataHub (a [JupyterHub](https://jupyter.org/hub) instance), which has been graciously provisioned for this module by the [Division of Computing, Data Science, and Society](https://data.berkeley.edu/).\n",
    "With DataHub, all of our Python code will be saved and executed in the cloud, which saves us _a lot_ of hassle with software installation. \n",
    "Everything is also automatically synced with the Jupyter Book!"
   ]
  },
  {
   "cell_type": "markdown",
   "id": "c0c8367c",
   "metadata": {},
   "source": [
    "### Installing extra packages\n",
    "\n",
    "Perhaps the only \"catch,\" which may come up as you work on your research project, is that you will have to manually install Python packages that are not included with the default DataHub deployment _every time_ you load DataHub.\n",
    "In order to install new packages, use the `pip` package manager directly within a Jupyter code cell.\n",
    "\n",
    "**EXERCISE**: Let's demonstrate this below by adding a new code cell and installing the `mendeleev` package."
   ]
  },
  {
   "cell_type": "markdown",
   "id": "bef7242b",
   "metadata": {},
   "source": [
    "We'll also quickly demonstrate how to navigate to the root directory for you to see all the files in DataHub and upload new ones as needed.\n",
    "Note that when you close a DataHub notebook, your edits and outputs are preserved, but the variables (kernel) will be reset."
   ]
  },
  {
   "cell_type": "markdown",
   "id": "c88e5874",
   "metadata": {},
   "source": [
    "## General programming principles and tips ☝\n",
    "\n",
    "**EXERCISE**: Before we set you loose to work on practice problems, let's spend some time discussing some general programming principles and best practices.\n",
    "\n",
    "I'll start us off with one: **save your work frequently**.\n",
    "Just because a code cell runs or a Markdown cell renders does _not_ mean that your work is saved. \n",
    "Jupyter notebook kernels are known to crash pretty randomly, so save your work by clicking the symbol in the menu bar or using <kbd>Ctrl</kbd>+<kbd>S</kbd> (or <kbd>Command</kbd>+<kbd>S</kbd> on Macs)."
   ]
  },
  {
   "cell_type": "code",
   "execution_count": 5,
   "id": "767f049b",
   "metadata": {
    "tags": [
     "remove-cell"
    ]
   },
   "outputs": [
    {
     "name": "stdout",
     "output_type": "stream",
     "text": [
      "['Alexa', 'eddie', 'enze', 'kevin', 'luis', 'mack', 'mark', 'megan']\n",
      "['Alexa', 'Eddie', 'Enze', 'Kevin', 'Luis', 'Mack', 'Mark', 'Megan']\n"
     ]
    }
   ],
   "source": [
    "# Tip #1: iterative refinement\n",
    "names = ['alexa', 'eddie', 'enze', 'kevin', 'luis', 'mack', 'mark', 'megan']\n"
   ]
  },
  {
   "cell_type": "code",
   "execution_count": null,
   "id": "da93a3c0",
   "metadata": {
    "tags": [
     "remove-cell"
    ]
   },
   "outputs": [],
   "source": [
    "# Tip #2: decomposition 🍁\n",
    "pos = [1, 1, 0]\n",
    "print( (sum([p ** 2 for p in pos])) ** 0.5 )\n"
   ]
  },
  {
   "cell_type": "markdown",
   "id": "6227124c",
   "metadata": {
    "tags": [
     "remove-cell"
    ]
   },
   "source": [
    "Tip #3: `print()` is your friend. [Stack Overflow](https://stackoverflow.com/) is an even better friend."
   ]
  },
  {
   "cell_type": "code",
   "execution_count": null,
   "id": "d3ab0f3a",
   "metadata": {
    "tags": [
     "remove-cell"
    ]
   },
   "outputs": [],
   "source": [
    "# Tip #4: block comments (in addition to regular comments!)\n",
    "a = 'This'\n",
    "b = 'is'\n",
    "c = 'unused'\n",
    "d = 'code'\n",
    "e = 'but'\n",
    "f = 'might'\n",
    "g = 'be'\n",
    "h = 'helpful'\n",
    "i = 'later'"
   ]
  },
  {
   "cell_type": "markdown",
   "id": "1633316b",
   "metadata": {
    "tags": [
     "remove-cell"
    ]
   },
   "source": [
    "Tip #5: Reset and run all (Jupyter only). ⏩"
   ]
  },
  {
   "cell_type": "code",
   "execution_count": null,
   "id": "9053d345",
   "metadata": {
    "tags": [
     "remove-cell"
    ]
   },
   "outputs": [],
   "source": [
    "# Tip #6: How to get help from Jupyter with Shift+Tab and ?"
   ]
  },
  {
   "cell_type": "markdown",
   "id": "d4b5357a",
   "metadata": {},
   "source": [
    "## Resources\n",
    "\n",
    "- If you want to read more about the design of Jupyter notebooks, please see the short paper by [Kluyver, T. et al. _Positioning and power in academic publishing: Players, agents and agendas_, 2016](https://ebooks.iospress.nl/publication/42900).\n",
    "- If you want to see a [very long] list of interesting Jupyter notebooks, see [here](https://github.com/jupyter/jupyter/wiki/A-gallery-of-interesting-Jupyter-Notebooks).\n",
    "- More tutorials on using Python in Jupyter notebooks can be found with a quick web search. \n",
    "- For a Markdown **cheat sheet**, see [here](https://www.markdownguide.org/cheat-sheet/)."
   ]
  }
 ],
 "metadata": {
  "celltoolbar": "Tags",
  "kernelspec": {
   "display_name": "Python 3",
   "language": "python",
   "name": "python3"
  },
  "language_info": {
   "codemirror_mode": {
    "name": "ipython",
    "version": 3
   },
   "file_extension": ".py",
   "mimetype": "text/x-python",
   "name": "python",
   "nbconvert_exporter": "python",
   "pygments_lexer": "ipython3",
   "version": "3.8.5"
  },
  "toc": {
   "base_numbering": 1,
   "nav_menu": {},
   "number_sections": false,
   "sideBar": true,
   "skip_h1_title": true,
   "title_cell": "Table of Contents",
   "title_sidebar": "Contents",
   "toc_cell": false,
   "toc_position": {},
   "toc_section_display": true,
   "toc_window_display": false
  }
 },
 "nbformat": 4,
 "nbformat_minor": 5
}
