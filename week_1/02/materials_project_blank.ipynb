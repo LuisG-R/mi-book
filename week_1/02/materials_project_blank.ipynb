{
 "cells": [
  {
   "cell_type": "markdown",
   "id": "5334554e",
   "metadata": {},
   "source": [
    "# The Materials Project\n",
    "\n",
    "*Authors: Enze Chen and Mark Asta (University of California, Berkeley)*\n",
    "\n",
    "```{note}\n",
    "This is an interactive exercise, so you will want to click the {fa}`rocket` and open the notebook in DataHub (or Colab for non-UCB students).\n",
    "```\n",
    "\n",
    "## Learning objectives\n",
    "\n",
    "This notebook contains a series of exercises that explore the [Materials API (MAPI)](https://materialsproject.org/open), with some content borrowed from the [Materials Project Workshop](https://workshop.materialsproject.org/) and [Materials Virtual Lab](http://matgenb.materialsvirtuallab.org/).\n",
    "We want to give you some hands-on practice working with the MAPI so that you:\n",
    "1. Are familiar with REST principles and API usage (broadly speaking).\n",
    "1. Feel comfortable using the MAPI and [Pymatgen](https://pymatgen.org/) for your self-directed research.\n",
    "1. Learn best practices for working with programmatic tools.\n",
    "\n",
    "We will progress through most of this notebook together as a group and we're happy to answer any questions you may have about this content.\n",
    "\n"
   ]
  },
  {
   "cell_type": "markdown",
   "id": "08d08789",
   "metadata": {},
   "source": [
    "## Contents\n",
    "\n",
    "These exercises are grouped into the following sections:\n",
    "\n",
    "1. [API overview](#API-overview)\n",
    "1. [Materials API](#Materials-API)\n",
    "1. [Pymatgen tutorial](#Pymatgen-tutorial)"
   ]
  },
  {
   "cell_type": "markdown",
   "id": "1d0f7bfd",
   "metadata": {},
   "source": [
    "## API overview\n",
    "\n",
    "[Back to top](#Contents)\n",
    "\n",
    "The word \"API\" is a term that you've probably heard before, and it's short for \"application programming interface\" (which you may not have heard before).\n",
    "What an API does is that it gives a way for your computer to communicate with a database through a series of actions that you _call_.\n",
    "One benefit of having an API is that it hides away the implementation details of the database and you can focus on getting the data you need, with the method of your choice—like Python!\n",
    "This would be analogous to, instead of writing `with open('ridiculous/path/that/we/never/remember')` and sifting through the file, simply saying \"_Accio, data!_\"... yeah, something like that. 😅\n",
    "\n",
    "![API](../../assets/fig/week_1/02/api.png)"
   ]
  },
  {
   "cell_type": "markdown",
   "id": "3b773232",
   "metadata": {},
   "source": [
    "### REST 😴\n",
    "\n",
    "As we all know, \"All APIs are equal, but some APIs are more equal than others.\"\n",
    "In particular, a preferred design of APIs is one that follows the [Representational State Transfer (REST)](https://en.wikipedia.org/wiki/Representational_state_transfer) architectural style, which enforces a standardized set of commands that can be performed over **HTTP requests**.\n",
    "APIs that obey these principles are termed \"RESTful\" and they allow the data to be queried with **unique resource IDs** in a uniform manner.\n",
    "The details of this aren't too important for this module, but later when we talk about access patterns you will at least be familiar with some of the underlying context."
   ]
  },
  {
   "cell_type": "markdown",
   "id": "7b89c708",
   "metadata": {},
   "source": [
    "## Materials API\n",
    "\n",
    "[Back to top](#Contents)\n",
    "\n",
    "Now we're ready to work with [the Materials API](https://materialsproject.org/open), or MAPI, and programmatically access data from the MP database."
   ]
  },
  {
   "cell_type": "markdown",
   "id": "03e89bbc",
   "metadata": {},
   "source": [
    "### API key\n",
    "\n",
    "For security reasons, MAPI (and most APIs) requires an **API key** in order for you to access the data.\n",
    "This key can be generated from the [MP Dashboard](https://materialsproject.org/dashboard) and is **unique to you**.\n",
    "Therefore, you should keep this key private so no one uses it for nefarious purposes.\n",
    "\n",
    "While this intuitively makes sense, how might we implement it in our code that is later shared with our collaborators?\n",
    "In particular, it seems like we would have to _hard code_ it as a string in our code, and then have to remember to scrub it later, which sounds risky.\n",
    "As a solution to this problem, we'll suggest two alternatives, one of which follows best practice and the other is a \n",
    "temporary workaround."
   ]
  },
  {
   "cell_type": "markdown",
   "id": "c11fe4b0",
   "metadata": {},
   "source": [
    "### Option 1: saving the API key in your system's environment variables\n",
    "\n",
    "All operating systems have a set of environment variables that programs will reference (such as `$HOME` or `$PATH`), and it's possible to add to this list by creating your own environment variables.\n",
    "Therefore, one option is to store your MP API key under a new variable named `MAPI_KEY`, much like how you associate entities in a Python `dict`.\n",
    "The API key is stored _locally_ on your computer only.\n",
    "\n",
    "Now when you want to use the API key in your code, you will type:\n",
    "```python\n",
    "import os\n",
    "api_key = os.environ['MAPI_KEY']\n",
    "# do something with API key now stored in the \"api_key\" variable\n",
    "```\n",
    "where [`os`](https://docs.python.org/3/library/os.html) is a handy package that interfaces with your operating system.\n",
    "Note that the above Python code will work on any OS, and runs for any user that has this set up without revealing any private information!"
   ]
  },
  {
   "cell_type": "markdown",
   "id": "14db2479",
   "metadata": {},
   "source": [
    "### Option 2: saving the API key in another file\n",
    "\n",
    "The first method is the preferred way, but it only works if we can access our environment variables.\n",
    "This might fail if you're on a company device that doesn't give you admin priviledges, or you're on a [shared] cloud system like DataHub where it's not clear how one would do this—safely, or at all. 😓\n",
    "So, the workaround that we've devised for you, at least for this lesson, is for you to store your API in an external text file, and then load the `api_key` variable by reading the contents of that file.\n",
    "\n",
    "Please right-click the `{jupyterhub}` logo in the top-left corner and open the main directory in a new tab.\n",
    "Then navigate to the file \n",
    "```\n",
    "mi-book > assets > files > mp_api_key.txt\n",
    "```\n",
    "\n",
    "Once there, copy your API key from [the MP website dashboard](https://materialsproject.org/dashboard) and paste it onto **the second line** of that file, below the comment.\n",
    "Then **save the file** and close the tab.\n",
    "When we can then load in our API key with the familiar syntax:\n",
    "```python\n",
    "with open('../../assets/files/mp_api_key.txt', 'r') as f:\n",
    "    api_key = f.readlines()[1].strip()\n",
    "```"
   ]
  },
  {
   "cell_type": "markdown",
   "id": "573af65b",
   "metadata": {},
   "source": [
    "In the code below, we combine the two methods into one using a `try`/`except` block and include some [`assert`](https://python-reference.readthedocs.io/en/latest/docs/statements/assert.html) statements as some guardrails.\n",
    "Run this code **ONLY AFTER** you have pasted your API key into the correct place (see above)."
   ]
  },
  {
   "cell_type": "code",
   "execution_count": null,
   "id": "65061b86",
   "metadata": {},
   "outputs": [],
   "source": [
    "# get API key using one of two ways\n",
    "api_key = None\n",
    "try:       # this is for running locally\n",
    "    import os\n",
    "    api_key = os.environ['MAPI_KEY']\n",
    "except:    # this is for running on DataHub\n",
    "    with open('../../assets/files/mp_api_key.txt', 'r') as f:\n",
    "        api_key = f.readlines()[1].strip()\n",
    "\n",
    "# assert helps catch potential bugs\n",
    "assert api_key is not None, 'API key not set correctly in environment!'\n",
    "assert api_key != '', 'API key not found in mp_api_key.txt file!'"
   ]
  },
  {
   "cell_type": "markdown",
   "id": "a4a11300",
   "metadata": {},
   "source": [
    "### Making `requests` for data\n",
    "\n",
    "Alright, now that we have the boilerplate out of the way, it's time to pull down some data!\n",
    "We will first do it the old-fashioned way where we create a URL for the data we want to get in the form of an HTTP request.\n",
    "The RESTful URL format for the MAPI is as follows:\n",
    "\n",
    "![MAPI URL](../../assets/fig/week_1/02/mapi_url.png)\n",
    "\n",
    "There are more details to this (which you can see in the paper by [Ong et al. _Comp. Mater. Sci._, 2015](http://www.sciencedirect.com/science/article/pii/S0927025614007113)), but these are the main pieces.\n",
    "In fact, the only part that really has to change is the **identifier**, which could be:\n",
    "- a chemical formula, like what's pictured.\n",
    "Note that this will return _all_ materials in the database with the same _ratio_ of elements.\n",
    "- a MP ID, for a specific material.\n",
    "- a chemical system ([chemsys](https://pymatgen.org/pymatgen.entries.entry_tools.html?highlight=chemsys)), `A-B-C`, that gets all systems _and subsystems_ with those elements in _any ratio_.\n",
    "\n",
    "Conveniently, the data returned from this query will be in **JSON format**, which you already know how to parse!"
   ]
  },
  {
   "cell_type": "markdown",
   "id": "1b4d80bc",
   "metadata": {},
   "source": [
    "What we haven't covered yet, however, is how we can make _Python_ access this URL instead of our web browser.\n",
    "To do this, we will use the powerful [`requests`](https://docs.python-requests.org/en/master/index.html) package, which allows us to make a [GET request](https://www.tutorialspoint.com/http/http_requests.htm) with the following syntax:\n",
    "```python\n",
    "import requests\n",
    "data = requests.get(url, {'API_KEY':api_key})\n",
    "data = data.json()\n",
    "```\n",
    "The `url` is a variable placeholder for the specific URL we want, which we will specify below.\n",
    "We have to include a dictionary for our API key in order to authenticate the request.\n",
    "Finally, in the third line, because we _know_ that the data is returned as JSON, we can use [the built-in JSON decoder](https://docs.python-requests.org/en/master/user/quickstart/#json-response-content) in the `requests` package to convert our data quickly.\n",
    "Let's see this in action!"
   ]
  },
  {
   "cell_type": "code",
   "execution_count": null,
   "id": "cdff46c3",
   "metadata": {
    "tags": [
     "remove-output"
    ]
   },
   "outputs": [],
   "source": [
    "import requests\n",
    "import pprint\n",
    "formula = 'Si'\n",
    "url = f'https://www.materialsproject.org/rest/v2/materials/{formula}/vasp'\n",
    "data = requests.get(url, {'API_KEY': api_key})\n",
    "data = data.json()\n",
    "# pprint.pprint(data)"
   ]
  },
  {
   "cell_type": "markdown",
   "id": "bd35d5ae",
   "metadata": {},
   "source": [
    "Since there's **a lot** of JSON output, we use the [`pprint`](https://docs.python.org/3/library/pprint.html) package to format it to be more readable.\n",
    "\n",
    "Also, wow!\n",
    "How did we get so many records? 😅\n",
    "\n",
    "----\n",
    "\n",
    "We see that there's a bit of metadata (e.g., when the request was made) and also our data stored in the `response` key of this dictionary.\n",
    "Even then, it seems like there's a ton of data!\n",
    "Any of the properties stand out to you?"
   ]
  },
  {
   "cell_type": "code",
   "execution_count": null,
   "id": "2d375f30",
   "metadata": {},
   "outputs": [],
   "source": [
    "results = data['response']\n",
    "print(f'{len(results)} results were returned for {formula}.')\n",
    "\n",
    "formulas = [res['full_formula'] for res in results]\n",
    "print(f'The full formulas are {formulas}.')\n",
    "\n",
    "ground = [res for res in results if res['e_above_hull'] < 0.0001]   # what is this?\n",
    "print(len(ground))    # how many records are there now? Why?"
   ]
  },
  {
   "cell_type": "markdown",
   "id": "e6603ea1",
   "metadata": {},
   "source": [
    "### Ground states and convex hulls\n",
    "\n",
    "We've discussed DFT as an energy minimization problem that is initialized with a composition and structure.\n",
    "After relaxation, we can calculate a final energy for these structures, but it's conceivable that the final structures are not at an energy minimum, whether that's because the composition isn't optimal, or the particular structure is a local minimum, or the calculation never converged, etc.\n",
    "If we take the formation energy of all of the structures and plotted them vs. their composition, we would get a plot like the one below (run the code and wait a bit).\n",
    "\n",
    "What's interesting about the structures in a plot like this is that there is a set of points that we can connect with straight lines that will _fully enclose all of the points_ in the plot.\n",
    "One way to imagine the construction of these bounding lines is by taking a rubber band, stretching it around all the points, and then letting go and seeing the boundary it snaps into.\n",
    "This boundary is termed the **convex hull** and represents the minimum energy structures at any composition.\n",
    "Therefore, the vertical distance to the convex hull is indicative of the **stability** of a particular material.\n",
    "\n",
    "There are a few structures with energy higher than the convex hull represented by the orange diamonds, and this difference in energy is the `e_above_hull` property in the MP database.\n",
    "The green dots all have `e_above_hull=0.0` and are termed the **ground-state** structures (at least for DFT)."
   ]
  },
  {
   "cell_type": "code",
   "execution_count": null,
   "id": "3e2579e8",
   "metadata": {},
   "outputs": [],
   "source": [
    "from convex_hull_NiAl import *   # here we show how you can import your own Python functions :)\n",
    "plot_convex_hull(api_key)        # don't worry, we'll cover plotting tomorrow! a sneak peek ;)"
   ]
  },
  {
   "cell_type": "markdown",
   "id": "b1dc3822",
   "metadata": {},
   "source": [
    "Wow, using this method, we can conceivably pull all of the data off of MP (don't actually try this, they will block you if you're not careful 😁), and should have more than enough data to begin a data-driven exploration of materials design.\n",
    "\n",
    "_But_, this method seems a little lacking, because, at the end of the day, it's actually not too different from our files approach!\n",
    "\n",
    "1. Note that we had to type out the full URL to make the request, and thus know _a priori_ what compounds/materials we needed and where in the MP database it's located (the other parts of the URL).\n",
    "If we wanted more materials, we'd have to write a `for` loop through those formulas, which seems logical, but cumbersome.\n",
    "1. Furthermore, this method returned basically _all_ the data associated with each material, when in most practical use cases, we only need a small subset of properties.\n",
    "This is one of the advantages of an API, after all, and it would be nice if we had a higher-level interface that gave us only what we needed on-demand..."
   ]
  },
  {
   "cell_type": "markdown",
   "id": "8e2748a9",
   "metadata": {},
   "source": [
    "## Pymatgen tutorial\n",
    "\n",
    "[Back to top](#Contents)\n",
    "\n",
    "Enter Python Materials Genomics, or [**Pymatgen**](https://pymatgen.org/index.html), which is a package for materials analysis that also interfaces with the MAPI in a cleaner way than the `requests` approach.\n",
    "To access the MAPI, we use the [`MPRester()`](https://pymatgen.org/pymatgen.ext.matproj.html#pymatgen.ext.matproj.MPRester)  module, which is imported from `pymatgen.ext.matproj` and called as follows:\n",
    "```python\n",
    "with MPRester(api_key) as mpr:\n",
    "    # do something, such as mpr.query()\n",
    "```\n",
    "\n",
    "We see that the `with` keyword appears again, which safely closes the connection to the MAPI when we are done with it.\n",
    "`mpr` is now the variable name for the object that we can use to make API calls.\n",
    "We can't demonstrate all the methods today, mostly because it's _incredibly_ flexible and complex, but we'll briefly discuss how you might use the [`query()`](https://pymatgen.org/pymatgen.ext.matproj.html#pymatgen.ext.matproj.MPRester.query) method in particular.\n",
    "\n",
    "First let's just run an example to clear up some of the abstractness."
   ]
  },
  {
   "cell_type": "code",
   "execution_count": null,
   "id": "0addae24",
   "metadata": {},
   "outputs": [],
   "source": [
    "from pymatgen.ext.matproj import MPRester\n",
    "\n",
    "props = ['formation_energy_per_atom', 'pretty_formula', 'e_above_hull', 'material_id']\n",
    "with MPRester(api_key) as mpr:\n",
    "    entries = mpr.query(criteria={'elements': ['Al', 'Ni']}, \n",
    "                        properties=props)\n",
    "    \n",
    "print(f'Results are returned as a {type(entries)}.')\n",
    "print(f'There are {len(entries)} results in total.')\n",
    "entries[0]"
   ]
  },
  {
   "cell_type": "markdown",
   "id": "664ffb70",
   "metadata": {},
   "source": [
    "While we won't be working with NiAl alloys in this module, you can at least check to see if the above results correspond with the previous plot (they better...).\n",
    "In any case, we make a few observations:\n",
    "- The import statement is a little more complex than what we've seen so far.\n",
    "This is a good thing(?) because Pymatgen has grown quite a bit over the years and now supports a lot of functionality, so the developers created this submodule structure so you only have to import what you need.\n",
    "- We specified a list of property keys for the properties that we're interested in.\n",
    "- For the arguments to `query()`, we used a dictionary for the `criteria` and the list of properties for the `properties`.\n",
    "- We see the results were returned as a list (JSON).\n",
    "You can verify [in the UI](https://materialsproject.org/#search/materials/{%22nelements%22%3A2%2C%22elements%22%3A%22Al-Ni%22}) that there should only be 13 entries.\n",
    "- Each entry now **only contains the properties we asked for** instead of everything. \n",
    "This is very nice!\n",
    "\n",
    "We imagine you have a lot of questions at this point and we'd be happy to take them. \n",
    "\n",
    "----\n",
    "\n",
    "We'll also go through a few more examples to help you gain comfort in using `MPRester()` and we'll also give some tips.\n",
    "For example, one question that you might have is, \"**What properties are available to me**? It seems silly for me to specify them if I don't even know their names.\"\n",
    "To answer this, we present the following:"
   ]
  },
  {
   "cell_type": "code",
   "execution_count": null,
   "id": "693d18c5",
   "metadata": {},
   "outputs": [],
   "source": [
    "with MPRester(api_key) as mpr:\n",
    "    print(mpr.supported_properties)"
   ]
  },
  {
   "cell_type": "markdown",
   "id": "112f0b88",
   "metadata": {},
   "source": [
    "Unfortunately, that's not even everything, and there are a few more keys [in the documentation](https://docs.materialsproject.org/open-apis/the-materials-api/#resource-details).\n",
    "\n",
    "---\n",
    "\n",
    "You might also have a related question and that is, \"**How do I specify different search criteria**?\"\n",
    "For that, the answer is less clear, with the best answer being: \"Just look at a lot of examples.\"\n",
    "The exact structure of the query _is_ database dependent, with MAPI in particular using [MongoDB](https://www.mongodb.com/) and its associated syntax.\n",
    "We'll provide some more examples below, which will hopefully give you enough to start with."
   ]
  },
  {
   "cell_type": "markdown",
   "id": "f4c61cf0",
   "metadata": {},
   "source": [
    "### More `MPRester` examples\n",
    "\n",
    "Here we provide a few more `query()` examples.\n",
    "\n",
    "#### Other `criteria` and `properties` settings\n",
    "\n",
    "In this first one, we search for ground state materials with only one element.\n",
    "We will return the formula, density, [space group](https://en.wikipedia.org/wiki/Space_group), and [structure](https://pymatgen.org/pymatgen.core.structure.html)."
   ]
  },
  {
   "cell_type": "code",
   "execution_count": null,
   "id": "cb3dbc1a",
   "metadata": {
    "scrolled": true
   },
   "outputs": [],
   "source": [
    "crit = {'nelements': 1, 'e_above_hull': 0.0}\n",
    "props = ['pretty_formula', 'density', 'spacegroup', 'structure']\n",
    "\n",
    "with MPRester(api_key) as mpr:\n",
    "    entries = mpr.query(criteria=crit, properties=props)\n",
    "\n",
    "print(f'We obtained {len(entries)} total results.')\n",
    "entries[0]"
   ]
  },
  {
   "cell_type": "markdown",
   "id": "2f6dde58",
   "metadata": {},
   "source": [
    "#### Revisiting dielectrics and MongoDB syntax\n",
    "\n",
    "Remember the dielectric constants dataset from the last notebook?\n",
    "That work was published four years ago with 1056 materials, and it's conceivable that the workflow has since been used for many more calculations.\n",
    "Just how many more? Let's find out.\n",
    "\n",
    "The key to search for calculated dielectric properties is `diel`.\n",
    "But if we just queried on this, we would actually get a lot of results where `diel=None`.\n",
    "Therefore, we need to set a criteria to filter for only the materials that actually have dielectric properties calculated.\n",
    "\n",
    "For that, we turn to MongoDB's syntax for [query operators](https://docs.mongodb.com/manual/reference/operator/query/#query-selectors) that allows us to bulid complex conditionals into our queries. \n",
    "These all start with the `$` character and some important MongoDB operators you should be familiar with are: \n",
    "\n",
    "- \\$in (in)\n",
    "- \\$nin (not in)\n",
    "- \\$gt (greater than)\n",
    "- \\$gte (greater than or equal to)\n",
    "- \\$lt (less than) \n",
    "- \\$lte (less than or equal to)\n",
    "- \\$not (is not)\n",
    "- \\$exists (matches existing field)\n",
    "- \\$all (matches all elements in array)\n",
    "    \n",
    "We used these more advanced operators as _strings_ as follows:\n",
    "\n",
    "```python\n",
    "{'field_name': {'$op': value}}\n",
    "```\n",
    "\n",
    "For example, \"entries with energy above the convex hull that is less than 0.05 eV\" would be:\n",
    "\n",
    "```python\n",
    "{'e_above_hull': {'$lt': 0.05}}\n",
    "```\n",
    "\n",
    "In our case, we will check that \n",
    "```python\n",
    "{'diel': {'$exists': True}}\n",
    "```"
   ]
  },
  {
   "cell_type": "code",
   "execution_count": null,
   "id": "099a0cf8",
   "metadata": {},
   "outputs": [],
   "source": [
    "crit = {'diel': {'$exists': True}}\n",
    "props = ['material_id', 'pretty_formula', 'diel']\n",
    "\n",
    "with MPRester(api_key) as mpr:\n",
    "    entries = mpr.query(criteria=crit, properties=props)\n",
    "\n",
    "print(len(entries))\n",
    "entries[0]"
   ]
  },
  {
   "cell_type": "markdown",
   "id": "643551cd",
   "metadata": {},
   "source": [
    "😲 Over 7000! That's a lot.\n",
    "Since the query returned so many results, we even got a nice progress bar to return our results in chunks."
   ]
  },
  {
   "cell_type": "markdown",
   "id": "765c48ff",
   "metadata": {},
   "source": [
    "### Exercise: Find all stable metal oxides in MP with a band gap exceeding 6 eV\n",
    "\n",
    "We've started a bit of the code for you to again showcase some of the other Pymatgen functionality ([`Element`](https://pymatgen.org/pymatgen.core.periodic_table.html#pymatgen.core.periodic_table.Element) in particular), but we'll ask you to complete the correct filter criteria.\n",
    "You should return the `material_id`, `pretty_formula`, `band_gap` properties.\n",
    "\n",
    "_Hints_:\n",
    "- You will want to match an `element` criteria such that there is _at least_ one metal and _always_ an oxygen.\n",
    "- You will want to include another criteria for the number of elements to be `2`.\n",
    "- You will want another criteria to filter `e_above_hull` with a sensible threshold (`0.1` eV, perhaps).\n",
    "- You will want a filter for the `band_gap`."
   ]
  },
  {
   "cell_type": "code",
   "execution_count": null,
   "id": "351d1f55",
   "metadata": {},
   "outputs": [],
   "source": [
    "from pymatgen.core.periodic_table import Element\n",
    "elems = [Element.from_Z(i) for i in range(1, 119)]   # create Element from atomic number\n",
    "metals = [e.symbol for e in elems if e.is_metal]     # filter using is_metal property\n",
    "print(f'The first ten metals are: {metals[:10]}')    # print for validation\n",
    "# # -------------   WRITE YOUR CODE IN THE SPACE BELOW   ---------- #\n",
    "# "
   ]
  },
  {
   "cell_type": "markdown",
   "id": "91f838a9",
   "metadata": {},
   "source": [
    "### Other MPRester methods\n",
    "\n",
    "We taught you the `query()` method first because it's the most expressive and perhaps logical (in the sense it is what you as an engineer would want to get out of a database and how you would logically approach extracting the data).\n",
    "But there are some other methods that have more targeted applications that we also want to surface for you (the full list can be found in [the `MPRester` documentation](https://pymatgen.org/pymatgen.ext.matproj.html)).\n",
    "\n",
    "The first method is [`get_structure_by_material_id()`](https://pymatgen.org/pymatgen.ext.matproj.html#pymatgen.ext.matproj.MPRester.get_structure_by_material_id), which takes as input a MP ID and returns a Pymatgen [Structure](https://pymatgen.org/pymatgen.core.structure.html) object.\n",
    "This gives information on the unit cell and lattice sites, which could be used for further analysis or ML features (more on this on Thursday).\n",
    "An example of how this can be used is as follows:"
   ]
  },
  {
   "cell_type": "code",
   "execution_count": null,
   "id": "9578148b",
   "metadata": {},
   "outputs": [],
   "source": [
    "with MPRester(api_key) as mpr:\n",
    "    struct = mpr.get_structure_by_material_id('mp-2534')\n",
    "\n",
    "print(struct.get_space_group_info())\n",
    "struct"
   ]
  },
  {
   "cell_type": "markdown",
   "id": "0eba4f71",
   "metadata": {},
   "source": [
    "Another method that is very useful when studying electronic properties of materials is [`get_bandstructure_by_material_id()`](https://pymatgen.org/pymatgen.ext.matproj.html#pymatgen.ext.matproj.MPRester.get_bandstructure_by_material_id), which returns a Pymatgen [BandStructure](https://pymatgen.org/pymatgen.electronic_structure.bandstructure.html) object.\n",
    "We'll leave the discussion for band structures and density of states for Sinéad's module, but just so you have an idea of what this looks like, we'll use the [BSPlotter](https://pymatgen.org/pymatgen.electronic_structure.plotter.html#pymatgen.electronic_structure.plotter.BSPlotter) module to visualization the bands."
   ]
  },
  {
   "cell_type": "code",
   "execution_count": null,
   "id": "72c18da7",
   "metadata": {},
   "outputs": [],
   "source": [
    "from pymatgen.electronic_structure.plotter import BSPlotter\n",
    "\n",
    "with MPRester(api_key) as mpr:\n",
    "    bs = mpr.get_bandstructure_by_material_id('mp-2534')\n",
    "\n",
    "BSPlotter(bs).get_plot().show()"
   ]
  },
  {
   "cell_type": "markdown",
   "id": "a8ebb515",
   "metadata": {},
   "source": [
    "_But wait!_\n",
    "This is cool, you say, but how do we know _a priori_ what the exact MP IDs are?\n",
    "The answer is, \"You don't; but luckily, `MPRester` can get us this information too.\" 😁\n",
    "\n",
    "---\n",
    "\n",
    "The [`get_materials_ids()`](https://pymatgen.org/pymatgen.ext.matproj.html#pymatgen.ext.matproj.MPRester.get_bandstructure_by_material_id) method takes in a formula or [chemsys](https://pymatgen.org/pymatgen.entries.entry_tools.html?highlight=chemsys) and returns all the MP IDs with matching composition.\n",
    "This is a nice method to call towards the beginning of your data-driven efforts to collect all the relevant materials systems.\n",
    "For good measure, we also show a corresponding `query()` method, and you choose which one you prefer."
   ]
  },
  {
   "cell_type": "code",
   "execution_count": null,
   "id": "02b2128c",
   "metadata": {},
   "outputs": [],
   "source": [
    "with MPRester(api_key) as mpr:\n",
    "    SiO2 = mpr.get_materials_ids('SiO2')\n",
    "#     SiO2 = mpr.query('SiO2', properties=['material_id'])   # equivalent\n",
    "print(f'{len(SiO2)} records found.')\n",
    "print(f'The first five MP IDs are: {SiO2[:5]}')"
   ]
  },
  {
   "cell_type": "markdown",
   "id": "dc9fd977",
   "metadata": {},
   "source": [
    "Pymatgen actually has **a lot** more functionality that analyzes materials data (from MP or otherwise), but that will be for another time.\n",
    "Feel free to ask during OH if you see something in the UI/API that interests you or you think might be useful for self-directed research."
   ]
  },
  {
   "cell_type": "markdown",
   "id": "075e9907",
   "metadata": {},
   "source": [
    "## Conclusion\n",
    "\n",
    "This concludes our tutorial on the MAPI and Pymatgen.\n",
    "The primary goal here was just to get you familiar with the basic functionality so you can decide if it's useful for your self-directed research (you might not need it, and that's OK!).\n",
    "This knowledge will also be helpful if you do more programming or data science in the future since you almost certainly will need to interact with APIs, and all RESTful APIs are not too different.\n",
    "\n",
    "As always, please don't hesitate to reach out on Slack if you have questions or concerns!"
   ]
  }
 ],
 "metadata": {
  "celltoolbar": "Tags",
  "kernelspec": {
   "display_name": "Python 3",
   "language": "python",
   "name": "python3"
  },
  "language_info": {
   "codemirror_mode": {
    "name": "ipython",
    "version": 3
   },
   "file_extension": ".py",
   "mimetype": "text/x-python",
   "name": "python",
   "nbconvert_exporter": "python",
   "pygments_lexer": "ipython3",
   "version": "3.7.10"
  },
  "toc": {
   "base_numbering": 1,
   "nav_menu": {},
   "number_sections": false,
   "sideBar": true,
   "skip_h1_title": true,
   "title_cell": "Table of Contents",
   "title_sidebar": "Contents",
   "toc_cell": false,
   "toc_position": {},
   "toc_section_display": true,
   "toc_window_display": false
  }
 },
 "nbformat": 4,
 "nbformat_minor": 5
}
