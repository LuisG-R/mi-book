{
 "cells": [
  {
   "cell_type": "markdown",
   "id": "2323a2b2",
   "metadata": {},
   "source": [
    "# File types\n",
    "\n",
    "*Authors: Enze Chen and Mark Asta (University of California, Berkeley)*\n",
    "\n",
    "```{note}\n",
    "This is an interactive exercise, so you will want to click the {fa}`rocket` and open the notebook in DataHub (or Colab for non-UCB students).\n",
    "```\n",
    "\n",
    "## Learning objectives \n",
    "\n",
    "This notebook contains a series of exercises that explore a few of the different file types that are commonly used to store materials data.\n",
    "We want to give you ample hands-on practice working with different file types so that you:\n",
    "1. Understand the advantages and disadvantages of each file format.\n",
    "1. Are prepared to work with your own datasets during self-directed research.\n",
    "1. Build comfort with and learn best practices for working with programmatic tools.\n",
    "\n",
    "We will progress through most of these exercises together as a group, and we're happy to answer any questions you may have about this content.\n",
    "\n"
   ]
  },
  {
   "cell_type": "markdown",
   "id": "12102a50",
   "metadata": {},
   "source": [
    "## Contents\n",
    "\n",
    "These exercises are grouped into the following sections:\n",
    "\n",
    "1. [Paper discussion](#Paper-discussion)\n",
    "1. [Text files](#Text-files)\n",
    "1. [JSON files](#JSON-files)\n",
    "1. [Images](#Images?)"
   ]
  },
  {
   "cell_type": "markdown",
   "id": "a1e5d9fb",
   "metadata": {},
   "source": [
    "## Paper discussion\n",
    "\n",
    "_What did people think of Kyle and Bryce's article?_"
   ]
  },
  {
   "cell_type": "markdown",
   "id": "6961eeec",
   "metadata": {},
   "source": [
    "## Text files\n",
    "\n"
   ]
  },
  {
   "cell_type": "markdown",
   "id": "3f86e27f",
   "metadata": {},
   "source": [
    "### When might this access pattern be less suitable?"
   ]
  },
  {
   "cell_type": "markdown",
   "id": "b739f56c",
   "metadata": {},
   "source": [
    "### Sneak peek at CSVs"
   ]
  },
  {
   "cell_type": "markdown",
   "id": "47495b27",
   "metadata": {},
   "source": [
    "## JSON files"
   ]
  },
  {
   "cell_type": "markdown",
   "id": "cf310016",
   "metadata": {},
   "source": [
    "### Versatility\n",
    "\n",
    "You're currently reading a JSON file! 😉"
   ]
  },
  {
   "cell_type": "markdown",
   "id": "40a9bd1e",
   "metadata": {},
   "source": [
    "## Images?"
   ]
  },
  {
   "cell_type": "markdown",
   "id": "d479a656",
   "metadata": {},
   "source": [
    "## When files simply aren't enough\n",
    "\n",
    "This calls for **databases**!\n",
    "Stay tuned for more. 🙂"
   ]
  },
  {
   "cell_type": "markdown",
   "id": "31248ac1",
   "metadata": {},
   "source": [
    "## Conclusion\n",
    "\n",
    "Congratulations on making it to the end! 🎉👏\n",
    "\n",
    "There is a lot of information that we covered in this notebook, so it's totally reasonable if not everything clicked right away and you find yourself needing to revist these concepts.\n",
    "\n",
    "Please don't hesitate to reach out on Slack if you have questions or concerns."
   ]
  }
 ],
 "metadata": {
  "kernelspec": {
   "display_name": "Python 3",
   "language": "python",
   "name": "python3"
  },
  "language_info": {
   "codemirror_mode": {
    "name": "ipython",
    "version": 3
   },
   "file_extension": ".py",
   "mimetype": "text/x-python",
   "name": "python",
   "nbconvert_exporter": "python",
   "pygments_lexer": "ipython3",
   "version": "3.8.5"
  },
  "toc": {
   "base_numbering": 1,
   "nav_menu": {},
   "number_sections": false,
   "sideBar": true,
   "skip_h1_title": true,
   "title_cell": "Table of Contents",
   "title_sidebar": "Contents",
   "toc_cell": false,
   "toc_position": {},
   "toc_section_display": true,
   "toc_window_display": false
  }
 },
 "nbformat": 4,
 "nbformat_minor": 5
}
