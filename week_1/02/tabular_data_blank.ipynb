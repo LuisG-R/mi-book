{
 "cells": [
  {
   "cell_type": "markdown",
   "id": "5334554e",
   "metadata": {},
   "source": [
    "# Tabular data\n",
    "\n",
    "*Authors: Enze Chen and Mark Asta (University of California, Berkeley)*\n",
    "\n",
    "```{note}\n",
    "This is an interactive exercise, so you will want to click the {fa}`rocket` and open the notebook in DataHub (or Colab for non-UCB students).\n",
    "```\n",
    "\n",
    "## Learning objectives\n",
    "\n",
    "This notebook contains a series of exercises that explore tabular data and [the pandas package](https://pandas.pydata.org/).\n",
    "We hope that after going through these exercises, you will be prepared to:\n",
    "1. Follow best practices for structuring data into a tabular format.\n",
    "1. Use pandas and other programmatic tools to operate tabular data.\n",
    "1. Perform some [exploratory data analysis (EDA)](https://en.wikipedia.org/wiki/Exploratory_data_analysis) to gain insights about your data.\n",
    "\n"
   ]
  },
  {
   "cell_type": "markdown",
   "id": "0dd18ab7",
   "metadata": {},
   "source": [
    "## Contents\n",
    "\n",
    "These exercises are grouped into the following sections:\n",
    "\n",
    "1. [CSV files](#CSV-files)\n",
    "1. [pandas!](#pandas!)\n",
    "1. [Formatting tabular data](#Formatting-tabular-data)\n",
    "1. [Procuring tabular data](#Procuring-tabular-data)"
   ]
  },
  {
   "cell_type": "markdown",
   "id": "8c4457f4",
   "metadata": {},
   "source": [
    "## CSV files\n",
    "\n",
    "[Back to top](#Contents)\n",
    "\n",
    "In the previous exercise, we came across a CSV file with the following data:\n",
    "```\n",
    "# Data obtained from Wikipedia\n",
    "Element,Number,Mohs hardness,Density (g/cc)\n",
    "lithium,3,0.6,0.534\n",
    "beryllium,4,5.5,1.85\n",
    "boron,5,9.4,2.34\n",
    "carbon,6,10,3.513\n",
    "...\n",
    "```\n",
    "and we noted that this data had _structure_ to it (not just arbitrary text characters).\n",
    "Specifically, each row after the second has comma-separated tokens that are intuitively represented as `str`, `int`, `float`, and `float`, corresponding to the terms in the second row.\n",
    "Now, you may already know that CSV stands for \"**comma-separated values**,\" but even if you didn't know this, you probably knew that CSV files are typically opened in an application like Microsoft Excel or Google Sheets, generating a tabular representation of the data.\n",
    "It turns out that these programs are specially designed to handle CSV files by splitting the data into cells based on the presence of commas.\n",
    "They try to do this with any file that ends in `.csv`, which is why in the previous exercise we mentioned that operating systems with GUIs benefit from having the \"correct\" file extension, even though a CSV is just a plain ol' text file."
   ]
  },
  {
   "cell_type": "markdown",
   "id": "d5e536e3",
   "metadata": {},
   "source": [
    "### Wait, but what about Excel files?\n",
    "\n",
    "So if you've used Microsoft Excel, you may be familiar with their `.xls` or `.xlsx` file formats that also store tabular data.\n",
    "In fact, if you've ever modified a `.csv` file in Excel and then tried to save it, you may have even seen a warning informing you that you should save the data as an Excel file to avoid loss of information (such as preservation of formulas, having multiple sheets in one file, etc.).\n",
    "While some of these Excel features are nice, the file format is less so, and can be _quite difficult_ to process programmatically and is often **not cross-platform compatible** (even Windows vs. Mac versions of Excel can conflict with each other!), which is not a good practice in informatics.\n",
    "Therefore, we recommend that you do yourselves (and everyone else) a favor and, at least for this module, choose to store tabular data in CSV instead of native Excel."
   ]
  },
  {
   "cell_type": "markdown",
   "id": "2301c74a",
   "metadata": {},
   "source": [
    "### Why do we want tabular data?\n",
    "\n",
    "CSV data are typically rendered in tabular form to easily identify the association between variables, whether we're associating all the values in a row, or the value at a particular row-column location.\n",
    "They provide a concise summary of the data, without using many words, so that general trends can be surfaced at a glance.\n",
    "We can quickly perform statistical analyses of groups (i.e., columns) of data, which you may have done with the `=AVERAGE()` or `=SUM()` functions in Excel.\n",
    "It's also easy to create data visualizations when data are in a table, such as plotting $y$-values against $x$-values, and we'll see more examples of this tomorrow!\n",
    "\n",
    "While there are many more advantages (and disadvantages!) one could list for tabular data, we still have yet to discuss how to _get_ our data into a table so that we can access these benefits.\n",
    "In the previous notebook, we tried reading in the above file as a list of lists and as a NumPy array, which gave\n",
    "```\n",
    "[['lithium', 3, 0.6, 0.534],\n",
    " ['beryllium', 4, 5.5, 1.85],\n",
    " ['boron', 5, 9.4, 2.34],\n",
    " ['carbon', 6, 10.0, 3.513],\n",
    " ...\n",
    "]\n",
    "```\n",
    "and\n",
    "```\n",
    "array([['lithium', '3', '0.6', '0.534'],\n",
    "       ['beryllium', '4', '5.5', '1.85'],\n",
    "       ['boron', '5', '9.4', '2.34'],\n",
    "       ['carbon', '6', '10.0', '3.513'],\n",
    "       ...\n",
    "      ])\n",
    "```\n",
    "respectively.\n",
    "Neither seem like great options, as the former is tricky to take vertical slices of and the latter is all strings.\n",
    "Moreover, it took a few lines of Python to even get the data loaded in the first place, which seems clunky. 😓\n",
    "Motivated by our experience with JSON files, it would be great if we could load in _the entire file_ into a tabular form that preserves individual data types in each column..."
   ]
  },
  {
   "cell_type": "markdown",
   "id": "6eb5088a",
   "metadata": {},
   "source": [
    "## pandas!\n",
    "\n",
    "[Back to top](#Contents)\n",
    "\n",
    "![pandas](../../assets/fig/week_1/02/pandas.png)\n",
    "\n",
    "Luckily, our furry friends from the East 🐼 have heard our pleas and are here to save the day! ...kinda.\n",
    "\n",
    "[`pandas`](https://pandas.pydata.org/) is Python package developed in 2008 by [Wes McKinney](https://wesmckinney.com/) to facilitate data analysis and it has since become one of the most widely used packages in the Python community.\n",
    "The name is cleverly derived from \"[panel data](https://en.wikipedia.org/wiki/Panel_data),\" which is a phrase from econometrics for \"multi-dimensional time series\" and is the context for which pandas was first developed.\n",
    "pandas is built on top of [NumPy](https://numpy.org/), so there are many aspects of it that you should already be familiar with!"
   ]
  },
  {
   "cell_type": "markdown",
   "id": "45f8e01d",
   "metadata": {},
   "source": [
    "### `DataFrame` and `Series`\n",
    "\n",
    "At the heart of pandas lies two data structures for all of your informatics needs.\n",
    "- The [`DataFrame`](https://pandas.pydata.org/docs/reference/api/pandas.DataFrame.html) follows our conventional notion of a spreadsheet for 2D tabular data. \n",
    "Note that a DataFrame is for 2D data **only** and does not work for lower or higher dimensions (unlike NumPy arrays).\n",
    "They feature row and column labels for intelligent indexing and they support **heterogeneously-typed columns**. 🙌\n",
    "- Each column of a DataFrame is a [`Series`](https://pandas.pydata.org/docs/reference/api/pandas.Series.html), which is a 1D array with axis labels.\n",
    "Note that a Series is _homogeneously-typed_."
   ]
  },
  {
   "cell_type": "markdown",
   "id": "11623942",
   "metadata": {},
   "source": [
    "#### `DataFrame` constructor\n",
    "\n",
    "The best way to learn is by doing, so let's go ahead and use pandas to construct a DataFrame.\n",
    "\n",
    "The community standard is to import `pandas` with the `pd` alias (similar to `np` for `numpy`), so it's best practice to stick with this.\n",
    "Or else people will look at you like 🤨.\n",
    "\n",
    "There are many ways to create DataFrames, but with the [`DataFrame()` constructor](https://pandas.pydata.org/docs/reference/api/pandas.DataFrame.html) you will likely use one of two methods:\n",
    "- `pd.DataFrame(dict)`, where `dict` is a dictionary of `str:list` pairs that correspond to the name and values in each column.\n",
    "- `pd.DataFrame(arr, columns=col_names)`, where `arr` is a 2D NumPy array or list of lists and `col_names` are the names you want to assign each column.\n",
    "\n",
    "Let's see this in practice."
   ]
  },
  {
   "cell_type": "code",
   "execution_count": 13,
   "id": "50fad12f",
   "metadata": {},
   "outputs": [
    {
     "name": "stdout",
     "output_type": "stream",
     "text": [
      "  symbol  number   mass\n",
      "0      H       1  1.008\n",
      "1     He       2  4.003\n",
      "2     Li       3  6.941\n"
     ]
    },
    {
     "data": {
      "text/html": [
       "<div>\n",
       "<style scoped>\n",
       "    .dataframe tbody tr th:only-of-type {\n",
       "        vertical-align: middle;\n",
       "    }\n",
       "\n",
       "    .dataframe tbody tr th {\n",
       "        vertical-align: top;\n",
       "    }\n",
       "\n",
       "    .dataframe thead th {\n",
       "        text-align: right;\n",
       "    }\n",
       "</style>\n",
       "<table border=\"1\" class=\"dataframe\">\n",
       "  <thead>\n",
       "    <tr style=\"text-align: right;\">\n",
       "      <th></th>\n",
       "      <th>symbol</th>\n",
       "      <th>number</th>\n",
       "      <th>mass</th>\n",
       "    </tr>\n",
       "  </thead>\n",
       "  <tbody>\n",
       "    <tr>\n",
       "      <th>0</th>\n",
       "      <td>H</td>\n",
       "      <td>1</td>\n",
       "      <td>1.008</td>\n",
       "    </tr>\n",
       "    <tr>\n",
       "      <th>1</th>\n",
       "      <td>He</td>\n",
       "      <td>2</td>\n",
       "      <td>4.003</td>\n",
       "    </tr>\n",
       "    <tr>\n",
       "      <th>2</th>\n",
       "      <td>Li</td>\n",
       "      <td>3</td>\n",
       "      <td>6.941</td>\n",
       "    </tr>\n",
       "  </tbody>\n",
       "</table>\n",
       "</div>"
      ],
      "text/plain": [
       "  symbol  number   mass\n",
       "0      H       1  1.008\n",
       "1     He       2  4.003\n",
       "2     Li       3  6.941"
      ]
     },
     "execution_count": 13,
     "metadata": {},
     "output_type": "execute_result"
    }
   ],
   "source": [
    "import pandas as pd    # note alias\n",
    "\n",
    "# Create a DataFrame from dict\n",
    "df_dict = pd.DataFrame({     # we split onto many lines for ease of reading\n",
    "    'symbol': ['H', 'He', 'Li'],\n",
    "    'number': [1, 2, 3],\n",
    "    'mass': [1.008, 4.003, 6.941]\n",
    "})\n",
    "print(df_dict)\n",
    "\n",
    "# Create the same DataFrame from list of lists\n",
    "df_list = pd.DataFrame([['H', 1, 1.008], ['He', 2, 4.003], ['Li', 3, 6.941]],\n",
    "                       columns=['symbol', 'number', 'mass'])\n",
    "df_list    # in Jupyter notebooks, DataFrames have a pretty display (compare to print above)"
   ]
  },
  {
   "cell_type": "markdown",
   "id": "3e5675f1",
   "metadata": {},
   "source": [
    "Using the constructor directly is a common approach when you're trying to create a DataFrame from non-tabular data sources, so you might see yourself using this method in your own work if you're scraping together data from text files or databases.\n",
    "\n",
    "But what if your data source is a CSV file that's already nicely formatted for you?\n",
    "As with our first example in this notebook, it would be nice if we could directly use that structure and express it in Python.\n",
    "To do this, we will use the [`pd.read_csv()`](https://pandas.pydata.org/docs/reference/api/pandas.read_csv.html) function which does exactly as the name describes.\n",
    "This function, as you can see from the documentation, has _a bajillion_ input arguments that we don't have time to cover today, so we'll describe just a few here:\n",
    "- `filepath_or_buffer`: The only required argument, which is the file you're trying to read in.\n",
    "- `sep`: The character separating your data tokens.\n",
    "Default is comma (`','`), but you can change this to be space (`' '`), tab (`'\\t'`), etc.\n",
    "- `header`: Which row to read column headers from. \n",
    "Default is the first row.\n",
    "- `names`: If you would like to rename your columns.\n",
    "This list cannot have duplicates.\n",
    "- `skiprows`: Extremely useful if there are lines of comments and extra text in the file that you want to avoid reading.\n",
    "- `nrows`: Useful if your file is very large, or your data stops before reaching the end of the file (e.g., there's footer text in the file)."
   ]
  },
  {
   "cell_type": "markdown",
   "id": "e0969233",
   "metadata": {},
   "source": [
    "#### Reading in a CSV file\n",
    "\n",
    "Let's use `pd.read_csv()` to read in our `hardness_density.csv` file!\n",
    "We'll save the DataFrame into a variable called `df`. \n",
    "This isn't great practice because our variable names should be descriptive, but for this tutorial it's an easy reminder of what we're working with and save our fingers some work.\n",
    "We'll also rename the column names to be:\n",
    "```python\n",
    "['element', 'number', 'hardness', 'density']\n",
    "```\n",
    "which can do if we set `header=0`."
   ]
  },
  {
   "cell_type": "code",
   "execution_count": 14,
   "id": "4713ad68",
   "metadata": {
    "scrolled": true
   },
   "outputs": [
    {
     "data": {
      "text/html": [
       "<div>\n",
       "<style scoped>\n",
       "    .dataframe tbody tr th:only-of-type {\n",
       "        vertical-align: middle;\n",
       "    }\n",
       "\n",
       "    .dataframe tbody tr th {\n",
       "        vertical-align: top;\n",
       "    }\n",
       "\n",
       "    .dataframe thead th {\n",
       "        text-align: right;\n",
       "    }\n",
       "</style>\n",
       "<table border=\"1\" class=\"dataframe\">\n",
       "  <thead>\n",
       "    <tr style=\"text-align: right;\">\n",
       "      <th></th>\n",
       "      <th>element</th>\n",
       "      <th>number</th>\n",
       "      <th>hardness</th>\n",
       "      <th>density</th>\n",
       "    </tr>\n",
       "  </thead>\n",
       "  <tbody>\n",
       "    <tr>\n",
       "      <th>0</th>\n",
       "      <td>lithium</td>\n",
       "      <td>3</td>\n",
       "      <td>0.60</td>\n",
       "      <td>0.534</td>\n",
       "    </tr>\n",
       "    <tr>\n",
       "      <th>1</th>\n",
       "      <td>beryllium</td>\n",
       "      <td>4</td>\n",
       "      <td>5.50</td>\n",
       "      <td>1.850</td>\n",
       "    </tr>\n",
       "    <tr>\n",
       "      <th>2</th>\n",
       "      <td>boron</td>\n",
       "      <td>5</td>\n",
       "      <td>9.40</td>\n",
       "      <td>2.340</td>\n",
       "    </tr>\n",
       "    <tr>\n",
       "      <th>3</th>\n",
       "      <td>carbon</td>\n",
       "      <td>6</td>\n",
       "      <td>10.00</td>\n",
       "      <td>3.513</td>\n",
       "    </tr>\n",
       "    <tr>\n",
       "      <th>4</th>\n",
       "      <td>sodium</td>\n",
       "      <td>11</td>\n",
       "      <td>0.50</td>\n",
       "      <td>0.968</td>\n",
       "    </tr>\n",
       "    <tr>\n",
       "      <th>5</th>\n",
       "      <td>magnesium</td>\n",
       "      <td>12</td>\n",
       "      <td>2.50</td>\n",
       "      <td>1.738</td>\n",
       "    </tr>\n",
       "    <tr>\n",
       "      <th>6</th>\n",
       "      <td>aluminium</td>\n",
       "      <td>13</td>\n",
       "      <td>2.75</td>\n",
       "      <td>2.700</td>\n",
       "    </tr>\n",
       "    <tr>\n",
       "      <th>7</th>\n",
       "      <td>silicon</td>\n",
       "      <td>14</td>\n",
       "      <td>6.50</td>\n",
       "      <td>2.330</td>\n",
       "    </tr>\n",
       "    <tr>\n",
       "      <th>8</th>\n",
       "      <td>sulfur</td>\n",
       "      <td>16</td>\n",
       "      <td>2.00</td>\n",
       "      <td>2.080</td>\n",
       "    </tr>\n",
       "    <tr>\n",
       "      <th>9</th>\n",
       "      <td>potassium</td>\n",
       "      <td>19</td>\n",
       "      <td>0.40</td>\n",
       "      <td>0.890</td>\n",
       "    </tr>\n",
       "    <tr>\n",
       "      <th>10</th>\n",
       "      <td>calcium</td>\n",
       "      <td>20</td>\n",
       "      <td>1.75</td>\n",
       "      <td>1.550</td>\n",
       "    </tr>\n",
       "    <tr>\n",
       "      <th>11</th>\n",
       "      <td>titanium</td>\n",
       "      <td>22</td>\n",
       "      <td>6.00</td>\n",
       "      <td>4.506</td>\n",
       "    </tr>\n",
       "    <tr>\n",
       "      <th>12</th>\n",
       "      <td>vanadium</td>\n",
       "      <td>23</td>\n",
       "      <td>7.00</td>\n",
       "      <td>6.110</td>\n",
       "    </tr>\n",
       "    <tr>\n",
       "      <th>13</th>\n",
       "      <td>chromium</td>\n",
       "      <td>24</td>\n",
       "      <td>8.50</td>\n",
       "      <td>7.150</td>\n",
       "    </tr>\n",
       "    <tr>\n",
       "      <th>14</th>\n",
       "      <td>manganese</td>\n",
       "      <td>25</td>\n",
       "      <td>6.00</td>\n",
       "      <td>7.210</td>\n",
       "    </tr>\n",
       "    <tr>\n",
       "      <th>15</th>\n",
       "      <td>iron</td>\n",
       "      <td>26</td>\n",
       "      <td>4.00</td>\n",
       "      <td>7.860</td>\n",
       "    </tr>\n",
       "    <tr>\n",
       "      <th>16</th>\n",
       "      <td>cobalt</td>\n",
       "      <td>27</td>\n",
       "      <td>5.00</td>\n",
       "      <td>8.900</td>\n",
       "    </tr>\n",
       "    <tr>\n",
       "      <th>17</th>\n",
       "      <td>nickel</td>\n",
       "      <td>28</td>\n",
       "      <td>4.00</td>\n",
       "      <td>8.908</td>\n",
       "    </tr>\n",
       "    <tr>\n",
       "      <th>18</th>\n",
       "      <td>copper</td>\n",
       "      <td>29</td>\n",
       "      <td>3.00</td>\n",
       "      <td>8.960</td>\n",
       "    </tr>\n",
       "    <tr>\n",
       "      <th>19</th>\n",
       "      <td>zinc</td>\n",
       "      <td>30</td>\n",
       "      <td>2.50</td>\n",
       "      <td>7.140</td>\n",
       "    </tr>\n",
       "    <tr>\n",
       "      <th>20</th>\n",
       "      <td>gallium</td>\n",
       "      <td>31</td>\n",
       "      <td>1.50</td>\n",
       "      <td>5.910</td>\n",
       "    </tr>\n",
       "    <tr>\n",
       "      <th>21</th>\n",
       "      <td>germanium</td>\n",
       "      <td>32</td>\n",
       "      <td>6.00</td>\n",
       "      <td>5.323</td>\n",
       "    </tr>\n",
       "    <tr>\n",
       "      <th>22</th>\n",
       "      <td>arsenic</td>\n",
       "      <td>33</td>\n",
       "      <td>3.50</td>\n",
       "      <td>5.727</td>\n",
       "    </tr>\n",
       "    <tr>\n",
       "      <th>23</th>\n",
       "      <td>selenium</td>\n",
       "      <td>34</td>\n",
       "      <td>2.00</td>\n",
       "      <td>4.810</td>\n",
       "    </tr>\n",
       "    <tr>\n",
       "      <th>24</th>\n",
       "      <td>rubidium</td>\n",
       "      <td>37</td>\n",
       "      <td>0.30</td>\n",
       "      <td>1.532</td>\n",
       "    </tr>\n",
       "    <tr>\n",
       "      <th>25</th>\n",
       "      <td>strontium</td>\n",
       "      <td>38</td>\n",
       "      <td>1.50</td>\n",
       "      <td>2.640</td>\n",
       "    </tr>\n",
       "    <tr>\n",
       "      <th>26</th>\n",
       "      <td>zirconium</td>\n",
       "      <td>40</td>\n",
       "      <td>5.00</td>\n",
       "      <td>6.520</td>\n",
       "    </tr>\n",
       "    <tr>\n",
       "      <th>27</th>\n",
       "      <td>niobium</td>\n",
       "      <td>41</td>\n",
       "      <td>6.00</td>\n",
       "      <td>8.570</td>\n",
       "    </tr>\n",
       "    <tr>\n",
       "      <th>28</th>\n",
       "      <td>molybdenum</td>\n",
       "      <td>42</td>\n",
       "      <td>5.50</td>\n",
       "      <td>10.280</td>\n",
       "    </tr>\n",
       "    <tr>\n",
       "      <th>29</th>\n",
       "      <td>ruthenium</td>\n",
       "      <td>44</td>\n",
       "      <td>6.50</td>\n",
       "      <td>12.450</td>\n",
       "    </tr>\n",
       "    <tr>\n",
       "      <th>30</th>\n",
       "      <td>rhodium</td>\n",
       "      <td>45</td>\n",
       "      <td>6.00</td>\n",
       "      <td>12.410</td>\n",
       "    </tr>\n",
       "    <tr>\n",
       "      <th>31</th>\n",
       "      <td>palladium</td>\n",
       "      <td>46</td>\n",
       "      <td>4.75</td>\n",
       "      <td>12.023</td>\n",
       "    </tr>\n",
       "    <tr>\n",
       "      <th>32</th>\n",
       "      <td>silver</td>\n",
       "      <td>47</td>\n",
       "      <td>2.50</td>\n",
       "      <td>10.490</td>\n",
       "    </tr>\n",
       "    <tr>\n",
       "      <th>33</th>\n",
       "      <td>cadmium</td>\n",
       "      <td>48</td>\n",
       "      <td>2.00</td>\n",
       "      <td>8.650</td>\n",
       "    </tr>\n",
       "    <tr>\n",
       "      <th>34</th>\n",
       "      <td>indium</td>\n",
       "      <td>49</td>\n",
       "      <td>1.20</td>\n",
       "      <td>7.310</td>\n",
       "    </tr>\n",
       "    <tr>\n",
       "      <th>35</th>\n",
       "      <td>tin</td>\n",
       "      <td>50</td>\n",
       "      <td>1.50</td>\n",
       "      <td>7.265</td>\n",
       "    </tr>\n",
       "  </tbody>\n",
       "</table>\n",
       "</div>"
      ],
      "text/plain": [
       "       element  number  hardness  density\n",
       "0      lithium       3      0.60    0.534\n",
       "1    beryllium       4      5.50    1.850\n",
       "2        boron       5      9.40    2.340\n",
       "3       carbon       6     10.00    3.513\n",
       "4       sodium      11      0.50    0.968\n",
       "5    magnesium      12      2.50    1.738\n",
       "6    aluminium      13      2.75    2.700\n",
       "7      silicon      14      6.50    2.330\n",
       "8       sulfur      16      2.00    2.080\n",
       "9    potassium      19      0.40    0.890\n",
       "10     calcium      20      1.75    1.550\n",
       "11    titanium      22      6.00    4.506\n",
       "12    vanadium      23      7.00    6.110\n",
       "13    chromium      24      8.50    7.150\n",
       "14   manganese      25      6.00    7.210\n",
       "15        iron      26      4.00    7.860\n",
       "16      cobalt      27      5.00    8.900\n",
       "17      nickel      28      4.00    8.908\n",
       "18      copper      29      3.00    8.960\n",
       "19        zinc      30      2.50    7.140\n",
       "20     gallium      31      1.50    5.910\n",
       "21   germanium      32      6.00    5.323\n",
       "22     arsenic      33      3.50    5.727\n",
       "23    selenium      34      2.00    4.810\n",
       "24    rubidium      37      0.30    1.532\n",
       "25   strontium      38      1.50    2.640\n",
       "26   zirconium      40      5.00    6.520\n",
       "27     niobium      41      6.00    8.570\n",
       "28  molybdenum      42      5.50   10.280\n",
       "29   ruthenium      44      6.50   12.450\n",
       "30     rhodium      45      6.00   12.410\n",
       "31   palladium      46      4.75   12.023\n",
       "32      silver      47      2.50   10.490\n",
       "33     cadmium      48      2.00    8.650\n",
       "34      indium      49      1.20    7.310\n",
       "35         tin      50      1.50    7.265"
      ]
     },
     "execution_count": 14,
     "metadata": {},
     "output_type": "execute_result"
    }
   ],
   "source": [
    "df = pd.read_csv('../../assets/data/week_1/02/hardness_density.csv', sep=',', skiprows=1, \n",
    "                 header=0, names=['element', 'number', 'hardness', 'density'])   # we rename for simplicity\n",
    "df"
   ]
  },
  {
   "cell_type": "markdown",
   "id": "a6fca096",
   "metadata": {},
   "source": [
    "And there's all of our data!\n",
    "That was pretty efficient.\n",
    "To see all of the input/output functions available to you, we point you to [the documentation](https://pandas.pydata.org/docs/reference/io.html)."
   ]
  },
  {
   "cell_type": "markdown",
   "id": "833b9f4a",
   "metadata": {},
   "source": [
    "### Working with DataFrames\n",
    "\n",
    "We got our data into a DataFrame! Now what?\n",
    "\n",
    "Well, **now the fun begins**. 😄\n",
    "Note: A lot of the following discussion is centered around DataFrames, but many of the attributes/methods apply to Series as well.\n",
    "\n",
    "The first thing you might be interested in is the size of your data (DataFrame).\n",
    "We can access that using the [`df.shape`](https://pandas.pydata.org/docs/reference/api/pandas.DataFrame.shape.html) _attribute_.\n",
    "Again, attributes in Python don't have parentheses; only methods (i.e., functions) do!"
   ]
  },
  {
   "cell_type": "code",
   "execution_count": 15,
   "id": "5eae8ce1",
   "metadata": {},
   "outputs": [
    {
     "data": {
      "text/plain": [
       "(36, 4)"
      ]
     },
     "execution_count": 15,
     "metadata": {},
     "output_type": "execute_result"
    }
   ],
   "source": [
    "df.shape"
   ]
  },
  {
   "cell_type": "markdown",
   "id": "5384db24",
   "metadata": {},
   "source": [
    "Not bad, just like NumPy. 😉\n",
    "Note that the column name/header is _not_ part of the \"data itself,\" which probably aligns with your intuition and we're just pointing it out for good measure.\n",
    "\n",
    "**Pause and reflect**: What does the related attribute `df.size` do?\n",
    "\n",
    "---\n",
    "\n",
    "If you just want the list of column names, you can get (and set!) them using the `df.columns` attribute."
   ]
  },
  {
   "cell_type": "code",
   "execution_count": 16,
   "id": "b6cbb660",
   "metadata": {},
   "outputs": [
    {
     "data": {
      "text/plain": [
       "Index(['element', 'number', 'hardness', 'density'], dtype='object')"
      ]
     },
     "execution_count": 16,
     "metadata": {},
     "output_type": "execute_result"
    }
   ],
   "source": [
    "df.columns"
   ]
  },
  {
   "cell_type": "markdown",
   "id": "18c72bb6",
   "metadata": {},
   "source": [
    "How about the data types in the DataFrame?\n",
    "We claimed that DataFrames are heterogeneously-typed (different columns (Series) can hold different data types) but the proof is in the pudding 😋, which in this case is the [`df.info()`](https://pandas.pydata.org/docs/reference/api/pandas.DataFrame.info.html) _method_."
   ]
  },
  {
   "cell_type": "code",
   "execution_count": 17,
   "id": "490362a0",
   "metadata": {},
   "outputs": [
    {
     "name": "stdout",
     "output_type": "stream",
     "text": [
      "<class 'pandas.core.frame.DataFrame'>\n",
      "RangeIndex: 36 entries, 0 to 35\n",
      "Data columns (total 4 columns):\n",
      " #   Column    Non-Null Count  Dtype  \n",
      "---  ------    --------------  -----  \n",
      " 0   element   36 non-null     object \n",
      " 1   number    36 non-null     int64  \n",
      " 2   hardness  36 non-null     float64\n",
      " 3   density   36 non-null     float64\n",
      "dtypes: float64(2), int64(1), object(1)\n",
      "memory usage: 1.2+ KB\n"
     ]
    }
   ],
   "source": [
    "df.info()"
   ]
  },
  {
   "cell_type": "markdown",
   "id": "186e2f79",
   "metadata": {},
   "source": [
    "**Pause and reflect**: Is the above information what you would expect to see?\n",
    "\n",
    "---\n",
    "\n",
    "#### Five-number summary and exploratory data analysis\n",
    "\n",
    "When starting out with any data-driven methodology, it is a good idea to perform some elementary statistical analysis on your dataset to get a sense of the distribution, presence of outliers/holes, etc.\n",
    "This procedure is termed [**exploratory data analysis** (EDA)](https://en.wikipedia.org/wiki/Exploratory_data_analysis) and often involves generating plots of your data, so we'll be doing more of it during tomorrow's data visualization lessons.\n",
    "\n",
    "There are, however, also some simple numerical tests you can run, such as checking for `NaN` values with the `df.info()` method from above (see third column).\n",
    "Another set of descriptive statistics that is helpful to compute is the [**five-number summary**](https://en.wikipedia.org/wiki/Five-number_summary) for the percentiles in your sample.\n",
    "In pandas, we can easily do this by calling the [`df.describe()`](https://pandas.pydata.org/docs/reference/api/pandas.DataFrame.describe.html) method."
   ]
  },
  {
   "cell_type": "code",
   "execution_count": 18,
   "id": "9f380c9c",
   "metadata": {},
   "outputs": [
    {
     "data": {
      "text/html": [
       "<div>\n",
       "<style scoped>\n",
       "    .dataframe tbody tr th:only-of-type {\n",
       "        vertical-align: middle;\n",
       "    }\n",
       "\n",
       "    .dataframe tbody tr th {\n",
       "        vertical-align: top;\n",
       "    }\n",
       "\n",
       "    .dataframe thead th {\n",
       "        text-align: right;\n",
       "    }\n",
       "</style>\n",
       "<table border=\"1\" class=\"dataframe\">\n",
       "  <thead>\n",
       "    <tr style=\"text-align: right;\">\n",
       "      <th></th>\n",
       "      <th>number</th>\n",
       "      <th>hardness</th>\n",
       "      <th>density</th>\n",
       "    </tr>\n",
       "  </thead>\n",
       "  <tbody>\n",
       "    <tr>\n",
       "      <th>count</th>\n",
       "      <td>36.000000</td>\n",
       "      <td>36.000000</td>\n",
       "      <td>36.000000</td>\n",
       "    </tr>\n",
       "    <tr>\n",
       "      <th>mean</th>\n",
       "      <td>28.166667</td>\n",
       "      <td>3.990278</td>\n",
       "      <td>5.809639</td>\n",
       "    </tr>\n",
       "    <tr>\n",
       "      <th>std</th>\n",
       "      <td>14.035669</td>\n",
       "      <td>2.605730</td>\n",
       "      <td>3.536701</td>\n",
       "    </tr>\n",
       "    <tr>\n",
       "      <th>min</th>\n",
       "      <td>3.000000</td>\n",
       "      <td>0.300000</td>\n",
       "      <td>0.534000</td>\n",
       "    </tr>\n",
       "    <tr>\n",
       "      <th>25%</th>\n",
       "      <td>18.250000</td>\n",
       "      <td>1.937500</td>\n",
       "      <td>2.337500</td>\n",
       "    </tr>\n",
       "    <tr>\n",
       "      <th>50%</th>\n",
       "      <td>28.500000</td>\n",
       "      <td>3.750000</td>\n",
       "      <td>6.010000</td>\n",
       "    </tr>\n",
       "    <tr>\n",
       "      <th>75%</th>\n",
       "      <td>40.250000</td>\n",
       "      <td>6.000000</td>\n",
       "      <td>8.590000</td>\n",
       "    </tr>\n",
       "    <tr>\n",
       "      <th>max</th>\n",
       "      <td>50.000000</td>\n",
       "      <td>10.000000</td>\n",
       "      <td>12.450000</td>\n",
       "    </tr>\n",
       "  </tbody>\n",
       "</table>\n",
       "</div>"
      ],
      "text/plain": [
       "          number   hardness    density\n",
       "count  36.000000  36.000000  36.000000\n",
       "mean   28.166667   3.990278   5.809639\n",
       "std    14.035669   2.605730   3.536701\n",
       "min     3.000000   0.300000   0.534000\n",
       "25%    18.250000   1.937500   2.337500\n",
       "50%    28.500000   3.750000   6.010000\n",
       "75%    40.250000   6.000000   8.590000\n",
       "max    50.000000  10.000000  12.450000"
      ]
     },
     "execution_count": 18,
     "metadata": {},
     "output_type": "execute_result"
    }
   ],
   "source": [
    "df.describe()"
   ]
  },
  {
   "cell_type": "markdown",
   "id": "1eed9d49",
   "metadata": {},
   "source": [
    "You may have noticed that the `'element'` column was ignored because that Series has a non-numeric type.\n",
    "It is still possible to get statistics on that Series if we single it out."
   ]
  },
  {
   "cell_type": "code",
   "execution_count": 19,
   "id": "c8502cc5",
   "metadata": {},
   "outputs": [
    {
     "data": {
      "text/plain": [
       "count      36\n",
       "unique     36\n",
       "top       tin\n",
       "freq        1\n",
       "Name: element, dtype: object"
      ]
     },
     "execution_count": 19,
     "metadata": {},
     "output_type": "execute_result"
    }
   ],
   "source": [
    "df['element'].describe()   # More on indexing in a bit!"
   ]
  },
  {
   "cell_type": "markdown",
   "id": "138988f9",
   "metadata": {},
   "source": [
    "You can also calculate a specific [summary statistic](https://pandas.pydata.org/docs/getting_started/intro_tutorials/06_calculate_statistics.html) using the appropriate method (which typically has an `axis` parameter that you can specify)."
   ]
  },
  {
   "cell_type": "code",
   "execution_count": 20,
   "id": "016c46a8",
   "metadata": {},
   "outputs": [
    {
     "data": {
      "text/plain": [
       "number      28.166667\n",
       "hardness     3.990278\n",
       "density      5.809639\n",
       "dtype: float64"
      ]
     },
     "execution_count": 20,
     "metadata": {},
     "output_type": "execute_result"
    }
   ],
   "source": [
    "df.mean(axis=0)   # axis=1 gets the mean of the rows"
   ]
  },
  {
   "cell_type": "markdown",
   "id": "5e5c9ac0",
   "metadata": {},
   "source": [
    "To see the number of unique entries in a column (mostly for categorical data), we can use the [`df.nunique()`](https://pandas.pydata.org/pandas-docs/stable/reference/api/pandas.DataFrame.nunique.html) method."
   ]
  },
  {
   "cell_type": "code",
   "execution_count": 21,
   "id": "9e476245",
   "metadata": {},
   "outputs": [
    {
     "data": {
      "text/plain": [
       "element     36\n",
       "number      36\n",
       "hardness    22\n",
       "density     36\n",
       "dtype: int64"
      ]
     },
     "execution_count": 21,
     "metadata": {},
     "output_type": "execute_result"
    }
   ],
   "source": [
    "df.nunique()"
   ]
  },
  {
   "cell_type": "markdown",
   "id": "ae732e28",
   "metadata": {},
   "source": [
    "Another way to check data distribution for categorical variables is through the [`df.value_count()`](https://pandas.pydata.org/pandas-docs/stable/reference/api/pandas.DataFrame.value_counts.html) method."
   ]
  },
  {
   "cell_type": "code",
   "execution_count": 22,
   "id": "17ebe570",
   "metadata": {},
   "outputs": [
    {
     "data": {
      "text/plain": [
       "6.00     5\n",
       "1.50     3\n",
       "2.50     3\n",
       "2.00     3\n",
       "6.50     2\n",
       "5.00     2\n",
       "4.00     2\n",
       "5.50     2\n",
       "0.50     1\n",
       "1.20     1\n",
       "0.60     1\n",
       "2.75     1\n",
       "0.30     1\n",
       "8.50     1\n",
       "1.75     1\n",
       "7.00     1\n",
       "10.00    1\n",
       "0.40     1\n",
       "3.00     1\n",
       "9.40     1\n",
       "3.50     1\n",
       "4.75     1\n",
       "Name: hardness, dtype: int64"
      ]
     },
     "execution_count": 22,
     "metadata": {},
     "output_type": "execute_result"
    }
   ],
   "source": [
    "df['hardness'].value_counts()   # not super exciting because this is a real-value variable"
   ]
  },
  {
   "cell_type": "markdown",
   "id": "399cc6f4",
   "metadata": {},
   "source": [
    "#### Making heads or tails of DataFrames\n",
    "\n",
    "You may have noticed that when we display a DataFrame, we get quite a lot of rows.\n",
    "But maybe in some cases we don't really _need_ to see all the rows, which quickly fills up our Jupyter workspace.\n",
    "The [`df.head(n)`](https://pandas.pydata.org/docs/reference/api/pandas.DataFrame.head.html) method will return the first $n$ (default is `5`) rows of your DataFrame, and is commonly used to check that column headers and first few values are correctly loaded in.\n",
    "The [`df.tail(n)`](https://pandas.pydata.org/docs/reference/api/pandas.DataFrame.tail.html) method works analogously, but for the last $n$ rows."
   ]
  },
  {
   "cell_type": "code",
   "execution_count": 23,
   "id": "26e9ccfe",
   "metadata": {},
   "outputs": [
    {
     "data": {
      "text/html": [
       "<div>\n",
       "<style scoped>\n",
       "    .dataframe tbody tr th:only-of-type {\n",
       "        vertical-align: middle;\n",
       "    }\n",
       "\n",
       "    .dataframe tbody tr th {\n",
       "        vertical-align: top;\n",
       "    }\n",
       "\n",
       "    .dataframe thead th {\n",
       "        text-align: right;\n",
       "    }\n",
       "</style>\n",
       "<table border=\"1\" class=\"dataframe\">\n",
       "  <thead>\n",
       "    <tr style=\"text-align: right;\">\n",
       "      <th></th>\n",
       "      <th>element</th>\n",
       "      <th>number</th>\n",
       "      <th>hardness</th>\n",
       "      <th>density</th>\n",
       "    </tr>\n",
       "  </thead>\n",
       "  <tbody>\n",
       "    <tr>\n",
       "      <th>0</th>\n",
       "      <td>lithium</td>\n",
       "      <td>3</td>\n",
       "      <td>0.6</td>\n",
       "      <td>0.534</td>\n",
       "    </tr>\n",
       "    <tr>\n",
       "      <th>1</th>\n",
       "      <td>beryllium</td>\n",
       "      <td>4</td>\n",
       "      <td>5.5</td>\n",
       "      <td>1.850</td>\n",
       "    </tr>\n",
       "    <tr>\n",
       "      <th>2</th>\n",
       "      <td>boron</td>\n",
       "      <td>5</td>\n",
       "      <td>9.4</td>\n",
       "      <td>2.340</td>\n",
       "    </tr>\n",
       "    <tr>\n",
       "      <th>3</th>\n",
       "      <td>carbon</td>\n",
       "      <td>6</td>\n",
       "      <td>10.0</td>\n",
       "      <td>3.513</td>\n",
       "    </tr>\n",
       "    <tr>\n",
       "      <th>4</th>\n",
       "      <td>sodium</td>\n",
       "      <td>11</td>\n",
       "      <td>0.5</td>\n",
       "      <td>0.968</td>\n",
       "    </tr>\n",
       "  </tbody>\n",
       "</table>\n",
       "</div>"
      ],
      "text/plain": [
       "     element  number  hardness  density\n",
       "0    lithium       3       0.6    0.534\n",
       "1  beryllium       4       5.5    1.850\n",
       "2      boron       5       9.4    2.340\n",
       "3     carbon       6      10.0    3.513\n",
       "4     sodium      11       0.5    0.968"
      ]
     },
     "execution_count": 23,
     "metadata": {},
     "output_type": "execute_result"
    }
   ],
   "source": [
    "df.head()"
   ]
  },
  {
   "cell_type": "markdown",
   "id": "bfeaee27",
   "metadata": {},
   "source": [
    "### Exercise: display the last 10 rows of the DataFrame"
   ]
  },
  {
   "cell_type": "code",
   "execution_count": 24,
   "id": "67b77d05",
   "metadata": {},
   "outputs": [
    {
     "data": {
      "text/html": [
       "<div>\n",
       "<style scoped>\n",
       "    .dataframe tbody tr th:only-of-type {\n",
       "        vertical-align: middle;\n",
       "    }\n",
       "\n",
       "    .dataframe tbody tr th {\n",
       "        vertical-align: top;\n",
       "    }\n",
       "\n",
       "    .dataframe thead th {\n",
       "        text-align: right;\n",
       "    }\n",
       "</style>\n",
       "<table border=\"1\" class=\"dataframe\">\n",
       "  <thead>\n",
       "    <tr style=\"text-align: right;\">\n",
       "      <th></th>\n",
       "      <th>element</th>\n",
       "      <th>number</th>\n",
       "      <th>hardness</th>\n",
       "      <th>density</th>\n",
       "    </tr>\n",
       "  </thead>\n",
       "  <tbody>\n",
       "    <tr>\n",
       "      <th>26</th>\n",
       "      <td>zirconium</td>\n",
       "      <td>40</td>\n",
       "      <td>5.00</td>\n",
       "      <td>6.520</td>\n",
       "    </tr>\n",
       "    <tr>\n",
       "      <th>27</th>\n",
       "      <td>niobium</td>\n",
       "      <td>41</td>\n",
       "      <td>6.00</td>\n",
       "      <td>8.570</td>\n",
       "    </tr>\n",
       "    <tr>\n",
       "      <th>28</th>\n",
       "      <td>molybdenum</td>\n",
       "      <td>42</td>\n",
       "      <td>5.50</td>\n",
       "      <td>10.280</td>\n",
       "    </tr>\n",
       "    <tr>\n",
       "      <th>29</th>\n",
       "      <td>ruthenium</td>\n",
       "      <td>44</td>\n",
       "      <td>6.50</td>\n",
       "      <td>12.450</td>\n",
       "    </tr>\n",
       "    <tr>\n",
       "      <th>30</th>\n",
       "      <td>rhodium</td>\n",
       "      <td>45</td>\n",
       "      <td>6.00</td>\n",
       "      <td>12.410</td>\n",
       "    </tr>\n",
       "    <tr>\n",
       "      <th>31</th>\n",
       "      <td>palladium</td>\n",
       "      <td>46</td>\n",
       "      <td>4.75</td>\n",
       "      <td>12.023</td>\n",
       "    </tr>\n",
       "    <tr>\n",
       "      <th>32</th>\n",
       "      <td>silver</td>\n",
       "      <td>47</td>\n",
       "      <td>2.50</td>\n",
       "      <td>10.490</td>\n",
       "    </tr>\n",
       "    <tr>\n",
       "      <th>33</th>\n",
       "      <td>cadmium</td>\n",
       "      <td>48</td>\n",
       "      <td>2.00</td>\n",
       "      <td>8.650</td>\n",
       "    </tr>\n",
       "    <tr>\n",
       "      <th>34</th>\n",
       "      <td>indium</td>\n",
       "      <td>49</td>\n",
       "      <td>1.20</td>\n",
       "      <td>7.310</td>\n",
       "    </tr>\n",
       "    <tr>\n",
       "      <th>35</th>\n",
       "      <td>tin</td>\n",
       "      <td>50</td>\n",
       "      <td>1.50</td>\n",
       "      <td>7.265</td>\n",
       "    </tr>\n",
       "  </tbody>\n",
       "</table>\n",
       "</div>"
      ],
      "text/plain": [
       "       element  number  hardness  density\n",
       "26   zirconium      40      5.00    6.520\n",
       "27     niobium      41      6.00    8.570\n",
       "28  molybdenum      42      5.50   10.280\n",
       "29   ruthenium      44      6.50   12.450\n",
       "30     rhodium      45      6.00   12.410\n",
       "31   palladium      46      4.75   12.023\n",
       "32      silver      47      2.50   10.490\n",
       "33     cadmium      48      2.00    8.650\n",
       "34      indium      49      1.20    7.310\n",
       "35         tin      50      1.50    7.265"
      ]
     },
     "execution_count": 24,
     "metadata": {},
     "output_type": "execute_result"
    }
   ],
   "source": [
    "# -------------   WRITE YOUR CODE IN THE SPACE BELOW   ---------- #\n"
   ]
  },
  {
   "cell_type": "markdown",
   "id": "476216d0",
   "metadata": {},
   "source": [
    "There will also be times where you _do_ want to see more columns and rows than what Jupyter allows by default.\n",
    "In those cases, we point you to use the suggestion in [this Stack Overflow post](https://stackoverflow.com/questions/11707586/how-do-i-expand-the-output-display-to-see-more-columns-of-a-pandas-dataframe).\n",
    "Don't worry—it's a safe practice, we're just making you work for your meal. 😁\n",
    "\n",
    "We can also **sort** the values in a DataFrame using the [`df.sort_values()`](https://pandas.pydata.org/pandas-docs/stable/reference/api/pandas.DataFrame.sort_values.html) method, which takes a single string or a list of strings for the columns we want to sort by.\n",
    "A copy of those values is then returned."
   ]
  },
  {
   "cell_type": "code",
   "execution_count": 25,
   "id": "d00d23ac",
   "metadata": {},
   "outputs": [
    {
     "data": {
      "text/html": [
       "<div>\n",
       "<style scoped>\n",
       "    .dataframe tbody tr th:only-of-type {\n",
       "        vertical-align: middle;\n",
       "    }\n",
       "\n",
       "    .dataframe tbody tr th {\n",
       "        vertical-align: top;\n",
       "    }\n",
       "\n",
       "    .dataframe thead th {\n",
       "        text-align: right;\n",
       "    }\n",
       "</style>\n",
       "<table border=\"1\" class=\"dataframe\">\n",
       "  <thead>\n",
       "    <tr style=\"text-align: right;\">\n",
       "      <th></th>\n",
       "      <th>element</th>\n",
       "      <th>number</th>\n",
       "      <th>hardness</th>\n",
       "      <th>density</th>\n",
       "    </tr>\n",
       "  </thead>\n",
       "  <tbody>\n",
       "    <tr>\n",
       "      <th>0</th>\n",
       "      <td>lithium</td>\n",
       "      <td>3</td>\n",
       "      <td>0.60</td>\n",
       "      <td>0.534</td>\n",
       "    </tr>\n",
       "    <tr>\n",
       "      <th>9</th>\n",
       "      <td>potassium</td>\n",
       "      <td>19</td>\n",
       "      <td>0.40</td>\n",
       "      <td>0.890</td>\n",
       "    </tr>\n",
       "    <tr>\n",
       "      <th>4</th>\n",
       "      <td>sodium</td>\n",
       "      <td>11</td>\n",
       "      <td>0.50</td>\n",
       "      <td>0.968</td>\n",
       "    </tr>\n",
       "    <tr>\n",
       "      <th>24</th>\n",
       "      <td>rubidium</td>\n",
       "      <td>37</td>\n",
       "      <td>0.30</td>\n",
       "      <td>1.532</td>\n",
       "    </tr>\n",
       "    <tr>\n",
       "      <th>10</th>\n",
       "      <td>calcium</td>\n",
       "      <td>20</td>\n",
       "      <td>1.75</td>\n",
       "      <td>1.550</td>\n",
       "    </tr>\n",
       "  </tbody>\n",
       "</table>\n",
       "</div>"
      ],
      "text/plain": [
       "      element  number  hardness  density\n",
       "0     lithium       3      0.60    0.534\n",
       "9   potassium      19      0.40    0.890\n",
       "4      sodium      11      0.50    0.968\n",
       "24   rubidium      37      0.30    1.532\n",
       "10    calcium      20      1.75    1.550"
      ]
     },
     "execution_count": 25,
     "metadata": {},
     "output_type": "execute_result"
    }
   ],
   "source": [
    "df.sort_values('density').head()"
   ]
  },
  {
   "cell_type": "markdown",
   "id": "09ad72cb",
   "metadata": {},
   "source": [
    "### Indexing and slicing a DataFrame\n",
    "\n",
    "There are many ways to [index into a DataFrame](https://pandas.pydata.org/docs/user_guide/indexing.html) and slice it to get subsets of your data.\n",
    "If we want to get the data in a particular column, we can get the Series using the column name, much like how we would use the key in a dictionary:"
   ]
  },
  {
   "cell_type": "code",
   "execution_count": 26,
   "id": "5ef34e54",
   "metadata": {},
   "outputs": [
    {
     "name": "stdout",
     "output_type": "stream",
     "text": [
      "<class 'pandas.core.series.Series'>\n",
      "Shape: (36,)\n"
     ]
    },
    {
     "data": {
      "text/plain": [
       "0     0.6\n",
       "1     5.5\n",
       "2     9.4\n",
       "3    10.0\n",
       "4     0.5\n",
       "Name: hardness, dtype: float64"
      ]
     },
     "execution_count": 26,
     "metadata": {},
     "output_type": "execute_result"
    }
   ],
   "source": [
    "hardness = df['hardness']\n",
    "print(type(hardness))\n",
    "print(f'Shape: {hardness.shape}')\n",
    "hardness.head()"
   ]
  },
  {
   "cell_type": "markdown",
   "id": "c9510c50",
   "metadata": {},
   "source": [
    "To select multiple columns, use a list of column names within brackets `[]`."
   ]
  },
  {
   "cell_type": "code",
   "execution_count": 27,
   "id": "a58411fe",
   "metadata": {},
   "outputs": [
    {
     "name": "stdout",
     "output_type": "stream",
     "text": [
      "<class 'pandas.core.frame.DataFrame'>\n"
     ]
    },
    {
     "data": {
      "text/html": [
       "<div>\n",
       "<style scoped>\n",
       "    .dataframe tbody tr th:only-of-type {\n",
       "        vertical-align: middle;\n",
       "    }\n",
       "\n",
       "    .dataframe tbody tr th {\n",
       "        vertical-align: top;\n",
       "    }\n",
       "\n",
       "    .dataframe thead th {\n",
       "        text-align: right;\n",
       "    }\n",
       "</style>\n",
       "<table border=\"1\" class=\"dataframe\">\n",
       "  <thead>\n",
       "    <tr style=\"text-align: right;\">\n",
       "      <th></th>\n",
       "      <th>hardness</th>\n",
       "      <th>density</th>\n",
       "    </tr>\n",
       "  </thead>\n",
       "  <tbody>\n",
       "    <tr>\n",
       "      <th>0</th>\n",
       "      <td>0.6</td>\n",
       "      <td>0.534</td>\n",
       "    </tr>\n",
       "    <tr>\n",
       "      <th>1</th>\n",
       "      <td>5.5</td>\n",
       "      <td>1.850</td>\n",
       "    </tr>\n",
       "    <tr>\n",
       "      <th>2</th>\n",
       "      <td>9.4</td>\n",
       "      <td>2.340</td>\n",
       "    </tr>\n",
       "    <tr>\n",
       "      <th>3</th>\n",
       "      <td>10.0</td>\n",
       "      <td>3.513</td>\n",
       "    </tr>\n",
       "    <tr>\n",
       "      <th>4</th>\n",
       "      <td>0.5</td>\n",
       "      <td>0.968</td>\n",
       "    </tr>\n",
       "  </tbody>\n",
       "</table>\n",
       "</div>"
      ],
      "text/plain": [
       "   hardness  density\n",
       "0       0.6    0.534\n",
       "1       5.5    1.850\n",
       "2       9.4    2.340\n",
       "3      10.0    3.513\n",
       "4       0.5    0.968"
      ]
     },
     "execution_count": 27,
     "metadata": {},
     "output_type": "execute_result"
    }
   ],
   "source": [
    "multiple = df[['hardness', 'density']]\n",
    "print(type(multiple))\n",
    "multiple.head()"
   ]
  },
  {
   "cell_type": "markdown",
   "id": "57b47df2",
   "metadata": {},
   "source": [
    "We can perform **Boolean indexing** as follows, combining logical operators as needed (must use `|`/`&` instead of `or`/`and`):"
   ]
  },
  {
   "cell_type": "code",
   "execution_count": 28,
   "id": "1c26f2aa",
   "metadata": {},
   "outputs": [
    {
     "data": {
      "text/html": [
       "<div>\n",
       "<style scoped>\n",
       "    .dataframe tbody tr th:only-of-type {\n",
       "        vertical-align: middle;\n",
       "    }\n",
       "\n",
       "    .dataframe tbody tr th {\n",
       "        vertical-align: top;\n",
       "    }\n",
       "\n",
       "    .dataframe thead th {\n",
       "        text-align: right;\n",
       "    }\n",
       "</style>\n",
       "<table border=\"1\" class=\"dataframe\">\n",
       "  <thead>\n",
       "    <tr style=\"text-align: right;\">\n",
       "      <th></th>\n",
       "      <th>element</th>\n",
       "      <th>number</th>\n",
       "      <th>hardness</th>\n",
       "      <th>density</th>\n",
       "    </tr>\n",
       "  </thead>\n",
       "  <tbody>\n",
       "    <tr>\n",
       "      <th>2</th>\n",
       "      <td>boron</td>\n",
       "      <td>5</td>\n",
       "      <td>9.4</td>\n",
       "      <td>2.340</td>\n",
       "    </tr>\n",
       "    <tr>\n",
       "      <th>3</th>\n",
       "      <td>carbon</td>\n",
       "      <td>6</td>\n",
       "      <td>10.0</td>\n",
       "      <td>3.513</td>\n",
       "    </tr>\n",
       "    <tr>\n",
       "      <th>13</th>\n",
       "      <td>chromium</td>\n",
       "      <td>24</td>\n",
       "      <td>8.5</td>\n",
       "      <td>7.150</td>\n",
       "    </tr>\n",
       "  </tbody>\n",
       "</table>\n",
       "</div>"
      ],
      "text/plain": [
       "     element  number  hardness  density\n",
       "2      boron       5       9.4    2.340\n",
       "3     carbon       6      10.0    3.513\n",
       "13  chromium      24       8.5    7.150"
      ]
     },
     "execution_count": 28,
     "metadata": {},
     "output_type": "execute_result"
    }
   ],
   "source": [
    "df[df['hardness'] > 8.0]"
   ]
  },
  {
   "cell_type": "code",
   "execution_count": 29,
   "id": "2f161472",
   "metadata": {},
   "outputs": [
    {
     "data": {
      "text/html": [
       "<div>\n",
       "<style scoped>\n",
       "    .dataframe tbody tr th:only-of-type {\n",
       "        vertical-align: middle;\n",
       "    }\n",
       "\n",
       "    .dataframe tbody tr th {\n",
       "        vertical-align: top;\n",
       "    }\n",
       "\n",
       "    .dataframe thead th {\n",
       "        text-align: right;\n",
       "    }\n",
       "</style>\n",
       "<table border=\"1\" class=\"dataframe\">\n",
       "  <thead>\n",
       "    <tr style=\"text-align: right;\">\n",
       "      <th></th>\n",
       "      <th>element</th>\n",
       "      <th>number</th>\n",
       "      <th>hardness</th>\n",
       "      <th>density</th>\n",
       "    </tr>\n",
       "  </thead>\n",
       "  <tbody>\n",
       "    <tr>\n",
       "      <th>2</th>\n",
       "      <td>boron</td>\n",
       "      <td>5</td>\n",
       "      <td>9.4</td>\n",
       "      <td>2.340</td>\n",
       "    </tr>\n",
       "    <tr>\n",
       "      <th>3</th>\n",
       "      <td>carbon</td>\n",
       "      <td>6</td>\n",
       "      <td>10.0</td>\n",
       "      <td>3.513</td>\n",
       "    </tr>\n",
       "  </tbody>\n",
       "</table>\n",
       "</div>"
      ],
      "text/plain": [
       "  element  number  hardness  density\n",
       "2   boron       5       9.4    2.340\n",
       "3  carbon       6      10.0    3.513"
      ]
     },
     "execution_count": 29,
     "metadata": {},
     "output_type": "execute_result"
    }
   ],
   "source": [
    "df[(df['hardness'] > 8.0) & (df['density'] < 5.0)]"
   ]
  },
  {
   "cell_type": "markdown",
   "id": "ce8e5eaf",
   "metadata": {},
   "source": [
    "To get slices of the data, particularly when we only want a subset of the rows, we do this in two different ways:\n",
    "- The [`df.loc[]`](https://pandas.pydata.org/pandas-docs/stable/reference/api/pandas.DataFrame.loc.html) property accesses data by labels (mostly) or Boolean arrays (sometimes).\n",
    "- The [`df.iloc[]`](https://pandas.pydata.org/pandas-docs/stable/reference/api/pandas.DataFrame.iloc.html) property accesses data based on the integer index position.\n",
    "\n",
    "Note that these are **square brackets**!\n",
    "Which one you choose to use depends on your use case.\n",
    "In some of the previous examples, you may have noticed that even after the DataFrame got shuffled, the bold row labels were preserved.\n",
    "These are labels one would use for the `loc()` method, for example, and we demonstrate this below."
   ]
  },
  {
   "cell_type": "code",
   "execution_count": 30,
   "id": "74a21cd3",
   "metadata": {},
   "outputs": [
    {
     "data": {
      "text/html": [
       "<div>\n",
       "<style scoped>\n",
       "    .dataframe tbody tr th:only-of-type {\n",
       "        vertical-align: middle;\n",
       "    }\n",
       "\n",
       "    .dataframe tbody tr th {\n",
       "        vertical-align: top;\n",
       "    }\n",
       "\n",
       "    .dataframe thead th {\n",
       "        text-align: right;\n",
       "    }\n",
       "</style>\n",
       "<table border=\"1\" class=\"dataframe\">\n",
       "  <thead>\n",
       "    <tr style=\"text-align: right;\">\n",
       "      <th></th>\n",
       "      <th>element</th>\n",
       "      <th>number</th>\n",
       "      <th>hardness</th>\n",
       "      <th>density</th>\n",
       "    </tr>\n",
       "  </thead>\n",
       "  <tbody>\n",
       "    <tr>\n",
       "      <th>0</th>\n",
       "      <td>lithium</td>\n",
       "      <td>3</td>\n",
       "      <td>0.60</td>\n",
       "      <td>0.534</td>\n",
       "    </tr>\n",
       "    <tr>\n",
       "      <th>9</th>\n",
       "      <td>potassium</td>\n",
       "      <td>19</td>\n",
       "      <td>0.40</td>\n",
       "      <td>0.890</td>\n",
       "    </tr>\n",
       "    <tr>\n",
       "      <th>4</th>\n",
       "      <td>sodium</td>\n",
       "      <td>11</td>\n",
       "      <td>0.50</td>\n",
       "      <td>0.968</td>\n",
       "    </tr>\n",
       "    <tr>\n",
       "      <th>24</th>\n",
       "      <td>rubidium</td>\n",
       "      <td>37</td>\n",
       "      <td>0.30</td>\n",
       "      <td>1.532</td>\n",
       "    </tr>\n",
       "    <tr>\n",
       "      <th>10</th>\n",
       "      <td>calcium</td>\n",
       "      <td>20</td>\n",
       "      <td>1.75</td>\n",
       "      <td>1.550</td>\n",
       "    </tr>\n",
       "    <tr>\n",
       "      <th>5</th>\n",
       "      <td>magnesium</td>\n",
       "      <td>12</td>\n",
       "      <td>2.50</td>\n",
       "      <td>1.738</td>\n",
       "    </tr>\n",
       "    <tr>\n",
       "      <th>1</th>\n",
       "      <td>beryllium</td>\n",
       "      <td>4</td>\n",
       "      <td>5.50</td>\n",
       "      <td>1.850</td>\n",
       "    </tr>\n",
       "    <tr>\n",
       "      <th>8</th>\n",
       "      <td>sulfur</td>\n",
       "      <td>16</td>\n",
       "      <td>2.00</td>\n",
       "      <td>2.080</td>\n",
       "    </tr>\n",
       "    <tr>\n",
       "      <th>7</th>\n",
       "      <td>silicon</td>\n",
       "      <td>14</td>\n",
       "      <td>6.50</td>\n",
       "      <td>2.330</td>\n",
       "    </tr>\n",
       "    <tr>\n",
       "      <th>2</th>\n",
       "      <td>boron</td>\n",
       "      <td>5</td>\n",
       "      <td>9.40</td>\n",
       "      <td>2.340</td>\n",
       "    </tr>\n",
       "  </tbody>\n",
       "</table>\n",
       "</div>"
      ],
      "text/plain": [
       "      element  number  hardness  density\n",
       "0     lithium       3      0.60    0.534\n",
       "9   potassium      19      0.40    0.890\n",
       "4      sodium      11      0.50    0.968\n",
       "24   rubidium      37      0.30    1.532\n",
       "10    calcium      20      1.75    1.550\n",
       "5   magnesium      12      2.50    1.738\n",
       "1   beryllium       4      5.50    1.850\n",
       "8      sulfur      16      2.00    2.080\n",
       "7     silicon      14      6.50    2.330\n",
       "2       boron       5      9.40    2.340"
      ]
     },
     "execution_count": 30,
     "metadata": {},
     "output_type": "execute_result"
    }
   ],
   "source": [
    "df_sub = df.sort_values('density').head(10)\n",
    "df_sub    # a subset of values is easier to work with"
   ]
  },
  {
   "cell_type": "code",
   "execution_count": 31,
   "id": "9b75e4c6",
   "metadata": {},
   "outputs": [
    {
     "data": {
      "text/plain": [
       "0     0.60\n",
       "9     0.40\n",
       "4     0.50\n",
       "24    0.30\n",
       "10    1.75\n",
       "5     2.50\n",
       "1     5.50\n",
       "8     2.00\n",
       "7     6.50\n",
       "2     9.40\n",
       "Name: hardness, dtype: float64"
      ]
     },
     "execution_count": 31,
     "metadata": {},
     "output_type": "execute_result"
    }
   ],
   "source": [
    "df_sub.loc[:, 'hardness']    # a column"
   ]
  },
  {
   "cell_type": "code",
   "execution_count": 32,
   "id": "6a884b1a",
   "metadata": {},
   "outputs": [
    {
     "data": {
      "text/html": [
       "<div>\n",
       "<style scoped>\n",
       "    .dataframe tbody tr th:only-of-type {\n",
       "        vertical-align: middle;\n",
       "    }\n",
       "\n",
       "    .dataframe tbody tr th {\n",
       "        vertical-align: top;\n",
       "    }\n",
       "\n",
       "    .dataframe thead th {\n",
       "        text-align: right;\n",
       "    }\n",
       "</style>\n",
       "<table border=\"1\" class=\"dataframe\">\n",
       "  <thead>\n",
       "    <tr style=\"text-align: right;\">\n",
       "      <th></th>\n",
       "      <th>hardness</th>\n",
       "      <th>number</th>\n",
       "    </tr>\n",
       "  </thead>\n",
       "  <tbody>\n",
       "    <tr>\n",
       "      <th>0</th>\n",
       "      <td>0.6</td>\n",
       "      <td>3</td>\n",
       "    </tr>\n",
       "    <tr>\n",
       "      <th>9</th>\n",
       "      <td>0.4</td>\n",
       "      <td>19</td>\n",
       "    </tr>\n",
       "    <tr>\n",
       "      <th>7</th>\n",
       "      <td>6.5</td>\n",
       "      <td>14</td>\n",
       "    </tr>\n",
       "  </tbody>\n",
       "</table>\n",
       "</div>"
      ],
      "text/plain": [
       "   hardness  number\n",
       "0       0.6       3\n",
       "9       0.4      19\n",
       "7       6.5      14"
      ]
     },
     "execution_count": 32,
     "metadata": {},
     "output_type": "execute_result"
    }
   ],
   "source": [
    "df_sub.loc[[0, 9, 7], ['hardness', 'number']]    # labels can be in any order"
   ]
  },
  {
   "cell_type": "code",
   "execution_count": 33,
   "id": "2fba3084",
   "metadata": {},
   "outputs": [
    {
     "data": {
      "text/html": [
       "<div>\n",
       "<style scoped>\n",
       "    .dataframe tbody tr th:only-of-type {\n",
       "        vertical-align: middle;\n",
       "    }\n",
       "\n",
       "    .dataframe tbody tr th {\n",
       "        vertical-align: top;\n",
       "    }\n",
       "\n",
       "    .dataframe thead th {\n",
       "        text-align: right;\n",
       "    }\n",
       "</style>\n",
       "<table border=\"1\" class=\"dataframe\">\n",
       "  <thead>\n",
       "    <tr style=\"text-align: right;\">\n",
       "      <th></th>\n",
       "      <th>hardness</th>\n",
       "      <th>density</th>\n",
       "    </tr>\n",
       "  </thead>\n",
       "  <tbody>\n",
       "    <tr>\n",
       "      <th>0</th>\n",
       "      <td>0.60</td>\n",
       "      <td>0.534</td>\n",
       "    </tr>\n",
       "    <tr>\n",
       "      <th>9</th>\n",
       "      <td>0.40</td>\n",
       "      <td>0.890</td>\n",
       "    </tr>\n",
       "    <tr>\n",
       "      <th>4</th>\n",
       "      <td>0.50</td>\n",
       "      <td>0.968</td>\n",
       "    </tr>\n",
       "    <tr>\n",
       "      <th>24</th>\n",
       "      <td>0.30</td>\n",
       "      <td>1.532</td>\n",
       "    </tr>\n",
       "    <tr>\n",
       "      <th>10</th>\n",
       "      <td>1.75</td>\n",
       "      <td>1.550</td>\n",
       "    </tr>\n",
       "  </tbody>\n",
       "</table>\n",
       "</div>"
      ],
      "text/plain": [
       "    hardness  density\n",
       "0       0.60    0.534\n",
       "9       0.40    0.890\n",
       "4       0.50    0.968\n",
       "24      0.30    1.532\n",
       "10      1.75    1.550"
      ]
     },
     "execution_count": 33,
     "metadata": {},
     "output_type": "execute_result"
    }
   ],
   "source": [
    "df_sub.loc[:10, ['hardness', 'density']]    # a chunk subset"
   ]
  },
  {
   "cell_type": "markdown",
   "id": "18705ba6",
   "metadata": {},
   "source": [
    "We want to point out two things about the previous example:\n",
    "1. Note that we're saying \"take all the row indices up to **the label value** `10`,\" not _the 10th position_!\n",
    "Try changing the above value to `6` and see what happens.\n",
    "1. Note that in pandas, unlike Python/NumPy, the upper bound is **inclusive**.\n",
    "\n",
    "---\n",
    "\n",
    "Those examples were with `df.loc()`. \n",
    "Now for `df.iloc()`:"
   ]
  },
  {
   "cell_type": "code",
   "execution_count": 34,
   "id": "f1d6e508",
   "metadata": {},
   "outputs": [
    {
     "data": {
      "text/html": [
       "<div>\n",
       "<style scoped>\n",
       "    .dataframe tbody tr th:only-of-type {\n",
       "        vertical-align: middle;\n",
       "    }\n",
       "\n",
       "    .dataframe tbody tr th {\n",
       "        vertical-align: top;\n",
       "    }\n",
       "\n",
       "    .dataframe thead th {\n",
       "        text-align: right;\n",
       "    }\n",
       "</style>\n",
       "<table border=\"1\" class=\"dataframe\">\n",
       "  <thead>\n",
       "    <tr style=\"text-align: right;\">\n",
       "      <th></th>\n",
       "      <th>element</th>\n",
       "      <th>number</th>\n",
       "    </tr>\n",
       "  </thead>\n",
       "  <tbody>\n",
       "    <tr>\n",
       "      <th>0</th>\n",
       "      <td>lithium</td>\n",
       "      <td>3</td>\n",
       "    </tr>\n",
       "    <tr>\n",
       "      <th>9</th>\n",
       "      <td>potassium</td>\n",
       "      <td>19</td>\n",
       "    </tr>\n",
       "    <tr>\n",
       "      <th>4</th>\n",
       "      <td>sodium</td>\n",
       "      <td>11</td>\n",
       "    </tr>\n",
       "    <tr>\n",
       "      <th>24</th>\n",
       "      <td>rubidium</td>\n",
       "      <td>37</td>\n",
       "    </tr>\n",
       "  </tbody>\n",
       "</table>\n",
       "</div>"
      ],
      "text/plain": [
       "      element  number\n",
       "0     lithium       3\n",
       "9   potassium      19\n",
       "4      sodium      11\n",
       "24   rubidium      37"
      ]
     },
     "execution_count": 34,
     "metadata": {},
     "output_type": "execute_result"
    }
   ],
   "source": [
    "df_sub.iloc[:4, :2]    # a chunk subset"
   ]
  },
  {
   "cell_type": "code",
   "execution_count": 35,
   "id": "31466767",
   "metadata": {},
   "outputs": [
    {
     "data": {
      "text/plain": [
       "0      3\n",
       "9     19\n",
       "4     11\n",
       "24    37\n",
       "10    20\n",
       "5     12\n",
       "1      4\n",
       "8     16\n",
       "7     14\n",
       "2      5\n",
       "Name: number, dtype: int64"
      ]
     },
     "execution_count": 35,
     "metadata": {},
     "output_type": "execute_result"
    }
   ],
   "source": [
    "df_sub.iloc[:, 1]    # a column of values"
   ]
  },
  {
   "cell_type": "code",
   "execution_count": 36,
   "id": "89971e09",
   "metadata": {},
   "outputs": [
    {
     "data": {
      "text/plain": [
       "0.534"
      ]
     },
     "execution_count": 36,
     "metadata": {},
     "output_type": "execute_result"
    }
   ],
   "source": [
    "df_sub.iloc[0, 3]    # a single value"
   ]
  },
  {
   "cell_type": "markdown",
   "id": "cb3ed1a5",
   "metadata": {},
   "source": [
    "### Looping through a DataFrame\n",
    "\n",
    "While a DataFrame supports really clever and advanced indexing, there will be times when, for lack of a better method, we simply need to iterate through a DataFrame and access the entries one row/column at a time.\n",
    "If you disagree with us, or want to know why one would disagree, please see [this Stack Overflow discussion](https://stackoverflow.com/questions/16476924/how-to-iterate-over-rows-in-a-dataframe-in-pandas). 😉\n",
    "\n",
    "If you want to loop over the rows (more common than looping through columns, simply based on our [formatting conventions](#Formatting-tabular-data)), the preferred method is [`df.itertuples()`](https://pandas.pydata.org/pandas-docs/stable/reference/api/pandas.DataFrame.itertuples.html), which returns an iterator over the rows as named tuples.\n",
    "Note that by default, the index of the rows is the first element of the tuple, followed by the other elements in the row."
   ]
  },
  {
   "cell_type": "code",
   "execution_count": 41,
   "id": "c3f06808",
   "metadata": {},
   "outputs": [
    {
     "name": "stdout",
     "output_type": "stream",
     "text": [
      "Pandas(Index=0, element='lithium', number=3, hardness=0.6, density=0.534)\n",
      "3\n",
      "lithium\n",
      "Pandas(Index=9, element='potassium', number=19, hardness=0.4, density=0.89)\n",
      "19\n",
      "potassium\n",
      "Pandas(Index=4, element='sodium', number=11, hardness=0.5, density=0.968)\n",
      "11\n",
      "sodium\n",
      "Pandas(Index=24, element='rubidium', number=37, hardness=0.3, density=1.532)\n",
      "37\n",
      "rubidium\n"
     ]
    }
   ],
   "source": [
    "for row in df_sub.itertuples():\n",
    "    print(row)           # the full row\n",
    "    print(row.element)   # how we access the values by name\n",
    "    print(row[2])        # access by integer index\n",
    "    if row[0] > 10:\n",
    "        break            # early stopping; we get the idea"
   ]
  },
  {
   "cell_type": "markdown",
   "id": "dc57ebea",
   "metadata": {},
   "source": [
    "### Updating a DataFrame\n",
    "\n",
    "There are many times when we will want to update the DataFrame that we created.\n",
    "This could be for:\n",
    "- Adding additional columns based on a computation.\n",
    "- Changing the values for a particular use case.\n",
    "- [Merging](https://pandas.pydata.org/docs/user_guide/merging.html) several DataFrames together.\n",
    "\n",
    "Let's see a few examples of this right now.\n",
    "We'll start by adding on two columns, which we can do as if we're defining a new dictionary entry.\n",
    "Just ensure that the additional columns have the same size as the number of rows in the DataFrame."
   ]
  },
  {
   "cell_type": "code",
   "execution_count": 7,
   "id": "dd2272bc",
   "metadata": {},
   "outputs": [
    {
     "data": {
      "text/html": [
       "<div>\n",
       "<style scoped>\n",
       "    .dataframe tbody tr th:only-of-type {\n",
       "        vertical-align: middle;\n",
       "    }\n",
       "\n",
       "    .dataframe tbody tr th {\n",
       "        vertical-align: top;\n",
       "    }\n",
       "\n",
       "    .dataframe thead th {\n",
       "        text-align: right;\n",
       "    }\n",
       "</style>\n",
       "<table border=\"1\" class=\"dataframe\">\n",
       "  <thead>\n",
       "    <tr style=\"text-align: right;\">\n",
       "      <th></th>\n",
       "      <th>element</th>\n",
       "      <th>number</th>\n",
       "      <th>hardness</th>\n",
       "      <th>density</th>\n",
       "      <th>ones</th>\n",
       "      <th>number_squared</th>\n",
       "    </tr>\n",
       "  </thead>\n",
       "  <tbody>\n",
       "    <tr>\n",
       "      <th>0</th>\n",
       "      <td>lithium</td>\n",
       "      <td>3</td>\n",
       "      <td>0.6</td>\n",
       "      <td>0.534</td>\n",
       "      <td>1.0</td>\n",
       "      <td>9</td>\n",
       "    </tr>\n",
       "    <tr>\n",
       "      <th>1</th>\n",
       "      <td>beryllium</td>\n",
       "      <td>4</td>\n",
       "      <td>5.5</td>\n",
       "      <td>1.850</td>\n",
       "      <td>1.0</td>\n",
       "      <td>16</td>\n",
       "    </tr>\n",
       "    <tr>\n",
       "      <th>2</th>\n",
       "      <td>boron</td>\n",
       "      <td>5</td>\n",
       "      <td>9.4</td>\n",
       "      <td>2.340</td>\n",
       "      <td>1.0</td>\n",
       "      <td>25</td>\n",
       "    </tr>\n",
       "    <tr>\n",
       "      <th>3</th>\n",
       "      <td>carbon</td>\n",
       "      <td>6</td>\n",
       "      <td>10.0</td>\n",
       "      <td>3.513</td>\n",
       "      <td>1.0</td>\n",
       "      <td>36</td>\n",
       "    </tr>\n",
       "    <tr>\n",
       "      <th>4</th>\n",
       "      <td>sodium</td>\n",
       "      <td>11</td>\n",
       "      <td>0.5</td>\n",
       "      <td>0.968</td>\n",
       "      <td>1.0</td>\n",
       "      <td>121</td>\n",
       "    </tr>\n",
       "  </tbody>\n",
       "</table>\n",
       "</div>"
      ],
      "text/plain": [
       "     element  number  hardness  density  ones  number_squared\n",
       "0    lithium       3       0.6    0.534   1.0               9\n",
       "1  beryllium       4       5.5    1.850   1.0              16\n",
       "2      boron       5       9.4    2.340   1.0              25\n",
       "3     carbon       6      10.0    3.513   1.0              36\n",
       "4     sodium      11       0.5    0.968   1.0             121"
      ]
     },
     "execution_count": 7,
     "metadata": {},
     "output_type": "execute_result"
    }
   ],
   "source": [
    "import numpy as np\n",
    "df['ones'] = np.ones(len(df))   \n",
    "df['number_squared'] = df['number'] ** 2   # we can perform arithmetic on other columns\n",
    "df.head()"
   ]
  },
  {
   "cell_type": "markdown",
   "id": "cb0f0264",
   "metadata": {},
   "source": [
    "We can eliminate columns/rows of our DataFrame using the [`df.drop()`](https://pandas.pydata.org/docs/reference/api/pandas.DataFrame.drop.html) method on the labels we wish to drop.\n",
    "Note that by default a copy of the resulting DataFrame is created.\n",
    "In addition, the row labels that may have been automatically indexed initially (with a [RangeIndex](https://pandas.pydata.org/docs/reference/api/pandas.RangeIndex.html)) will _not_ be reindexed automatically, so we might want to call the [`df.reset_index()`](https://pandas.pydata.org/pandas-docs/stable/reference/api/pandas.DataFrame.reset_index.html) method on the DataFrame."
   ]
  },
  {
   "cell_type": "code",
   "execution_count": null,
   "id": "536c41aa",
   "metadata": {},
   "outputs": [],
   "source": [
    "df_smaller = df.drop(df[df['density'] > 1.0].index)   # putting it all together!\n",
    "display(df_smaller)\n",
    "\n",
    "df_smaller = df_smaller.reset_index(drop=True)   # arg prevents original index from being inserted as new column\n",
    "df_smaller"
   ]
  },
  {
   "cell_type": "markdown",
   "id": "4e59e052",
   "metadata": {},
   "source": [
    "### Undefined values\n",
    "\n",
    "Now let's see what happens if our data has \"holes,\" and how we can use built-in pandas functions to change those values.\n",
    "pandas represents missing data with the NumPy constant [`np.nan`](https://numpy.org/doc/stable/reference/constants.html#numpy.nan).\n",
    "In the example below we're setting values to be `NaN`, but if you were to read in a CSV with missing values, then those positions would also contain `NaN`."
   ]
  },
  {
   "cell_type": "code",
   "execution_count": 8,
   "id": "5f3ecacf",
   "metadata": {},
   "outputs": [
    {
     "name": "stdout",
     "output_type": "stream",
     "text": [
      "0    float64\n",
      "1      int32\n",
      "2      int32\n",
      "3      int32\n",
      "4    float64\n",
      "dtype: object\n"
     ]
    },
    {
     "data": {
      "text/html": [
       "<div>\n",
       "<style scoped>\n",
       "    .dataframe tbody tr th:only-of-type {\n",
       "        vertical-align: middle;\n",
       "    }\n",
       "\n",
       "    .dataframe tbody tr th {\n",
       "        vertical-align: top;\n",
       "    }\n",
       "\n",
       "    .dataframe thead th {\n",
       "        text-align: right;\n",
       "    }\n",
       "</style>\n",
       "<table border=\"1\" class=\"dataframe\">\n",
       "  <thead>\n",
       "    <tr style=\"text-align: right;\">\n",
       "      <th></th>\n",
       "      <th>0</th>\n",
       "      <th>1</th>\n",
       "      <th>2</th>\n",
       "      <th>3</th>\n",
       "      <th>4</th>\n",
       "    </tr>\n",
       "  </thead>\n",
       "  <tbody>\n",
       "    <tr>\n",
       "      <th>0</th>\n",
       "      <td>NaN</td>\n",
       "      <td>1</td>\n",
       "      <td>2</td>\n",
       "      <td>3</td>\n",
       "      <td>NaN</td>\n",
       "    </tr>\n",
       "    <tr>\n",
       "      <th>1</th>\n",
       "      <td>5.0</td>\n",
       "      <td>6</td>\n",
       "      <td>7</td>\n",
       "      <td>8</td>\n",
       "      <td>NaN</td>\n",
       "    </tr>\n",
       "    <tr>\n",
       "      <th>2</th>\n",
       "      <td>10.0</td>\n",
       "      <td>11</td>\n",
       "      <td>12</td>\n",
       "      <td>13</td>\n",
       "      <td>NaN</td>\n",
       "    </tr>\n",
       "  </tbody>\n",
       "</table>\n",
       "</div>"
      ],
      "text/plain": [
       "      0   1   2   3   4\n",
       "0   NaN   1   2   3 NaN\n",
       "1   5.0   6   7   8 NaN\n",
       "2  10.0  11  12  13 NaN"
      ]
     },
     "execution_count": 8,
     "metadata": {},
     "output_type": "execute_result"
    }
   ],
   "source": [
    "df_holey = pd.DataFrame(np.arange(15).reshape(3, 5))\n",
    "df_holey.iloc[:, -1] = np.nan   # set last column to be NaN\n",
    "df_holey.iloc[0, 0] = np.nan    # set first element to be NaN\n",
    "print(df_holey.dtypes)\n",
    "df_holey"
   ]
  },
  {
   "cell_type": "markdown",
   "id": "b371dd19",
   "metadata": {},
   "source": [
    "As a first step, we might want to know where the `NaN` values are, or to get a mask for post-processing.\n",
    "We can do this using the [`df.isna()`](https://pandas.pydata.org/pandas-docs/stable/reference/api/pandas.DataFrame.isna.html) method, which returns a Boolean DataFrame that is `True` for `NaN` cells and `False` otherwise."
   ]
  },
  {
   "cell_type": "code",
   "execution_count": 12,
   "id": "7ffd8ce2",
   "metadata": {},
   "outputs": [
    {
     "data": {
      "text/html": [
       "<div>\n",
       "<style scoped>\n",
       "    .dataframe tbody tr th:only-of-type {\n",
       "        vertical-align: middle;\n",
       "    }\n",
       "\n",
       "    .dataframe tbody tr th {\n",
       "        vertical-align: top;\n",
       "    }\n",
       "\n",
       "    .dataframe thead th {\n",
       "        text-align: right;\n",
       "    }\n",
       "</style>\n",
       "<table border=\"1\" class=\"dataframe\">\n",
       "  <thead>\n",
       "    <tr style=\"text-align: right;\">\n",
       "      <th></th>\n",
       "      <th>0</th>\n",
       "      <th>1</th>\n",
       "      <th>2</th>\n",
       "      <th>3</th>\n",
       "      <th>4</th>\n",
       "    </tr>\n",
       "  </thead>\n",
       "  <tbody>\n",
       "    <tr>\n",
       "      <th>0</th>\n",
       "      <td>True</td>\n",
       "      <td>False</td>\n",
       "      <td>False</td>\n",
       "      <td>False</td>\n",
       "      <td>True</td>\n",
       "    </tr>\n",
       "    <tr>\n",
       "      <th>1</th>\n",
       "      <td>False</td>\n",
       "      <td>False</td>\n",
       "      <td>False</td>\n",
       "      <td>False</td>\n",
       "      <td>True</td>\n",
       "    </tr>\n",
       "    <tr>\n",
       "      <th>2</th>\n",
       "      <td>False</td>\n",
       "      <td>False</td>\n",
       "      <td>False</td>\n",
       "      <td>False</td>\n",
       "      <td>True</td>\n",
       "    </tr>\n",
       "  </tbody>\n",
       "</table>\n",
       "</div>"
      ],
      "text/plain": [
       "       0      1      2      3     4\n",
       "0   True  False  False  False  True\n",
       "1  False  False  False  False  True\n",
       "2  False  False  False  False  True"
      ]
     },
     "execution_count": 12,
     "metadata": {},
     "output_type": "execute_result"
    }
   ],
   "source": [
    "df_holey.isna()"
   ]
  },
  {
   "cell_type": "markdown",
   "id": "63e6c038",
   "metadata": {},
   "source": [
    "To remove rows or columns of the DataFrame with `NaN` values, we can use the [`df.dropna()`](https://pandas.pydata.org/pandas-docs/stable/reference/api/pandas.DataFrame.dropna.html) method, which typically needs the following parameters specified (i.e., don't just use the default):\n",
    "- `axis`: `0` for index, `1` for columns.\n",
    "- `how`: `any` if that dimension has any `NaN` values, `all` if that dimension has all `NaN` values."
   ]
  },
  {
   "cell_type": "code",
   "execution_count": 9,
   "id": "14ece09b",
   "metadata": {},
   "outputs": [
    {
     "data": {
      "text/html": [
       "<div>\n",
       "<style scoped>\n",
       "    .dataframe tbody tr th:only-of-type {\n",
       "        vertical-align: middle;\n",
       "    }\n",
       "\n",
       "    .dataframe tbody tr th {\n",
       "        vertical-align: top;\n",
       "    }\n",
       "\n",
       "    .dataframe thead th {\n",
       "        text-align: right;\n",
       "    }\n",
       "</style>\n",
       "<table border=\"1\" class=\"dataframe\">\n",
       "  <thead>\n",
       "    <tr style=\"text-align: right;\">\n",
       "      <th></th>\n",
       "      <th>1</th>\n",
       "      <th>2</th>\n",
       "      <th>3</th>\n",
       "    </tr>\n",
       "  </thead>\n",
       "  <tbody>\n",
       "    <tr>\n",
       "      <th>0</th>\n",
       "      <td>1</td>\n",
       "      <td>2</td>\n",
       "      <td>3</td>\n",
       "    </tr>\n",
       "    <tr>\n",
       "      <th>1</th>\n",
       "      <td>6</td>\n",
       "      <td>7</td>\n",
       "      <td>8</td>\n",
       "    </tr>\n",
       "    <tr>\n",
       "      <th>2</th>\n",
       "      <td>11</td>\n",
       "      <td>12</td>\n",
       "      <td>13</td>\n",
       "    </tr>\n",
       "  </tbody>\n",
       "</table>\n",
       "</div>"
      ],
      "text/plain": [
       "    1   2   3\n",
       "0   1   2   3\n",
       "1   6   7   8\n",
       "2  11  12  13"
      ]
     },
     "execution_count": 9,
     "metadata": {},
     "output_type": "execute_result"
    }
   ],
   "source": [
    "df_holey.dropna(how='any', axis=1)   # what got dropped? what happens if axis=0? what if how='all'?"
   ]
  },
  {
   "cell_type": "markdown",
   "id": "bc0d6ec2",
   "metadata": {},
   "source": [
    "We can also fill in the `NaN` values with a default value that often depends on the application.\n",
    "For example, if we have data on processing times, then a blank value might indicate that process was never performed; or, alternatively, performed for `0` time units.\n",
    "Filling in data in this way is called **imputation** and must be done with care to not bias the data or follow-up analyses.\n",
    "Filling in `NaN` values can be done with the [`df.fillna()`](https://pandas.pydata.org/pandas-docs/stable/reference/api/pandas.DataFrame.fillna.html) method, which is quite flexible."
   ]
  },
  {
   "cell_type": "code",
   "execution_count": 10,
   "id": "b54d1070",
   "metadata": {},
   "outputs": [
    {
     "data": {
      "text/html": [
       "<div>\n",
       "<style scoped>\n",
       "    .dataframe tbody tr th:only-of-type {\n",
       "        vertical-align: middle;\n",
       "    }\n",
       "\n",
       "    .dataframe tbody tr th {\n",
       "        vertical-align: top;\n",
       "    }\n",
       "\n",
       "    .dataframe thead th {\n",
       "        text-align: right;\n",
       "    }\n",
       "</style>\n",
       "<table border=\"1\" class=\"dataframe\">\n",
       "  <thead>\n",
       "    <tr style=\"text-align: right;\">\n",
       "      <th></th>\n",
       "      <th>0</th>\n",
       "      <th>1</th>\n",
       "      <th>2</th>\n",
       "      <th>3</th>\n",
       "      <th>4</th>\n",
       "    </tr>\n",
       "  </thead>\n",
       "  <tbody>\n",
       "    <tr>\n",
       "      <th>0</th>\n",
       "      <td>0.0</td>\n",
       "      <td>1</td>\n",
       "      <td>2</td>\n",
       "      <td>3</td>\n",
       "      <td>0.0</td>\n",
       "    </tr>\n",
       "    <tr>\n",
       "      <th>1</th>\n",
       "      <td>5.0</td>\n",
       "      <td>6</td>\n",
       "      <td>7</td>\n",
       "      <td>8</td>\n",
       "      <td>0.0</td>\n",
       "    </tr>\n",
       "    <tr>\n",
       "      <th>2</th>\n",
       "      <td>10.0</td>\n",
       "      <td>11</td>\n",
       "      <td>12</td>\n",
       "      <td>13</td>\n",
       "      <td>0.0</td>\n",
       "    </tr>\n",
       "  </tbody>\n",
       "</table>\n",
       "</div>"
      ],
      "text/plain": [
       "      0   1   2   3    4\n",
       "0   0.0   1   2   3  0.0\n",
       "1   5.0   6   7   8  0.0\n",
       "2  10.0  11  12  13  0.0"
      ]
     },
     "execution_count": 10,
     "metadata": {},
     "output_type": "execute_result"
    }
   ],
   "source": [
    "df_holey.fillna(value=0.0)"
   ]
  },
  {
   "cell_type": "markdown",
   "id": "b4d9e800",
   "metadata": {},
   "source": [
    "### Saving a DataFrame\n",
    "\n",
    "We've discussed how to read in CSV file as a DataFrame, so how can we do the reverse to save our work?\n",
    "The [`df.to_csv()`](https://pandas.pydata.org/pandas-docs/stable/reference/api/pandas.DataFrame.to_csv.html) method will do this job perfectly.\n",
    "Like its counterpart, `pd.read_csv()`, there are _a ton_ of input arguments to this method, but arguably the three most important ones are:\n",
    "- `path_or_buf`: The filepath where you want to store the CSV file.\n",
    "- `index`: Whether to include a column for the row indices.\n",
    "Default is `True`, but you **should probably** set this to `False`.\n",
    "- `sep`: What delimiter to use to separate values. \n",
    "Default is comma (`','`), which probably doesn't need to change (unless your DataFrame's values have commas in them)."
   ]
  },
  {
   "cell_type": "code",
   "execution_count": null,
   "id": "d06dec76",
   "metadata": {},
   "outputs": [],
   "source": [
    "df_holey.to_csv('../../assets/data/week_1/02/df_holey.csv', index=False)"
   ]
  },
  {
   "cell_type": "markdown",
   "id": "d4748952",
   "metadata": {},
   "source": [
    "## Formatting tabular data\n",
    "\n",
    "[Back to top](#Contents)\n",
    "\n",
    "In all of our discussion so far, we've somewhat casually mentioned ideas like \"Oh, now we should average all the values in the _column_,\" or \"Now take the norm of each _row_,\" without really motivating _why_ our data might be arranged in that way to begin with.\n",
    "Like with many other things in life, there are certain **formatting conventions** when it comes to tabular data, and we'll take some time to discuss those right now.\n",
    "For example, given the same set of data, I could conceivably store it in a spreadsheet (CSV file) in the following two ways:\n",
    "\n",
    "![table format](../../assets/fig/week_1/02/table_format.png)\n",
    "\n",
    "Now, if you're looking at the image on the left and thinking, \"Pshht, there's no way anyone would ever do that,\" then you are lucky to have great collaborators. 😜\n",
    "In any case, the spreadsheet on the left does not have a uniform structure for accessing the data, which can make it tricky to perform statistical analyses or even figure out which values are meant to be associated.\n",
    "The image on the right is much more preferred for data science because each row is a distinct entry and each column is a different property of that entry that is clearly labeled.\n",
    "In short, the convention for formatting tabular data for MI is:\n",
    "- Each **row** should be **a single example** (data point), whether that is data collected from a different material, a different site, or at a different time.\n",
    "- Each **column** should be **a single property**, or **feature**, associated with the data point.\n",
    "In the example above, this would be the element name, number, hardness, and density.\n",
    "\n",
    "Please don't get rows and columns transposed!"
   ]
  },
  {
   "cell_type": "markdown",
   "id": "57fd6f6b",
   "metadata": {},
   "source": [
    "### CSV vs. JSON 🥊\n",
    "\n",
    "#### Exercise (conceptual): CSV vs. JSON\n",
    "\n",
    "Based on what you've seen so far, what are the advantages of CSV over JSON, and vice versa?\n",
    "Please record your thoughts somewhere and we'll discuss this question tomorrow!"
   ]
  },
  {
   "cell_type": "markdown",
   "id": "5ade4bda",
   "metadata": {},
   "source": [
    "### Exercise: Reformatting dielectric constants dataset\n",
    "\n",
    "The Strehlow and Cook dataset you saw in the last notebook was pretty complex partially because it was compiled from a variety of disparate sources, so in this example we will work with a cleaner dataset from [Petousis et al., _Scientific Data_, 2017](https://www.nature.com/articles/sdata2016134).\n",
    "The data from their work is featured in the [overview figure](https://enze-chen.github.io/mi-book/preamble/overview.html) for this module and it is shared as a JSON file in the [Dryad repository](https://datadryad.org/stash/dataset/doi:10.5061/dryad.ph81h).\n",
    "\n",
    "We've downloaded the dataset here for you as `dielectric_dataset.json` and your job is to take this JSON of 1056 materials and **extract** each material's:\n",
    "- Materials Project ID (has a value like `mp-XXX`)\n",
    "- chemical formula\n",
    "- refractive index, $n$\n",
    "- band gap, $E_g$\n",
    "- total dielectric constant, $\\varepsilon_{\\text{poly}}$\n",
    "- electronic contribution to the dielectric constant, $\\varepsilon_{\\text{poly}}^{\\infty}$\n",
    "\n",
    "and **organize this information into an appropriate pandas DataFrame**.\n",
    "Finally, **save this DataFrame as a CSV file** in a location where you can find it again.\n",
    "We will be using the tabular version of this dataset in tomorrow's exercises, just so you know. 😁\n",
    "\n",
    "_Hints_:\n",
    "- You should open the file, or print out the first element in `data`, to see what the appropriate keys and access patterns should be.\n",
    "- You may assume that every material has every property that's listed above and that each JSON entry is formatted the same way.\n",
    "- You may want to display the DataFrame when you're done, just to confirm that you got all the data you needed (correct dimensions)."
   ]
  },
  {
   "cell_type": "code",
   "execution_count": null,
   "id": "5ac1386c",
   "metadata": {},
   "outputs": [],
   "source": [
    "import json\n",
    "with open('../../assets/data/week_1/02/dielectric_dataset.json', 'r') as f:\n",
    "    data = json.load(f)\n",
    "# -------------   WRITE YOUR CODE IN THE SPACE BELOW   ---------- #\n"
   ]
  },
  {
   "cell_type": "markdown",
   "id": "49b7d4cd",
   "metadata": {},
   "source": [
    "## Procuring tabular data\n",
    "\n",
    "[Back to top](#Contents)\n",
    "\n",
    "For the final segment of this lesson, we will discuss some other software (outside of the Python ecosystem) that can help us obtain tabular data (i.e., in a CSV format) from sources that are _almost, but not quite_ tabular."
   ]
  },
  {
   "cell_type": "markdown",
   "id": "19a5c785",
   "metadata": {},
   "source": [
    "### WebPlotDigitizer\n",
    "\n",
    "For example, from Module 1, you all looked at the recent paper by [Wu et al. _J. Micro/Nanopatterning_, 2021](https://www.spiedigitallibrary.org/journals/journal-of-micro-nanopatterning-materials-and-metrology/volume-20/issue-2/021002/Study-of-novel-EUVL-mask-absorber-candidates/10.1117/1.JMM.20.2.021002.short) ([in Google Drive](https://drive.google.com/file/d/1mqIMh2psWG6tivRKDe_ml1_KBrZLapNW/view?usp=sharing)) where Figure 1 plotted dielectric constant vs. refractive index for a few alloys.\n",
    "This is a nice plot, as are many other plots in published papers, but how can we extract the numerical values from these figures?\n",
    "\n",
    "[WebPlotDigitizer](https://automeris.io/WebPlotDigitizer/) is a common tool for this purpose.\n",
    "In the web application, you upload an image file (such as a plot) and you can mark $x$ and $y$ coordinates that get estimated and turned into a CSV file for you.\n",
    "Originally we were planning a small exercise for you to practice with this, but we'll leave it up to you to decide if this is worth exploring for your own self-directed research."
   ]
  },
  {
   "cell_type": "markdown",
   "id": "0794f9e1",
   "metadata": {},
   "source": [
    "### Tabula\n",
    "\n",
    "Relatedly, published papers and reports will often feature several nice tables... that are stuck in PDFs.\n",
    "If the PDF is relatively modern, maybe you can copy-paste the information out from there and into a spreadsheet application.\n",
    "But if the PDF is old or of poor quality (such as many scanned documents), you'll be left with a dingy table that you have to manually copy the data out by hand... or do you?\n",
    "\n",
    "[Tabula](https://tabula.technology/) is a tool that was designed to solve this problem, although it is no longer under active development.\n",
    "With this tool, you can upload a PDF file, select the tables inside it, and then the software will attempt to \"read\" the selection and convert the table into a CSV file.\n",
    "There will likely be a few errors here and there, but you might find that this saves you a lot of trouble if you have a lot of PDF-embedded tables to parse!"
   ]
  },
  {
   "cell_type": "markdown",
   "id": "7aab8f0f",
   "metadata": {},
   "source": [
    "### Manual entry\n",
    "\n",
    "It's possible that at the end of the day, you still have to enter data into CSV files by hand.\n",
    "And that's OK! \n",
    "There are pros and cons of taking this route, and since we are teaching you programmatic tools for MI (and benefits like automation, reproducibility, etc.) we haven't really talked about this, but we definitely don't want you to think this is off limits. 😆"
   ]
  },
  {
   "cell_type": "markdown",
   "id": "e36aab27",
   "metadata": {},
   "source": [
    "## Conclusion\n",
    "\n",
    "This concludes the introduction to tabular data.\n",
    "If you would like to learn more about pandas, we suggest you look at the [official user guide](https://pandas.pydata.org/docs/user_guide/index.html).\n",
    "Realistically, there's way too much to cover about pandas, and a lot of your understanding will be built as you work with it for your own datasets.\n",
    "But, we hope that by giving a brief introduction, you at least know what's available, where to go for help, and _how to think about tabular data_ with pandas. 🐼\n",
    "\n",
    "For the final notebook lesson of the day, we'll be learning about databases and the [Materials Project](https://materialsproject.org/)!"
   ]
  }
 ],
 "metadata": {
  "kernelspec": {
   "display_name": "Python 3",
   "language": "python",
   "name": "python3"
  },
  "language_info": {
   "codemirror_mode": {
    "name": "ipython",
    "version": 3
   },
   "file_extension": ".py",
   "mimetype": "text/x-python",
   "name": "python",
   "nbconvert_exporter": "python",
   "pygments_lexer": "ipython3",
   "version": "3.7.10"
  },
  "toc": {
   "base_numbering": 1,
   "nav_menu": {},
   "number_sections": false,
   "sideBar": true,
   "skip_h1_title": true,
   "title_cell": "Table of Contents",
   "title_sidebar": "Contents",
   "toc_cell": false,
   "toc_position": {},
   "toc_section_display": true,
   "toc_window_display": false
  }
 },
 "nbformat": 4,
 "nbformat_minor": 5
}
