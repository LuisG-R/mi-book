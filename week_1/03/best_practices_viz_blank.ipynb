{
 "cells": [
  {
   "cell_type": "markdown",
   "id": "5334554e",
   "metadata": {},
   "source": [
    "# Best practices for visualizations\n",
    "\n",
    "*Authors: Enze Chen and Mark Asta (University of California, Berkeley)*\n",
    "\n",
    "```{note}\n",
    "This is an interactive exercise, so you will want to click the {fa}`rocket` and open the notebook in DataHub (or Colab for non-UCB students).\n",
    "```\n",
    "\n",
    "## Learning objectives\n",
    "\n",
    "This notebook contains a series of exercises that explore a few of the different file types that are commonly used to store materials data.\n",
    "We want to give you ample hands-on practice working with different file types so that you:\n",
    "1. Understand the advantages and disadvantages of each file format.\n",
    "1. Are prepared to work with your own datasets during self-directed research.\n",
    "1. Build comfort with and learn best practices for working with programmatic tools.\n",
    "\n",
    "We will progress through most of this exercise together as a group, but if there's a part that's particularly tricky, feel free to review it on your own time.\n",
    "As always, we're happy to hear from you if you have any questions.\n",
    "\n"
   ]
  },
  {
   "cell_type": "markdown",
   "id": "bb32d824",
   "metadata": {},
   "source": [
    "## Contents\n",
    "\n",
    "These exercises are grouped into the following sections:\n",
    "\n",
    "1. [CSV and spreadsheets](#CSV-and-spreadsheets)\n",
    "1. [pandas!](#pandas!)\n",
    "1. [Procuring tabular data](#Procuring-tabular-data)\n",
    "1. [Beyond files](#When-files-simply-aren't-enough)"
   ]
  },
  {
   "cell_type": "markdown",
   "id": "6d98d862",
   "metadata": {},
   "source": [
    "## Paper discussion\n",
    "\n",
    "### _What do folks think about [the perspective](https://dl.acm.org/doi/10.1145/3231772) from Danielle Szafir?_"
   ]
  },
  {
   "cell_type": "markdown",
   "id": "51e529c9",
   "metadata": {},
   "source": [
    "## Conclusion\n",
    "\n",
    "Congratulations on making it to the end! 🎉👏\n",
    "\n",
    "There is a lot of information that we covered in this notebook, so it's totally reasonable if not everything clicked right away and you find yourself needing to revist these concepts.\n",
    "\n",
    "Please don't hesitate to reach out on Slack if you have questions or concerns."
   ]
  }
 ],
 "metadata": {
  "kernelspec": {
   "display_name": "Python 3",
   "language": "python",
   "name": "python3"
  },
  "language_info": {
   "codemirror_mode": {
    "name": "ipython",
    "version": 3
   },
   "file_extension": ".py",
   "mimetype": "text/x-python",
   "name": "python",
   "nbconvert_exporter": "python",
   "pygments_lexer": "ipython3",
   "version": "3.7.10"
  },
  "toc": {
   "base_numbering": 1,
   "nav_menu": {},
   "number_sections": false,
   "sideBar": true,
   "skip_h1_title": true,
   "title_cell": "Table of Contents",
   "title_sidebar": "Contents",
   "toc_cell": false,
   "toc_position": {},
   "toc_section_display": true,
   "toc_window_display": false
  }
 },
 "nbformat": 4,
 "nbformat_minor": 5
}
