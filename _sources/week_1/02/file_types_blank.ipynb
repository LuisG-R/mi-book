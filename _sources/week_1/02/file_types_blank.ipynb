{
 "cells": [
  {
   "cell_type": "markdown",
   "id": "6020a70e",
   "metadata": {},
   "source": [
    "# File types\n",
    "\n",
    "*Authors: Enze Chen and Mark Asta (University of California, Berkeley)*\n",
    "\n",
    "```{note}\n",
    "This is an interactive exercise, so you will want to click the {fa}`rocket` and open the notebook in DataHub (or Colab for non-UCB students).\n",
    "```\n",
    "\n",
    "## Learning objectives \n",
    "\n",
    "This notebook contains exercises that explore a few of the different file types that are commonly used to store materials data.\n",
    "We want to give you ample hands-on practice working with different file types so that you:\n",
    "1. Understand the advantages and disadvantages of each file format.\n",
    "1. Are prepared to work with a variety of datasets during self-directed research.\n",
    "\n",
    "We will progress through most of this notebook together as a group and we're happy to answer any questions you may have about this content.\n",
    "\n"
   ]
  },
  {
   "cell_type": "markdown",
   "id": "f0153a3b",
   "metadata": {},
   "source": [
    "## Contents\n",
    "\n",
    "These exercises are grouped into the following sections:\n",
    "\n",
    "1. [Paper discussion](#Paper-discussion)\n",
    "1. [Text files](#Text-files)\n",
    "1. [JSON files](#JSON-files)\n",
    "1. [Images](#Images?)\n",
    "1. [Beyond files](#When-files-simply-aren't-enough)"
   ]
  },
  {
   "cell_type": "markdown",
   "id": "2e6a92c1",
   "metadata": {},
   "source": [
    "## Paper discussion\n",
    "\n",
    "### _What do people think of Kyle and Bryce's [article](https://www.cambridge.org/core/journals/mrs-bulletin/article/beyond-bulk-single-crystals-a-data-format-for-all-materials-structurepropertyprocessing-relationships/AADBAEDA62B0391D708CF02269989E8B)?_"
   ]
  },
  {
   "cell_type": "markdown",
   "id": "a672aeeb",
   "metadata": {},
   "source": [
    "## Text files\n",
    "\n",
    "[Back to top](#Contents)\n",
    "\n",
    "From yesterday's exercises and your own experience, you've worked with text files in many contexts, which speaks to their **great flexibility**.\n",
    "Indeed this is one of their strengths, as they simply consist of characters on lines that can then be represented in Python as a sequence of strings.\n",
    "\n",
    "To revisit an example from yesterday, let's open the file `mentors.txt` and print its contents."
   ]
  },
  {
   "cell_type": "code",
   "execution_count": null,
   "id": "5b63a1d0",
   "metadata": {},
   "outputs": [],
   "source": [
    "filepath = '../../assets/data/week_1/01/mentors.txt'\n",
    "with open(filepath, 'r') as f:\n",
    "    for line in f:\n",
    "        print(line.strip())"
   ]
  },
  {
   "cell_type": "markdown",
   "id": "c850e2f4",
   "metadata": {},
   "source": [
    "**Pause and reflect**: Why did we include the `str.strip()` method?\n",
    "\n",
    "\n",
    "----\n",
    "\n",
    "Text files are great, because we can store all sorts of information in them and they are **human readable**.\n",
    "When we talk about readability (interpretability), we typically refer to humans; but in MI, you'll soon see that there seems to be an unfortunate tradeoff between what'interpretable for humans and what's interpretable for computers.\n",
    "\n",
    "Another quick note about text files is that **they don't have to end in `.txt`** to be a \"text file.\"\n",
    "A Python file (`.py` extension) or Jupyter notebook file (`.ipynb`), for example, are considered text files too!\n",
    "In Module 3, when you're working with DFT calculations, you'll likely see a lot of text files that don't even have an extension! \n",
    "(This is possible on any OS, though rarely helpful on ones with GUIs.)"
   ]
  },
  {
   "cell_type": "markdown",
   "id": "ec1bc065",
   "metadata": {},
   "source": [
    "### When might this access pattern be less suitable?\n",
    "\n",
    "We'll go through another text file example shortly, but before we get there, we'd like to hear from you as to how you would answer this question.\n",
    "It seems like \n",
    "\n",
    "```python\n",
    "with open(filepath, 'r') as f:\n",
    "    for line in f:\n",
    "        # do something\n",
    "```\n",
    "\n",
    "is quite powerful!\n",
    "But can you think of situations where we might not want to use it? 🤔"
   ]
  },
  {
   "cell_type": "code",
   "execution_count": null,
   "id": "8c3f14a0",
   "metadata": {},
   "outputs": [],
   "source": [
    "# some blank space - don't scroll too far - feel free to take notes here\n",
    "\n",
    "\n",
    "\n",
    "\n",
    "\n",
    "\n",
    "\n",
    "\n",
    "\n",
    "\n",
    "\n",
    "\n",
    "\n"
   ]
  },
  {
   "cell_type": "markdown",
   "id": "a4acaa3d",
   "metadata": {},
   "source": [
    "A cop-out answer to the above question would be: when the file is not a text file (duh).\n",
    "Many such files exist, and they're generally referred to as [_binary files_](https://en.wikipedia.org/wiki/Binary_file). \n",
    "In fact, if you didn't click the previous link to the Wikipedia page, just know that the first sentence literally reads: 🤣\n",
    "```\n",
    "A binary file is a computer file that is not a text file.\n",
    "```\n",
    "\n",
    "These are data stored as a sequence of bytes that aren't necessarily text characters, and you've seen an example in yesterday's exercises with the `.npy` NumPy arrays.\n",
    "If we try to use the same code to read this file, we get something pretty gnarly:"
   ]
  },
  {
   "cell_type": "code",
   "execution_count": null,
   "id": "422235f2",
   "metadata": {
    "scrolled": true
   },
   "outputs": [],
   "source": [
    "with open('../../assets/data/week_1/01/2d_walk.npy', 'r') as f:\n",
    "    for i, line in enumerate(f):\n",
    "        print(line)   # whoa!\n",
    "        if i > 2:\n",
    "            break     # early stopping; we get the idea"
   ]
  },
  {
   "cell_type": "markdown",
   "id": "792b86ed",
   "metadata": {},
   "source": [
    "### When the file is _structured_\n",
    "\n",
    "A more subtle answer to the above question would be when the file _is_ still a text file, but the text is written in a way that has some internal structure.\n",
    "The flexibility of text files is really nice if we're writing prose or poetry, but data are usually more systematically organized to facilitate access.\n",
    "This means there might be a **more specialized/targeted way** to read in the contents of the file than going line by line and interpreting the contents as strings, particularly as a lot of data are numeric.\n",
    "As we move forward and discuss different examples of structured data, we invite you to think about what we said earlier about the tradeoff between human interpretability and computer interpretability."
   ]
  },
  {
   "cell_type": "markdown",
   "id": "513b15a0",
   "metadata": {},
   "source": [
    "### Exercise: more elemental properties\n",
    "\n",
    "For this next exercise, we'll attempt to do some _live coding_ together.\n",
    "This means that we'll need to work as a team and have **everyone contribute** to the solution.\n",
    "This exercise will give us practice working with files, control flow, lists, and casting.\n",
    "\n",
    "Inside the text file `hardness_density.csv` (CSV is another type of text file), we have some data organized as follows:\n",
    "```\n",
    "# Data obtained from Wikipedia\n",
    "Element,Number,Mohs hardness,Density (g/cc)\n",
    "lithium,3,0.6,0.534\n",
    "beryllium,4,5.5,1.85\n",
    "boron,5,9.4,2.34\n",
    "carbon,6,10,3.513\n",
    "...\n",
    "```\n",
    "\n",
    "Our job is to read in this text file and store the data, starting from the third line, as a **list of lists**.\n",
    "The outer list has an element for each line, and the inner list should have elements of type `[str, int, float, float]` representing the element, atomic number, Mohs hardness, and density, respectively.\n",
    "\n",
    "```\n",
    "data = \n",
    "[['lithium', 3, 0.6, 0.534],\n",
    " ['beryllium', 4, 5.5, 1.85],\n",
    " ['boron', 5, 9.4, 2.34],\n",
    " ['carbon', 6, 10.0, 3.513],\n",
    " ...\n",
    "]\n",
    "```"
   ]
  },
  {
   "cell_type": "code",
   "execution_count": null,
   "id": "aeabbb3a",
   "metadata": {
    "scrolled": true
   },
   "outputs": [],
   "source": [
    "filepath = '../../assets/data/week_1/02/hardness_density.csv'\n",
    "# -------------   WRITE YOUR CODE IN THE SPACE BELOW   ---------- #\n"
   ]
  },
  {
   "cell_type": "markdown",
   "id": "c289fdd3",
   "metadata": {},
   "source": [
    "**Pause and reflect**: Is there any structure in the above data?\n",
    "We will revisit this example in the next lesson!\n",
    "\n"
   ]
  },
  {
   "cell_type": "markdown",
   "id": "fe21ed09",
   "metadata": {},
   "source": [
    "## JSON files\n",
    "\n",
    "[Back to top](#Contents)\n",
    "\n",
    "A CSV file is an example of a text file with some structure, but there's so much to say on this topic that we'll dedicate an entire lesson to it.\n",
    "In the meantime, we'll explore another kind of structured text file that is very commonly used for materials data, and that is [JavaScript Object Notation](https://en.wikipedia.org/wiki/JSON), or **JSON** for short.\n",
    "It is very commonly used to store **hierarchical data** in array structures (like lists!) and key-value pairs (like dictionaries!), both of which we're familiar with, so it makes sense to discuss this next.\n",
    "An example of what a JSON entry for the above data would look like could be:\n",
    "```\n",
    "[\n",
    "    {\n",
    "        \"element\": \"lithium\",\n",
    "        \"number\": 3,\n",
    "        \"hardness\": 0.6,\n",
    "        \"density\": {\n",
    "            \"value\": 0.534,\n",
    "            \"units\": \"g/cc\",\n",
    "        }\n",
    "    },\n",
    "    {\n",
    "        \"element\": \"beryllium\",\n",
    "        ...\n",
    "    }\n",
    "]\n",
    "```\n",
    "\n",
    "-----\n",
    "\n",
    "**Pause and reflect**: What _data types_ and _data structures_ do we see in the snippet above?\n",
    "\n"
   ]
  },
  {
   "cell_type": "markdown",
   "id": "0d195435",
   "metadata": {},
   "source": [
    "Fundamentally, _a JSON file is just another text file_. \n",
    "For example, we have some band gap data from the canonical dataset compiled by [Strehlow and Cook, *J. Phys. Chem. Ref. Data*, 1973](https://aip.scitation.org/doi/10.1063/1.3253115) stored in the file `band_gaps_sc.json`, which was obtained from [Citrination](https://citrination.com/datasets/1160/).\n",
    "We could, if we want to, simply try to read this file from top to bottom like so:"
   ]
  },
  {
   "cell_type": "code",
   "execution_count": null,
   "id": "2b1250a6",
   "metadata": {
    "scrolled": true
   },
   "outputs": [],
   "source": [
    "filepath = '../../assets/data/week_1/02/band_gaps_sc.json'\n",
    "with open(filepath, 'r') as f:\n",
    "    for i, line in enumerate(f):\n",
    "        print(line.rstrip())   # this removes invisibles from the right side of the string ONLY\n",
    "        if i > 25:\n",
    "            break              # early stopping, we get the idea"
   ]
  },
  {
   "cell_type": "markdown",
   "id": "239b0c70",
   "metadata": {},
   "source": [
    "While this _works_, it feels clunky if we wanted to extract all band gap values and we wouldn't be able to take advantage of all the nice indexing features that come with lists and dictionaries.\n",
    "If only there was a way for us to load in _the entire file_ as a list of dictionaries representing our materials..."
   ]
  },
  {
   "cell_type": "markdown",
   "id": "5a6b11fc",
   "metadata": {},
   "source": [
    "### `json` to the rescue\n",
    "\n",
    "![Super JSON](../../assets/fig/week_1/02/super_json.png)\n",
    "\n",
    "Fortunately, there exists another package in Python that allows us to do that, and this package is called, appropriately, [`json`](https://docs.python.org/3.8/library/json.html).\n",
    "We first **import** the `json` package and then use it as follows:"
   ]
  },
  {
   "cell_type": "code",
   "execution_count": null,
   "id": "9bc3e8b5",
   "metadata": {},
   "outputs": [],
   "source": [
    "import json\n",
    "filepath = '../../assets/data/week_1/02/band_gaps_sc.json'\n",
    "with open(filepath, 'r') as f:   # same as any other text file\n",
    "    materials = json.load(f)     # special function from the json package!\n",
    "\n",
    "# display the first material in the dataset\n",
    "print(f\"'materials' is a variable of type {type(materials)}.\")\n",
    "print(f'Its elements are of type {type(materials[0])}.')\n",
    "print(f'There are {len(materials)} materials in total. Not that many!')\n",
    "print('The first element is the following:')\n",
    "materials[0]"
   ]
  },
  {
   "cell_type": "markdown",
   "id": "8931ead3",
   "metadata": {},
   "source": [
    "Aha! \n",
    "Now our data are represented by sensible Python constructs.\n",
    "In particular, you'll notice that the JSON allows **metadata** to be intuitively associated with the corresponding data (e.g., the temperature at which a particular measurement was made).\n",
    "Let's see if we can dig a little deeper and extract some useful data out of this dataset.\n",
    "\n",
    "### Exercise (small group): create a list that stores all of the band gap values in the Strehlow and Cook dataset\n",
    "\n",
    "Your first few values should be: `band_gaps = [13.6, 12.61, 12.6, 12.1, 12, ...]`\n",
    "\n",
    "_Hints_: \n",
    "- Band gap is stored in the `properties` entry of the dictionary, but **not every material has every property**, so the list (value) associated with this key will have varying lengths!\n",
    "- How can we ensure we've found the `\"Band gap\"` property?\n",
    "- You may assume that every material has a band gap associated with it."
   ]
  },
  {
   "cell_type": "code",
   "execution_count": null,
   "id": "23b9963e",
   "metadata": {},
   "outputs": [],
   "source": [
    "band_gaps = []\n",
    "# -------------   WRITE YOUR CODE IN THE SPACE BELOW   ---------- #\n",
    "\n",
    "# --------------------------------------------------------------- #\n",
    "band_gaps[:10]"
   ]
  },
  {
   "cell_type": "markdown",
   "id": "b987b0ab",
   "metadata": {},
   "source": [
    "### Writing JSON files\n",
    "\n",
    "If you have some hierarchical data stored inside lists and dictionaries, you may want to save it to an external JSON file.\n",
    "As a very simple example, let's take the list of band gap values you created in the previous exercise and try writing that list (`band_gaps`) to a JSON (for any other data, the code is the same, and only the file content structure/hierarchy will be different).\n",
    "We use the [`json.dump()`](https://docs.python.org/3/library/json.html#json.dump) function as follows:\n",
    "```python\n",
    "with open('path/to/output_file.json', 'w') as f:   # note the 'w' for write!\n",
    "    json.dump(data_object, f, indent=4)            # indent=4 is a best practice\n",
    "```\n",
    "\n",
    "When applied to our data, the result is:"
   ]
  },
  {
   "cell_type": "code",
   "execution_count": null,
   "id": "2bcc2085",
   "metadata": {},
   "outputs": [],
   "source": [
    "with open('../../assets/data/week_1/02/band_gaps_only.json', 'w') as f:\n",
    "    json.dump(band_gaps, f, indent=4)"
   ]
  },
  {
   "cell_type": "markdown",
   "id": "bda30b67",
   "metadata": {},
   "source": [
    "### Versatility\n",
    "\n",
    "JSON files are very good at storing **hierarchical data**, which makes them suitable for many materials data, as explained by Kyle and Bryce [in their paper](https://www.cambridge.org/core/journals/mrs-bulletin/article/beyond-bulk-single-crystals-a-data-format-for-all-materials-structurepropertyprocessing-relationships/AADBAEDA62B0391D708CF02269989E8B).\n",
    "But JSON is used in many other applications too, such as this very notebook that you're currently reading! 😉"
   ]
  },
  {
   "cell_type": "markdown",
   "id": "128c84e6",
   "metadata": {},
   "source": [
    "## Images?\n",
    "\n",
    "[Back to top](#Contents)\n",
    "\n",
    "![Images](../../assets/fig/week_1/02/images.png)\n",
    "\n",
    "While we will not have time to teach you about image data in this module, we will briefly show how they can be handled in Python.\n",
    "Given the importance and diversity of materials characterization techniques, it would be remiss of us to not at least mention image analysis.\n",
    "You have probably heard a lot about this topic in the media in the context of [self-driving cars](https://towardsdatascience.com/how-do-self-driving-cars-see-13054aee2503), [deep fakes](https://www.nytimes.com/interactive/2020/11/21/science/artificial-intelligence-fake-people-faces.html), and [medicine](https://www.nature.com/articles/s41746-020-00376-2) just to name a few, and it's becoming a big deal in MI too.\n",
    "\n",
    "There are _many_ packages out there for working with image data, so for the purposes of demonstration, we will work with the standard _Python Imaging Library (PIL)_, now developed under the [**Pillow**](https://python-pillow.org/) project, for reading an image file."
   ]
  },
  {
   "cell_type": "code",
   "execution_count": null,
   "id": "1fb45195",
   "metadata": {},
   "outputs": [],
   "source": [
    "# Import modules\n",
    "from PIL import Image\n",
    "img = Image.open('../../assets/fig/week_1/02/microstructure.png')\n",
    "# img = Image.open('../../assets/fig/week_1/02/diffraction.jpg')\n",
    "\n",
    "# We can even convert the image into a NumPy array\n",
    "import numpy as np\n",
    "img_arr = np.asarray(img)\n",
    "print(f'The image has dimensions {img_arr.shape}.')   # what are all the dimensions?\n",
    "\n",
    "# Display the PIL Image\n",
    "img"
   ]
  },
  {
   "cell_type": "markdown",
   "id": "35668035",
   "metadata": {},
   "source": [
    "While this is all we have time for today, fear not, because [Alex](https://scott.mse.berkeley.edu/people/alexandra-bruefach/) will be speaking to us next Wednesday about her own research at the intersection of MI and electron microscopy!\n",
    "For more information on data-driven electron microscopy, you can also check out [this commentary in _Nature Materials_](https://www.nature.com/articles/s41563-020-00833-z) by the leading researchers in this field."
   ]
  },
  {
   "cell_type": "markdown",
   "id": "37306c67",
   "metadata": {},
   "source": [
    "## When files simply aren't enough\n",
    "\n",
    "[Back to top](#Contents)\n",
    "\n",
    "At this point, you've seen a lot of different files types for storing materials data.\n",
    "Specifically, we've discussed regular text files, binary files, CSVs, JSONs, and images, and you'll get more practice working with several of these in this module.\n",
    "This is already an incredibly diverse set of data, which speaks to a lot of the challenges faced in MI.\n",
    "\n",
    "However, there will be times when our data get so large and complex that it becomes infeasible to store them in files, even if these files are stored in the cloud.\n",
    "This calls for something else—this calls for **databases**!\n",
    "Stay tuned for more. 🙂"
   ]
  },
  {
   "cell_type": "markdown",
   "id": "0cb8c330",
   "metadata": {},
   "source": [
    "## Conclusion\n",
    "\n",
    "This concludes our discussion of files. 📄📂\n",
    "Up next, we're going to take a **deep dive into tabular data** and CSV files specifically.\n",
    "Please don't hesitate to reach out on Slack if you have questions or concerns about this content."
   ]
  }
 ],
 "metadata": {
  "kernelspec": {
   "display_name": "Python 3",
   "language": "python",
   "name": "python3"
  },
  "language_info": {
   "codemirror_mode": {
    "name": "ipython",
    "version": 3
   },
   "file_extension": ".py",
   "mimetype": "text/x-python",
   "name": "python",
   "nbconvert_exporter": "python",
   "pygments_lexer": "ipython3",
   "version": "3.7.10"
  },
  "toc": {
   "base_numbering": 1,
   "nav_menu": {},
   "number_sections": false,
   "sideBar": true,
   "skip_h1_title": true,
   "title_cell": "Table of Contents",
   "title_sidebar": "Contents",
   "toc_cell": false,
   "toc_position": {},
   "toc_section_display": true,
   "toc_window_display": false
  }
 },
 "nbformat": 4,
 "nbformat_minor": 5
}
