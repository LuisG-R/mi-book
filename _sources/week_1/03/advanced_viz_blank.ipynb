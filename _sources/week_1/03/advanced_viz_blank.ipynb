{
 "cells": [
  {
   "cell_type": "markdown",
   "id": "5334554e",
   "metadata": {},
   "source": [
    "# Advanced visualizations\n",
    "\n",
    "*Authors: Enze Chen and Mark Asta (University of California, Berkeley)*\n",
    "\n",
    "```{note}\n",
    "This is an interactive exercise, so you will want to click the {fa}`rocket` and open the notebook in DataHub (or Colab for non-UCB students).\n",
    "```\n",
    "\n",
    "## Learning objectives\n",
    "\n",
    "This notebook contains a series of demos and suggestions for things to try next.\n",
    "Read another way, it's very half-baked because Enze misjudged how much time he actually had.\n",
    "These exercises are **optional**, meant for those who have finished everything else; although everyone might find these exercises helpful later for self-directed research.\n",
    "But no **seriously this is optional** and you shouldn't feel like you're missing out on anything by not doing it.\n",
    "\n",
    "\n",
    "### Import Python modules"
   ]
  },
  {
   "cell_type": "code",
   "execution_count": null,
   "id": "abaae0c1",
   "metadata": {},
   "outputs": [],
   "source": [
    "import os\n",
    "import json\n",
    "import numpy as np\n",
    "import pandas as pd\n",
    "import matplotlib.pyplot as plt\n",
    "%matplotlib inline\n",
    "from helper_funcs import get_api_key\n",
    "\n",
    "plt.rcParams.update({'figure.figsize':(8,6),       # Increase figure size\n",
    "                     'font.size':24,               # Increase font size\n",
    "                     'mathtext.fontset':'cm',      # Change math font to Computer Modern\n",
    "                     'mathtext.rm':'serif',        # Documentation recommended follow-up\n",
    "                     'lines.linewidth':5,          # Thicker plot lines\n",
    "                     'lines.markersize':12,        # Larger plot points\n",
    "                     'axes.linewidth':2,           # Thicker axes lines (but not too thick)\n",
    "                     'xtick.direction':'in', \n",
    "                     'ytick.direction':'in',\n",
    "                     'xtick.major.size':8,         # Make the x-ticks longer (our plot is larger!)\n",
    "                     'xtick.major.width':2,        # Make the x-ticks wider\n",
    "                     'ytick.major.size':8,         # Ditto for y-ticks\n",
    "                     'ytick.major.width':2})       # Ditto for y-ticks"
   ]
  },
  {
   "cell_type": "markdown",
   "id": "5aea55aa",
   "metadata": {},
   "source": [
    "## Interactive visualizations\n",
    "\n",
    "So far we've talked about some of the basic visualizations, which already were pretty impressive.\n",
    "With some custom styling tailored to our data and use case, those plots really shined.\n",
    "\n",
    "But, maybe those weren't exciting enough because they were static plots that you couldn't interact with.\n",
    "There are many Python packages out there for creating **interactive** content, and one of the most popular ones is [Plotly](https://plotly.com/python/).\n",
    "Again, rather than _describe_ what Plotly allows you to do, we'll just _show_ you, by plotting a [`PhaseDiagram`](https://pymatgen.org/pymatgen.analysis.phase_diagram.html) object from Pymatgen.\n",
    "Try hovering over the points and dragging the figure around. 🙂"
   ]
  },
  {
   "cell_type": "code",
   "execution_count": null,
   "id": "446408c8",
   "metadata": {},
   "outputs": [],
   "source": [
    "from pymatgen.ext.matproj import MPRester\n",
    "from pymatgen.analysis.phase_diagram import PhaseDiagram, PDPlotter\n",
    "\n",
    "api_key = get_api_key()\n",
    "with MPRester(api_key) as m:\n",
    "    entries = m.get_entries_in_chemsys(['Ca', 'C', 'O'])\n",
    "phase_diagram = PhaseDiagram(entries)\n",
    "pltr = PDPlotter(phase_diagram)\n",
    "pltr.show()"
   ]
  },
  {
   "cell_type": "markdown",
   "id": "b0541422",
   "metadata": {},
   "source": [
    "## Dielectric constants dataset\n",
    "\n",
    "Kevin made an observation that tabular data formats (CSV) could be an advantage over hierarchical data formats (JSON) due to ease of computing summary statistics.\n",
    "Another advantage is in data visualization.\n",
    "In this series of exercises, we'll work with the _tabular form_ of [the dielectric constants dataset](https://www.nature.com/articles/sdata2016134), which hopefully you were able to finish as part of the Tabular data notebook.\n",
    "If not, no worries, there should be a completed dataset lying somewhere in the `assets` folder. 😉\n",
    "\n",
    "Here are ideas for a few things you could plot with that data as-is:\n",
    "1. A scatter plot of refractive index vs. band gap, just like their Figure 5.\n",
    "Pay attention to the [axes scales](https://matplotlib.org/stable/api/_as_gen/matplotlib.axes.Axes.set_xscale.html)!\n",
    "1. A scatter plot of the other properties, maybe electronic vs. total dielectric constants?\n",
    "1. A histogram of any of the properties, maybe total dielectric constants?\n",
    "Similar to Figure 3, but we'll go with [histograms](https://matplotlib.org/stable/gallery/statistics/hist.html) instead of [violin plots](https://matplotlib.org/stable/gallery/statistics/violinplot.html)."
   ]
  },
  {
   "cell_type": "code",
   "execution_count": null,
   "id": "5920fc40",
   "metadata": {
    "scrolled": false
   },
   "outputs": [],
   "source": [
    "# -------------   WRITE YOUR CODE IN THE SPACE BELOW   ---------- #\n"
   ]
  },
  {
   "cell_type": "markdown",
   "id": "80beeb99",
   "metadata": {},
   "source": [
    "### Extension\n",
    "\n",
    "You'll notice that a differentiator between the plots you created above and the ones in the paper is the separation based on crystal structure.\n",
    "One way to \"easily\" figure out the crystal structure of a material is with the [space group number](https://en.wikipedia.org/wiki/Space_group#Table_of_space_groups_in_3_dimensions).\n",
    "But... we don't have the space group number... yet.\n",
    "\n",
    "**Step 1**: Expand your dataset by getting the space group number of each material.\n",
    "You can do this in many ways, and we suggest two possible paths:\n",
    "1. You can look in the original dataset (JSON file) to try and extract the space group number, which is buried in the file.\n",
    "This is a good exercise.\n",
    "1. OR you can use Pymatgen to construct a query for the space group of all of your materials (possible with a criteria on the material ID).\n",
    "This is also a good exercise.\n",
    "\n",
    "You can add the space group number to your DataFrame / tabular dataset of the dielectric constants.\n",
    "Then save this dataset into a file since you've improved it.\n",
    "\n",
    "**Step 2**: After this, what you then need is a function that can convert the space group number into the crystal system.\n",
    "This should be very similar to a function that you've already written on the first day, so no more hints on this part. 😉\n",
    "\n",
    "**Step 3**: Finally, to plot each set of crystal structures separately (say, a different color for each one on a scatter plot), we can group the data in the DataFrame by crystal structure using the [`df.groupby()`](https://pandas.pydata.org/pandas-docs/stable/reference/api/pandas.DataFrame.groupby.html) method.\n",
    "You might want to use it in this way:\n",
    "```python\n",
    "groups = df.groupby(['crystal_structure'])\n",
    "for name, group in groups:\n",
    "    ax.scatter(group['band_gap'], group['refractive_index'], label=name)\n",
    "```\n",
    "\n",
    "Good luck!\n",
    "\n",
    "------------\n",
    "\n",
    "It must be said that this particular extension has a lot of new ideas thrown at you all at once.\n",
    "What we recommend you pay attention to is not finishing all the steps, but rather why we chose this sequence of steps, and how we broke down a complex problem (here's a plot, go make it!) into a series of more manageable steps.\n",
    "Note that we started with something that we already had access to, and then brought in more data as we needed.\n",
    "You might find yourself doing something similar, _but not exactly the same_ in your own work, so it's much more important that you mirror the thought process, rather than the concrete code."
   ]
  },
  {
   "cell_type": "code",
   "execution_count": null,
   "id": "348d1220",
   "metadata": {},
   "outputs": [],
   "source": [
    "# -------------   WRITE YOUR CODE IN THE SPACE BELOW   ---------- #\n"
   ]
  },
  {
   "cell_type": "markdown",
   "id": "51e529c9",
   "metadata": {},
   "source": [
    "## Conclusion\n",
    "\n",
    "Please don't hesitate to reach out on Slack if you have questions or concerns about this or any other content."
   ]
  }
 ],
 "metadata": {
  "celltoolbar": "Tags",
  "kernelspec": {
   "display_name": "Python 3",
   "language": "python",
   "name": "python3"
  },
  "language_info": {
   "codemirror_mode": {
    "name": "ipython",
    "version": 3
   },
   "file_extension": ".py",
   "mimetype": "text/x-python",
   "name": "python",
   "nbconvert_exporter": "python",
   "pygments_lexer": "ipython3",
   "version": "3.7.10"
  },
  "toc": {
   "base_numbering": 1,
   "nav_menu": {},
   "number_sections": false,
   "sideBar": true,
   "skip_h1_title": true,
   "title_cell": "Table of Contents",
   "title_sidebar": "Contents",
   "toc_cell": false,
   "toc_position": {},
   "toc_section_display": true,
   "toc_window_display": false
  }
 },
 "nbformat": 4,
 "nbformat_minor": 5
}
