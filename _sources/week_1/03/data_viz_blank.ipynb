{
 "cells": [
  {
   "cell_type": "markdown",
   "id": "5334554e",
   "metadata": {},
   "source": [
    "# Data visualization\n",
    "\n",
    "*Authors: Enze Chen and Mark Asta (University of California, Berkeley)*\n",
    "\n",
    "```{note}\n",
    "This is an interactive exercise, so you will want to click the {fa}`rocket` and open the notebook in DataHub (or Colab for non-UCB students).\n",
    "```\n",
    "\n",
    "## Learning objectives\n",
    "\n",
    "This notebook contains a series of exercises that introduces data visualization in Python such that, by the end of the lesson, you will be able to:\n",
    "1. Describe what different visualizations are communicating and their pros and cons.\n",
    "1. Evaluate when a particular type of visualization is suitable for a particular goal.\n",
    "1. Use the [matplotlib package](https://matplotlib.org/stable/index.html) to create basic visualizations in Python.\n",
    "\n",
    "We will progress through most of this exercise together as a group and please interrupt any time you have a question. ❓\n",
    "\n"
   ]
  },
  {
   "cell_type": "markdown",
   "id": "bb32d824",
   "metadata": {},
   "source": [
    "## Contents\n",
    "\n",
    "These exercises are grouped into the following sections:\n",
    "\n",
    "1. [Intro to data visualization](#Intro-to-data-visualization)\n",
    "1. [Intro to matplotlib](#Intro-to-matplotlib)\n",
    "1. [Numerical data](#Numerical-data)\n",
    "1. [Categorical data](#Categorical-data)\n",
    "1. [Statistical analyses](#Statistical-analyses)"
   ]
  },
  {
   "cell_type": "markdown",
   "id": "c3f1ec66",
   "metadata": {},
   "source": [
    "## Intro to data visualization\n",
    "\n",
    "[Back to top](#Contents)\n",
    "\n",
    "Like all the previous sections, before we dive right in, let's think about the following question:\n",
    "\n",
    "**Pause and reflect**: Why is data visualization an important topic?\n",
    "\n",
    "\n",
    "### Example\n",
    "\n",
    "Given that this is a lesson on data _visualization_, it kinda makes sense to just dive right in and _display something_ rather than _say something_.\n",
    "So here's a plot that may look familiar:"
   ]
  },
  {
   "cell_type": "code",
   "execution_count": null,
   "id": "e3383336",
   "metadata": {},
   "outputs": [],
   "source": [
    "from helper_funcs import *\n",
    "plot_dielectric_data()"
   ]
  },
  {
   "cell_type": "markdown",
   "id": "1153c9da",
   "metadata": {},
   "source": [
    "Surprise!\n",
    "Turns out this plot was made in Python all along. 😜\n",
    "While we kinda cheated by hiding the details in the above code, you will be able to make a plot just like this one by the end of this lesson."
   ]
  },
  {
   "cell_type": "markdown",
   "id": "a2412bb6",
   "metadata": {},
   "source": [
    "## Intro to matplotlib\n",
    "\n",
    "[Back to top](#Contents)\n",
    "\n",
    "In Python, there are many packages for data visualization, each with their own merits, but the base package that many of them are based off of is [**matplotlib**](https://matplotlib.org/stable/index.html), a software that was originally developed by John Hunter (see [John Hunter, _Computing in Science Engineering_, 2007](https://ieeexplore.ieee.org/document/4160265)) and is now used by thousands of scientists.\n",
    "It has, in many aspects, become the NumPy equivalent for plotting, and integrates quite well with NumPy arrays and pandas DataFrames.\n",
    "\n",
    "You might read the name \"matplotlib\" and think, \"Hey, that kinda sounds like MATLAB.\"\n",
    "Well, you'd be right, since many aspects of matplotlib were first developed to emulate MATLAB (read Hunter's article to learn more), and the **Pyplot** module was purposely designed to give a MATLAB-like way of plotting.\n",
    "This allows us to get high-quality graphics (like MATLAB) while obeying Python principles of object-oriented programming (OOP) and being free to use. ✨\n",
    "\n",
    "To use Pyplot, we write the following:"
   ]
  },
  {
   "cell_type": "code",
   "execution_count": null,
   "id": "756da698",
   "metadata": {},
   "outputs": [],
   "source": [
    "import matplotlib.pyplot as plt   # standard alias\n",
    "%matplotlib inline                "
   ]
  },
  {
   "cell_type": "markdown",
   "id": "39c4ff48",
   "metadata": {},
   "source": [
    "In the first line, we import the Pyplot module under the `plt` alias, which is a community standard.\n",
    "\n",
    "In the second line, we have our first [IPython magic function](https://ipython.readthedocs.io/en/stable/interactive/tutorial.html#magic-functions), and this one specifically displays our plot outputs directly below the code cell (using the `inline` backend) instead of creating a pop-up window like when running `.py` files.\n",
    "This backend is **only for Jupyter notebooks** and it will not work if you include it in a `.py` file."
   ]
  },
  {
   "cell_type": "markdown",
   "id": "2dd30c04",
   "metadata": {},
   "source": [
    "### Create Figure and Axes objects\n",
    "\n",
    "**Step 1**: There are many ways to create figures using Pyplot, but in true OOP fashion, the **best practice** is to create [`Figure`](https://matplotlib.org/stable/api/figure_api.html#matplotlib.figure.Figure) and [`Axes`](https://matplotlib.org/stable/api/axes_api.html#matplotlib.axes.Axes) objects using the [`plt.subplots()`](https://matplotlib.org/stable/api/_as_gen/matplotlib.pyplot.subplots.html) function like so:\n",
    "```python\n",
    "fig, ax = plt.subplots()\n",
    "```\n",
    "\n",
    "The `Figure` (`fig` variable) is the top-level container for all plot elements while the `Axes` (`ax` variable) is the object for a particular plot (this is _not_ the plural form of the word \"axis\").\n",
    "`plt.subplots()` creates both of these objects, which we then assign to the variables on the left.\n",
    "Imagine this step as the IRL-equivalent of saying, \"Before we can paint a painting, we must fetch a new canvas.\"\n",
    "\n",
    "**Step 2**: To make a plot, we can call a method like [`ax.plot(x, y)`](https://matplotlib.org/stable/api/_as_gen/matplotlib.axes.Axes.plot.html) **directly using the `Axes` object**—_not_ the `Figure` object or the Pyplot module (unlike MATLAB).\n",
    "This standard method plots $y$ vs. $x$ points and, by default, connects the points with lines in the order that they're plotted.\n",
    "Note the syntax for `ax.plot()` is a list (or array) of $x$-coordinates and _then_ a list of $y$-coordinates, **not** a list of $(x,y)$ pairs.\n",
    "\n",
    "**Step 3**: Finally, and perhaps unintuitively, we have to call [`plt.show()`](https://matplotlib.org/stable/api/_as_gen/matplotlib.pyplot.show.html) to actually display the plot.\n",
    "Matplotlib can be quite literal!\n",
    "As we shall soon see, this is also what makes it shine. 💖\n",
    "\n",
    "----\n",
    "\n",
    "We've done too much talking, so let's put this into practice!\n",
    "\n",
    "### Exercise: Write three lines of code to plot $y = x ^ 2$ for the first five positive integers"
   ]
  },
  {
   "cell_type": "code",
   "execution_count": null,
   "id": "0e27b4e5",
   "metadata": {},
   "outputs": [],
   "source": [
    "# -------------   WRITE YOUR CODE IN THE SPACE BELOW   ---------- #\n"
   ]
  },
  {
   "cell_type": "markdown",
   "id": "8d963bd9",
   "metadata": {},
   "source": [
    "### Exercise: Plot $y = \\sin(x)$ in the interval $x \\in [0, 2\\pi]$\n",
    "\n",
    "_Hint_: Importing `numpy` is a good idea!"
   ]
  },
  {
   "cell_type": "code",
   "execution_count": null,
   "id": "dcfef4dd",
   "metadata": {},
   "outputs": [],
   "source": [
    "# -------------   WRITE YOUR CODE IN THE SPACE BELOW   ---------- #\n"
   ]
  },
  {
   "cell_type": "markdown",
   "id": "cff84fe6",
   "metadata": {},
   "source": [
    "### A few stylistic tips\n",
    "\n",
    "We're off to a great start!\n",
    "Before we continue further with other plot types, let's discuss a few important features that are currently missing from the above two plots.\n",
    "\n",
    "**Pause and reflect**: What are some ways we can improve the above plots?\n",
    "\n"
   ]
  },
  {
   "cell_type": "code",
   "execution_count": null,
   "id": "e5ab4c51",
   "metadata": {},
   "outputs": [],
   "source": [
    "# some blank space - you can take notes here if you want\n",
    "\n",
    "\n",
    "\n",
    "\n",
    "\n",
    "\n",
    "\n",
    "\n",
    "\n",
    "\n",
    "\n",
    "\n",
    "\n"
   ]
  },
  {
   "cell_type": "markdown",
   "id": "c3b4d473",
   "metadata": {},
   "source": [
    "#### Adding informative labels\n",
    "\n",
    "Whether it's a title, axes labels, or a legend, plot labels are extremely important!\n",
    "They can be easily added to an Axes object using built-in methods:\n",
    "\n",
    "- [`ax.set_title('title_str')`](https://matplotlib.org/stable/api/_as_gen/matplotlib.axes.Axes.set_title.html): Adds a title to the plot.\n",
    "- [`ax.set_xlabel('xlabel_str')`](https://matplotlib.org/stable/api/_as_gen/matplotlib.axes.Axes.set_xlabel.html): Adds a label to the $x$-axis.\n",
    "- [`ax.set_ylabel('ylabel_str')`](https://matplotlib.org/stable/api/_as_gen/matplotlib.axes.Axes.set_ylabel.html): Adds a label to the $y$-axis.\n",
    "- [`ax.legend()`](https://matplotlib.org/stable/api/_as_gen/matplotlib.axes.Axes.legend.html): Adds a legend to the plot.\n",
    "\n",
    "**Note**: All of these methods must be called _before_ `plt.show()`.\n",
    "\n",
    "The first three methods are relatively straightforward as the input argument becomes the label.\n",
    "If you know $\\LaTeX$, it can be rendered if you include it in the string, where `'$E_g$'` will render as $E_g$ like in the first plot.\n",
    "\n",
    "The last method `ax.legend()` will display a legend with labels **only** for plot elements that have labels assigned to them.\n",
    "To assign a label to a plot element, add `label='legend_str'` in the input arguments to the `ax.plot()` method."
   ]
  },
  {
   "cell_type": "markdown",
   "id": "ef10e2ee",
   "metadata": {},
   "source": [
    "#### Adding more elements to the plot\n",
    "\n",
    "If you want to add more plot elements (lines, points, etc.) to the plot, that can easily be done with more calls to `ax.plot()`.\n",
    "These lines will be added with a different color in [the color cycle](https://matplotlib.org/stable/users/dflt_style_changes.html#colors-color-cycles-and-colormaps) and they **will not replace** previous lines.\n",
    "This is _different_ behavior than in MATLAB, where you have to type `hold on` to put multiple curves on the same plot.\n",
    "Hopefully this is a welcome change. 🙂\n",
    "\n",
    "Example:\n",
    "```python\n",
    "ax.plot(x, y1, label='sin(x)')   # plots y1 = sin(x) in blue\n",
    "ax.plot(x, y2, label='cos(x)')   # plots y2 = cos(x) in orange; y1 is still there!\n",
    "```"
   ]
  },
  {
   "cell_type": "markdown",
   "id": "59cb2471",
   "metadata": {},
   "source": [
    "#### Improving visibility\n",
    "\n",
    "**Step 1**: Perhaps one of your first criticisms of the demo plots was that they're too small!\n",
    "This can be easily fixed by adding `figsize=(width, height)` as an input argument to `plt.subplots()`, where `width` and `height` are numbers representing \"inches.\" \n",
    "We recommend **enlarging your plots** to `(8, 6)` to start with, and adjust based on personal preference.\n",
    "\n",
    "**Step 2**: Another improvement to plot visibility is increasing the thickness of your lines.\n",
    "To change this, add a `linewidth=width` parameter to your call to `ax.plot()`, where `width` is a number.\n",
    "We recommend a line width of **at least `4`**, which you can assign to a `CONSTANT` variable\n",
    "\n",
    "**Step \"3\"**: Finally, you'll notice that if you _only_ increase the size of your figure, then the font size remains small.\n",
    "To increase the font size, you have to add `fontsize=size` to _every function call that adds text_ to your plot.\n",
    "For example:\n",
    "```python\n",
    "ax.set_title('my title', fontsize=size)\n",
    "```\n",
    "We recommend a font size of **at least `20`**.\n",
    "If this seems cumbersome, that's because it is—we'll discuss a better option in the next lesson.\n",
    "\n",
    "**Step 3.5**: This is very subtle, but you'll notice that the $x$- and $y$-ticks are _also_ labeled, but you never called a function to label them(!), which means their font needs to be increased in a different way.\n",
    "To do this, we use the [`ax.tick_params()`](https://matplotlib.org/stable/api/_as_gen/matplotlib.axes.Axes.tick_params.html) method like so:\n",
    "```python\n",
    "ax.tick_params(labelsize=size)    # note the different keyword!\n",
    "```\n",
    "The documentation reveals that this method is quite flexible, but we can just use the other default options for now, which includes changing the label size for both $x$ and $y$ axes."
   ]
  },
  {
   "cell_type": "markdown",
   "id": "d1bfacff",
   "metadata": {},
   "source": [
    "### Exercise: plot $y_1 = \\sin(x)$ and $y_2 = \\cos(x)$ with these improvements below"
   ]
  },
  {
   "cell_type": "code",
   "execution_count": null,
   "id": "18072b07",
   "metadata": {},
   "outputs": [],
   "source": [
    "import numpy as np\n",
    "x = np.linspace(0, 2 * np.pi, 100)\n",
    "y1 = np.sin(x)\n",
    "y2 = np.cos(x)\n",
    "FONTSIZE = 20    # you can change these to your liking!\n",
    "LINEWIDTH = 4\n",
    "# -------------   WRITE YOUR CODE IN THE SPACE BELOW   ---------- #\n"
   ]
  },
  {
   "cell_type": "markdown",
   "id": "a58616e4",
   "metadata": {},
   "source": [
    "## Numerical data\n",
    "\n",
    "[Back to top](#Contents)\n",
    "\n",
    "So far we've discussed how to make line plots, which give you the ability to plot curves, functions, etc., which already covers a lot!\n",
    "There is another, related type of plot of numerical data that we want to briefly discuss, and that is a **scatter plot** like the very first figure in this notebook.\n",
    "To create a scatter plot in matplotlib, we can use the [`ax.scatter(x, y)`](https://matplotlib.org/stable/api/_as_gen/matplotlib.axes.Axes.scatter.html) method akin to `ax.plot(x, y)`.\n",
    "The nice part of plotting in matplotlib is that we can swap out the plotting method but keep a lot of the other methods unchanged!"
   ]
  },
  {
   "cell_type": "code",
   "execution_count": null,
   "id": "1f6498d8",
   "metadata": {},
   "outputs": [],
   "source": [
    "import numpy as np\n",
    "x = np.arange(1, 6)\n",
    "y = x ** 2\n",
    "\n",
    "fig, ax = plt.subplots(figsize=(8, 6))\n",
    "ax.scatter(x, y)   # note how this was the only thing that had to change...\n",
    "ax.tick_params(labelsize=FONTSIZE)\n",
    "plt.show()"
   ]
  },
  {
   "cell_type": "markdown",
   "id": "6b971570",
   "metadata": {},
   "source": [
    "Haha, oh boy, not another style issue! 😓\n",
    "In matplotlib language, the individual plot points themselves are called **markers**, so there's a couple of things we can do to customize the markers:\n",
    "\n",
    "**Step 1**: The most obvious thing is we need to **increase the marker size**. \n",
    "There is an `s` parameter that can be a single number or an array of the same length as the number of points to set the size of each individual marker.\n",
    "For scatter plots, we have to make this number pretty large (e.g., `100`).\n",
    "\n",
    "**Step 2**: We can also **change the marker color** using the `c` parameter, which like the size, can be a single color or an array of colors for each marker.\n",
    "In terms of color choices, there are several options! \n",
    "You can use a [named color](https://matplotlib.org/stable/gallery/color/named_colors.html), a [cycler notation](https://matplotlib.org/stable/users/dflt_style_changes.html#colors-color-cycles-and-colormaps), or any hex code (see [here](https://htmlcolorcodes.com/color-picker/) for a color picker).\n",
    "\n",
    "**Step 3**: We can also **change the marker style** using the `marker` parameter, which takes a string symbol that represents the marker. \n",
    "A list of all possible marker styles can be found in [the documentation](https://matplotlib.org/stable/api/markers_api.html).\n",
    "The default is `'o'`."
   ]
  },
  {
   "cell_type": "code",
   "execution_count": null,
   "id": "2cd20b86",
   "metadata": {},
   "outputs": [],
   "source": [
    "import numpy as np\n",
    "x = np.arange(1, 6)\n",
    "y = x ** 2\n",
    "\n",
    "# some custom settings! Feel free to experiment\n",
    "marker_size = 100\n",
    "colors = ['tab:purple' for i in range(5)]\n",
    "marker_symbol = 'o'\n",
    "\n",
    "fig, ax = plt.subplots(figsize=(8, 6))\n",
    "ax.scatter(x, y, s=marker_size, c=colors, marker=marker_symbol)\n",
    "ax.tick_params(labelsize=FONTSIZE)\n",
    "plt.show()"
   ]
  },
  {
   "cell_type": "markdown",
   "id": "85a1ed7e",
   "metadata": {},
   "source": [
    "## Categorical data\n",
    "\n",
    "[Back to top](#Contents)\n",
    "\n",
    "In addition to numerical data, you might also find yourself working with **categorical data** (materials type, crystal structure, etc.), so we will now discuss a canonical plot for categorical data: the **bar chart**.\n",
    "To make a bar chart in matplotlib, we can use the [`ax.bar(x, height)`](https://matplotlib.org/stable/api/_as_gen/matplotlib.axes.Axes.bar.html) method that plots bars of height `height` at the positions specified by `x` (`x` can also just be the labels, and Pyplot will space them apart evenly)."
   ]
  },
  {
   "cell_type": "code",
   "execution_count": null,
   "id": "5573dfc9",
   "metadata": {},
   "outputs": [],
   "source": [
    "fig, ax = plt.subplots(figsize=(8, 6))\n",
    "mentors = ['Ryan', 'Enze', 'Mark', 'Sinéad']\n",
    "random_vals = np.random.default_rng().choice(100, size=(4,))   # what'll it be???\n",
    "ax.bar(mentors, random_vals)\n",
    "ax.tick_params(labelsize=FONTSIZE)\n",
    "ax.set_ylabel('???', fontsize=FONTSIZE)\n",
    "plt.show()"
   ]
  },
  {
   "cell_type": "markdown",
   "id": "f5e877af",
   "metadata": {},
   "source": [
    "If you want custom labels for your bars, you can set the `tick_label` parameter in the function call.\n",
    "For more options and examples, we encourage you to look at the linked documentation up above for inspiration!\n",
    "\n",
    "### Exercise: create a bar chart of the crystal structure data of the first 50 elements\n",
    "\n",
    "Remember the data from the first day that mapped element $\\rightarrow$ structure?\n",
    "Recall that the file is structured as follows:\n",
    "```\n",
    "# Data from https://periodictable.com/Properties/A/CrystalStructure.html\n",
    "Hydrogen Hexagonal\n",
    "Helium Cubic\n",
    "Lithium Cubic\n",
    "Beryllium Hexagonal\n",
    "...\n",
    "```\n",
    "\n",
    "We'll now create a bar chart that counts how many elements belong to each family.\n",
    "Write some code below to _load in the data_ and then create a bar chart.\n",
    "Don't forget to add some descriptive labels! 😊\n",
    "\n",
    "_Hints_:\n",
    "- 🐼\n",
    "- Is there a way for us to _count_ the number of occurrences of each _value_?\n",
    "- Recall that we can get all the row labels of a Series/DataFrame with the `.index` attribute."
   ]
  },
  {
   "cell_type": "code",
   "execution_count": null,
   "id": "9ad82d2f",
   "metadata": {},
   "outputs": [],
   "source": [
    "# -------------   WRITE YOUR CODE IN THE SPACE BELOW   ---------- #\n"
   ]
  },
  {
   "cell_type": "markdown",
   "id": "e3517d53",
   "metadata": {},
   "source": [
    "Additionally, you may have noticed that the tick labels are running into each other, which makes it pretty unreadable.\n",
    "There are many ways to fix this, but we'll suggest two here:\n",
    "- You can rotate the labels by adding the following code:        \n",
    "\n",
    "```python\n",
    "for tick in ax.get_xticklabels():\n",
    "    tick.set_rotation(90)\n",
    "```\n",
    "\n",
    "- Or you can plot a _horizontal_ bar chart using the [`ax.barh(x, height)`](https://matplotlib.org/stable/api/_as_gen/matplotlib.axes.Axes.barh.html) method. 😎"
   ]
  },
  {
   "cell_type": "markdown",
   "id": "d7223805",
   "metadata": {},
   "source": [
    "## Statistical analyses\n",
    "\n",
    "[Back to top](#Contents)\n",
    "\n",
    "For our final act, we'll show you two more types of plots ([_there are many more_](https://matplotlib.org/stable/tutorials/introductory/sample_plots.html)) that can be generated using matplotlib that may be useful for your self-directed research and future work.\n",
    "\n",
    "### Histogram\n",
    "\n",
    "The first is a **histogram**, which can be very helpful for visualizing the distribution of your data.\n",
    "A histogram **bins** your data into different value ranges and plots the number of data points that fall within each range.\n",
    "We can plot a histogram using the [`ax.hist(x, bins=None)`](https://matplotlib.org/stable/api/_as_gen/matplotlib.axes.Axes.hist.html) method, which takes in an array of values `x` and returns\n",
    "```python\n",
    "vals, bin_edges, patches = ax.hist(x, bins=nbins)\n",
    "```\n",
    "where\n",
    "\n",
    "- `vals`: The values of the histogram bins, stored in an array of length `nbins`.\n",
    "- `bin_edges`: The edges of the bins, stored in an array of length `nbins + 1`.\n",
    "- `patches`: Container of indiviudal [artists](https://matplotlib.org/stable/api/artist_api.html) used to create the histogram.\n",
    "\n",
    "We'll do this for you below on the diffusion data from the first day, where we plot the distribution of distances from the origin at the final time step."
   ]
  },
  {
   "cell_type": "code",
   "execution_count": null,
   "id": "f94d43eb",
   "metadata": {},
   "outputs": [],
   "source": [
    "data = np.load('../../assets/data/week_1/01/lattice_diffusion.npy')\n",
    "distances = np.linalg.norm(data, axis=2)    # compute distances to origin\n",
    "final_dists = distances[:, -1]              # get all final distances to origin\n",
    "\n",
    "fig, ax = plt.subplots(figsize=(8, 6))\n",
    "vals, bin_edges, patches = ax.hist(final_dists, bins=16)   # we store the returned values, but don't need them here\n",
    "ax.tick_params(labelsize=FONTSIZE)\n",
    "ax.set_xlabel('Final distance to origin', fontsize=FONTSIZE)\n",
    "ax.set_ylabel('Number of trials', fontsize=FONTSIZE)\n",
    "ax.set_title('2D diffusion data', fontsize=FONTSIZE)\n",
    "plt.show()\n",
    "fig.savefig('../../assets/fig/week_1/03/histogram.png', dpi=300, bbox_inches='tight', transparent=False)"
   ]
  },
  {
   "cell_type": "markdown",
   "id": "a655c31c",
   "metadata": {},
   "source": [
    "### Saving your work!\n",
    "\n",
    "You may have noticed that in the last line above we snuck in the [`fig.savefig()`](https://matplotlib.org/stable/api/figure_api.html#matplotlib.figure.Figure.savefig) method to demonstrate its usage.\n",
    "Recall that a `Figure` includes all plot elements, which is why `savefig()` is called from that object as opposed to the `Axes` object (one `Figure` can have multiple `Axes`, as we'll show in the next lesson).\n",
    "This method is quite powerful, but for most cases, you will only need the following four arguments:\n",
    "\n",
    "1. `fname`: The first argument should be the path to the filename you want to save it as, _including the extension_. \n",
    "Possible extensions include `eps`, `jpg`, `png`, `pdf`, `svg`, `tif`, among others.\n",
    "1. `dpi`: This is short for \"dots per inch,\" and controls the resolution of your figure, more or less. \n",
    "We recommend a DPI of **at least 300** for all plots, which is the minimum enforced by top-tier scientific journals.\n",
    "1. `bbox_inches`: This setting controls the bounding box for your figure.\n",
    "`tight` is generally a good setting for auto-adjustment.\n",
    "1. `transparent`: This determines whether `Axes` patches (background) will be transparent or not.\n",
    "`False` means a solid white background, while `True` might be nice if your figure is placed in a setting with a colored background."
   ]
  },
  {
   "cell_type": "markdown",
   "id": "be60d22a",
   "metadata": {},
   "source": [
    "### Heatmap\n",
    "\n",
    "**Heatmaps** are very useful for quickly identifying associations between pairs of variables arranged on a grid.\n",
    "These associations can be many things, and the one we will focus on in this example is the **Pearson correlation coefficient** ($r$).\n",
    "This statistical quantity measures the linear correlation between two sets of data, computed as the _covariance_ of two variables divided by the product of their _standard deviations_.\n",
    "Mathematically, for two random variables $X$ and $Y$, this is expressed as:\n",
    "\n",
    "$$ r_{X,Y} = \\frac{\\text{cov}(X, Y)}{\\sigma_X \\sigma_Y}, \\quad r \\in [-1, +1] $$\n",
    "\n",
    "For our case when we're dealing with a sample of data points given as $\\{(x_1, y_1), \\dots, (x_n, y_n)\\}$, it is given by:\n",
    "\n",
    "$$ r_{xy} = \\frac{\\sum_{i=1}^{n} (x_i - \\bar{x})(y_i - \\bar{y})}{\\sqrt{\\sum_{i=1}^{n} (x_i - \\bar{x})^2} \\sqrt{\\sum_{i=1}^{n} (y_i - \\bar{y})^2}} \\tag{1} $$\n",
    "\n",
    "Visually, the Pearson correlation coefficient demonstrates the following behaviors (the line is fictitious and meant to help guide the eye):\n",
    "\n",
    "![Pearson](../../assets/fig/week_1/03/pearson.png)"
   ]
  },
  {
   "cell_type": "markdown",
   "id": "bdc16893",
   "metadata": {},
   "source": [
    "#### pandas to the rescue!\n",
    "\n",
    "When doing exploratory data analysis (EDA) for your data, it is a very good idea to visualize the correlations between different variables as a heatmap to see if there are any expected or unexpected trends.\n",
    "Luckily for us, we do not have to compute Eq. 1 by hand, which would be very annoying when we're trying to compute pairwise correlations for every possible pair between dozens of variables.\n",
    "Instead, we can take advantage of a built-in method from pandas, [`df.corr()`](https://pandas.pydata.org/pandas-docs/stable/reference/api/pandas.DataFrame.corr.html), which computes the pairwise correlation of all the numerical columns and returns a **matrix** of correlations.\n",
    "\n",
    "We can then [use matplotlib to create our heatmap](https://matplotlib.org/stable/gallery/images_contours_and_fields/image_annotated_heatmap.html) using the [`ax.imshow(X)`](https://matplotlib.org/stable/api/_as_gen/matplotlib.axes.Axes.imshow.html) method, where `X` is a matrix of values.\n",
    "With some clever styling, we can even get labels and numbers to appear.\n",
    "We'll demonstrate this below with some elemental data that we saw previously."
   ]
  },
  {
   "cell_type": "code",
   "execution_count": null,
   "id": "70194c60",
   "metadata": {},
   "outputs": [],
   "source": [
    "df = pd.read_csv('../../assets/data/week_1/02/hardness_density.csv', skiprows=1,\n",
    "                 header=0, names=['element', 'number', 'hardness', 'density'])\n",
    "corr = df.corr()\n",
    "print(f'Correlation matrix has dimensions {corr.shape}.')\n",
    "\n",
    "fig, ax = plt.subplots(figsize=(6, 6))\n",
    "ax.imshow(corr)\n",
    "ax.set_xticks(np.arange(len(corr)))                 # we say exactly where we want ticks to appear\n",
    "ax.set_xticklabels(corr.index, fontsize=FONTSIZE)   # and what their labels should be\n",
    "ax.set_yticks(np.arange(len(corr)))\n",
    "ax.set_yticklabels(corr.index, fontsize=FONTSIZE)\n",
    "plt.show()"
   ]
  },
  {
   "cell_type": "markdown",
   "id": "c63ec8f1",
   "metadata": {},
   "source": [
    "### Exercise: hmm... it's not very clear what values the colors correspond to. Can you add a colorbar?\n",
    "\n",
    "\n",
    "What correlations do we see?"
   ]
  },
  {
   "cell_type": "markdown",
   "id": "51e529c9",
   "metadata": {},
   "source": [
    "## Conclusion\n",
    "\n",
    "This concludes our introduction to data visualization! 📊📈\n",
    "For a 1-page summary of this information and more, you can check out the [cheatsheet](https://raw.githubusercontent.com/matplotlib/cheatsheets/master/cheatsheets-1.png) made by the developers of matplotlib.\n",
    "\n",
    "Up next, we'll discuss some **common pitfalls and best practices** when it comes to making visualizations.\n",
    "In the meantime, feel free to explore more on your own and let us know if you have any questions."
   ]
  }
 ],
 "metadata": {
  "kernelspec": {
   "display_name": "Python 3",
   "language": "python",
   "name": "python3"
  },
  "language_info": {
   "codemirror_mode": {
    "name": "ipython",
    "version": 3
   },
   "file_extension": ".py",
   "mimetype": "text/x-python",
   "name": "python",
   "nbconvert_exporter": "python",
   "pygments_lexer": "ipython3",
   "version": "3.7.10"
  },
  "toc": {
   "base_numbering": 1,
   "nav_menu": {},
   "number_sections": false,
   "sideBar": true,
   "skip_h1_title": true,
   "title_cell": "Table of Contents",
   "title_sidebar": "Contents",
   "toc_cell": false,
   "toc_position": {},
   "toc_section_display": true,
   "toc_window_display": false
  }
 },
 "nbformat": 4,
 "nbformat_minor": 5
}
