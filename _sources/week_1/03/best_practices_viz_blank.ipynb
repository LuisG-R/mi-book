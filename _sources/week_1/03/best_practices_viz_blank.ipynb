{
 "cells": [
  {
   "cell_type": "markdown",
   "id": "5334554e",
   "metadata": {},
   "source": [
    "# Best practices for visualizations\n",
    "\n",
    "*Authors: Enze Chen and Mark Asta (University of California, Berkeley)*\n",
    "\n",
    "```{note}\n",
    "This is an interactive exercise, so you will want to click the {fa}`rocket` and open the notebook in DataHub (or Colab for non-UCB students).\n",
    "```\n",
    "\n",
    "## Learning objectives\n",
    "\n",
    "This notebook contains a series of exercises that teach best practices in data visualization and give you an opportunity to practice them while exploring some slightly more advanced features in matplotlib.\n",
    "While we'll try our best to not roast other people 🔥, we do hope you'll take away from this lesson:\n",
    "1. The reasoning behind some of the recommended best practices.\n",
    "1. How to implement the best practices in Python.\n",
    "\n",
    "\n",
    "### Import Python modules\n",
    "\n",
    "The following is a list of Python modules that are useful to import for pretty much any general data science task.\n",
    "Enze writes these at the top of every Jupyter notebook and Python script.\n",
    "It can save `ImportError`s later on in the notebook.\n",
    "Now how we're already familiar with all of them!"
   ]
  },
  {
   "cell_type": "code",
   "execution_count": null,
   "id": "abaae0c1",
   "metadata": {},
   "outputs": [],
   "source": [
    "import os\n",
    "import json\n",
    "import numpy as np\n",
    "import pandas as pd\n",
    "import matplotlib.pyplot as plt\n",
    "%matplotlib inline"
   ]
  },
  {
   "cell_type": "markdown",
   "id": "2dd23f45",
   "metadata": {},
   "source": [
    "## Maximum matplotlib customization\n",
    "\n",
    "In the last notebook, we looked at a few ways we can customize matplotlib plot settings to get a nicer image.\n",
    "But it was pretty cumbersome to have to change it _every time_ (lots of typing) and we can easily forget something.\n",
    "It would be great if there was a way to \"set it and forget it,\" at least at the beginning of our script, and have the changes saved for future figures.\n",
    "\n",
    "Turns out there is, through a handy feature known as **rcParams**. \n",
    "\"rc\" is an acronym for \"run commands\" which refer to startup information on Unix systems, and they govern matplotlib behavior as well.\n",
    "If we type `plt.rcParams` into a Jupyter cell and execute it, we will get **a massive list of settings** structured as a _dictionary_."
   ]
  },
  {
   "cell_type": "code",
   "execution_count": null,
   "id": "5ad6981b",
   "metadata": {
    "tags": [
     "remove-output"
    ]
   },
   "outputs": [],
   "source": [
    "plt.rcParams"
   ]
  },
  {
   "cell_type": "markdown",
   "id": "e114cb3e",
   "metadata": {},
   "source": [
    "It can take a while to sift through this dictionary, but you should be able to pick out a few familiar keys like `figure.figsize` and `font.size`.\n",
    "To change these values in a way that propagates to all matplotlib figures created in that notebook, we can run a cell at the beginning with the following code:\n",
    "```python\n",
    "plt.rcParams.update({'figure.figsize':(8, 6)})\n",
    "```\n",
    "where we use a dictionary of the `key`:`value` pairs for the custom settings we want, and this dictionary is the argument for the `plt.rcParams.update()` method.\n",
    "More on custom styling can be found in [the official documentation](https://matplotlib.org/stable/tutorials/introductory/customizing.html).\n",
    "\n",
    "A typical set of \"starter settings\" that Enze likes to use is:"
   ]
  },
  {
   "cell_type": "code",
   "execution_count": null,
   "id": "7882783f",
   "metadata": {},
   "outputs": [],
   "source": [
    "plt.rcParams.update({'figure.figsize':(8,6),       # Increase figure size\n",
    "                     'font.size':24,               # Increase font size\n",
    "                     'mathtext.fontset':'cm',      # Change math font to Computer Modern\n",
    "                     'mathtext.rm':'serif',        # Documentation recommended follow-up\n",
    "                     'lines.linewidth':5,          # Thicker plot lines\n",
    "                     'lines.markersize':12,        # Larger plot points\n",
    "                     'axes.linewidth':2,           # Thicker axes lines (but not too thick)\n",
    "                     'xtick.major.size':8,         # Make the x-ticks longer (our plot is larger!)\n",
    "                     'xtick.major.width':2,        # Make the x-ticks wider\n",
    "                     'ytick.major.size':8,         # Ditto for y-ticks\n",
    "                     'ytick.major.width':2})       # Ditto for y-ticks"
   ]
  },
  {
   "cell_type": "markdown",
   "id": "7ce06923",
   "metadata": {},
   "source": [
    "## Anscombe's quartet\n",
    "\n",
    "[Anscombe's quartet](https://en.wikipedia.org/wiki/Anscombe%27s_quartet) is now a standard lesson on why you should _always_ visualize your data during EDA.\n",
    "Since that work was published almost 50 years ago, there's been similar efforts to generate [all sorts of interesting shapes](https://www.autodesk.com/research/publications/same-stats-different-graphs).\n",
    "\n",
    "Also note how our plots below no longer look like the wimpy default ones!"
   ]
  },
  {
   "cell_type": "code",
   "execution_count": null,
   "id": "e3fe2006",
   "metadata": {},
   "outputs": [],
   "source": [
    "from sklearn.linear_model import LinearRegression\n",
    "df = pd.read_csv('../../assets/data/week_1/03/anscombe.csv',\n",
    "                 names=['x1', 'y1', 'x2', 'y2', 'x3', 'y3', 'x4', 'y4'])\n",
    "print(f'The mean of the columns are:\\n{df.mean()}')\n",
    "print(f'The variance of the columns are:\\n{df.var()}')\n",
    "\n",
    "fig, ax = plt.subplots(nrows=2, ncols=2, figsize=(10, 8),    # this is how multiple subplots are made\n",
    "                       sharex=True, sharey=True)\n",
    "for i in range(4):\n",
    "    x = df[f'x{i+1}'].to_numpy()\n",
    "    y = df[f'y{i+1}'].to_numpy()\n",
    "    model = LinearRegression()            # curious about this module? Come back tomorrow!\n",
    "    model.fit(x.reshape(-1, 1), y)\n",
    "    xx = np.linspace(4, 18, 100)\n",
    "    yy = model.predict(xx.reshape(-1,1))\n",
    "    ax[i // 2, i % 2].scatter(x, y)       # whoa, what's happening with the indices here?\n",
    "    ax[i // 2, i % 2].plot(xx, yy, alpha=0.5, c='k', zorder=-5)\n",
    "    ax[i // 2, i % 2].text(x=16, y=4, s=f'({i+1})', size=24)\n",
    "\n",
    "ax[1, 0].set_xlabel('$x$')\n",
    "ax[1, 1].set_xlabel('$x$')\n",
    "ax[1, 0].set_ylabel('$y$', rotation=0)\n",
    "ax[0, 0].set_ylabel('$y$', rotation=0)\n",
    "fig.subplots_adjust(hspace=0.07, wspace=0.05)   # a stylistic adjustment to maximize plot space\n",
    "plt.show()"
   ]
  },
  {
   "cell_type": "markdown",
   "id": "ebf3d315",
   "metadata": {},
   "source": [
    "## Poorly scaled axes\n",
    "\n",
    "### Exercise: how can we fix the following plot?\n",
    "\n"
   ]
  },
  {
   "cell_type": "code",
   "execution_count": null,
   "id": "0002f671",
   "metadata": {},
   "outputs": [],
   "source": [
    "outcomes = ['heads', 'tails']\n",
    "rng = np.random.default_rng(seed=1)\n",
    "p = rng.random()\n",
    "probs = [p, 1 - p]\n",
    "\n",
    "fig, ax = plt.subplots()\n",
    "ax.bar(outcomes, probs)\n",
    "ax.set_xlabel('coin flip outcomes')\n",
    "ax.set_ylabel('simulated probabilities')\n",
    "ax.set_title('is this a fair coin?')\n",
    "ax.set_ylim([0.47, 0.52])\n",
    "plt.show()"
   ]
  },
  {
   "cell_type": "markdown",
   "id": "dd2237ef",
   "metadata": {},
   "source": [
    "## Fun with colormaps\n",
    "\n",
    "In matplotlib, the gradient of colors that you see on a [heatmap](https://matplotlib.org/stable/gallery/images_contours_and_fields/image_annotated_heatmap.html) or [surface plot](https://matplotlib.org/stable/gallery/mplot3d/surface3d.html) is determined by the [**colormap**](https://matplotlib.org/stable/tutorials/colors/colormaps.html), which matplotlib gives you quite a few options to choose from.\n",
    "To choose your own colormap, we can add an additional `cmap` argument to the relevant plotting function (e.g., in `ax.imshow()`) and set it to be the appropriate keyword from the previous link.\n",
    "\n",
    "The data below are fictitious, but they're meant to represent Pearson correlation values.\n",
    "\n",
    "### Exercise: Is `viridis` (default) the most appropriate colormap?\n",
    "\n"
   ]
  },
  {
   "cell_type": "code",
   "execution_count": null,
   "id": "3c1d0d33",
   "metadata": {},
   "outputs": [],
   "source": [
    "arr = np.array([[1, 0.1, -0.9], [0.15, 1, 0.04], [-0.7, -0.95, 0.95]])\n",
    "fig, ax = plt.subplots(figsize=(6,6))\n",
    "h = ax.imshow(arr)\n",
    "plt.colorbar(h)\n",
    "ax.set_xticks(np.arange(len(arr)))\n",
    "ax.set_yticks(np.arange(len(arr)))\n",
    "ax.set_title('Correlations')\n",
    "plt.show()"
   ]
  },
  {
   "cell_type": "markdown",
   "id": "667dfcfd",
   "metadata": {},
   "source": [
    "## Maximize space for your data!\n",
    "\n",
    "### Exercise: Run the code first. Then uncomment all the commented lines and comment out the legend, title, and grid.\n",
    "\n",
    "It doesn't matter too much for this plot, but when materials data starts to get messy, these tips could come in handy.\n",
    "For example, if there are, say, 5 curves, it might be hard to figure out which word in the legend corresponds to which curve (even if they're color-differentiated), and the legend could start to cover up your lines!\n",
    "\n",
    "- [`ax.grid()`](https://matplotlib.org/stable/api/_as_gen/matplotlib.axes.Axes.grid.html) is actually a pretty flexible method.\n",
    "- [`ax.text()`](https://matplotlib.org/stable/api/_as_gen/matplotlib.axes.Axes.text.html) is just baller."
   ]
  },
  {
   "cell_type": "code",
   "execution_count": null,
   "id": "7c645242",
   "metadata": {},
   "outputs": [],
   "source": [
    "x = np.linspace(0, 2 * np.pi, 100)\n",
    "y1 = np.sin(x)\n",
    "y2 = np.cos(x)\n",
    "\n",
    "# plt.rcParams.update({'xtick.direction':'in', 'ytick.direction':'in'})   # add these two to the big block at the top!\n",
    "fig, ax = plt.subplots()\n",
    "ax.plot(x, y1, label='sin(x)')\n",
    "ax.plot(x, y2, label='cos(x)')\n",
    "ax.set_xlabel('$x$')\n",
    "ax.set_ylabel('$f(x)$')\n",
    "ax.set_title('Plot of $f(x)$ vs. $x$')\n",
    "ax.grid()\n",
    "ax.legend()\n",
    "# ax.text(x=2.8, y=0.1, s='$\\sin(x)$', rotation=-64, c='C0')\n",
    "# ax.text(x=1.2, y=0.1, s='$\\cos(x)$', rotation=-64, c='C1')\n",
    "plt.show()"
   ]
  },
  {
   "cell_type": "markdown",
   "id": "51e529c9",
   "metadata": {},
   "source": [
    "## Conclusion\n",
    "\n",
    "Woohoo! You're well on your way towards making flawless research figures! 🎉\n",
    "We really hope you found this lesson entertaining and instructive.\n",
    "We know it might not seem like there's any \"materials science\" or \"data science\" in this lesson, but having solid visualization skills will take you far in your future career, no matter what you end up doing.\n",
    "It will be extremely important in our future data-centric world!\n",
    "Please don't hesitate to reach out on Slack if you have questions or concerns about this or any other content."
   ]
  }
 ],
 "metadata": {
  "celltoolbar": "Tags",
  "kernelspec": {
   "display_name": "Python 3",
   "language": "python",
   "name": "python3"
  },
  "language_info": {
   "codemirror_mode": {
    "name": "ipython",
    "version": 3
   },
   "file_extension": ".py",
   "mimetype": "text/x-python",
   "name": "python",
   "nbconvert_exporter": "python",
   "pygments_lexer": "ipython3",
   "version": "3.7.10"
  },
  "toc": {
   "base_numbering": 1,
   "nav_menu": {},
   "number_sections": false,
   "sideBar": true,
   "skip_h1_title": true,
   "title_cell": "Table of Contents",
   "title_sidebar": "Contents",
   "toc_cell": false,
   "toc_position": {},
   "toc_section_display": true,
   "toc_window_display": false
  }
 },
 "nbformat": 4,
 "nbformat_minor": 5
}
