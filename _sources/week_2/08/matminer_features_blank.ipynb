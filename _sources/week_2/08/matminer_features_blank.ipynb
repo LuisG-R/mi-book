{
 "cells": [
  {
   "cell_type": "markdown",
   "id": "f3bd826e",
   "metadata": {},
   "source": [
    "# Review of matminer features\n",
    "\n",
    "*Authors: Enze Chen and Mark Asta (University of California, Berkeley)*\n",
    "\n",
    "```{note}\n",
    "This is an interactive exercise, so you will want to click the {fa}`rocket` and open the notebook in DataHub (or Colab for non-UCB students).\n",
    "```\n",
    "\n",
    "## Learning objectives\n",
    "\n",
    "This notebook contains a series of exercises that review the [matminer package](https://hackingmaterials.lbl.gov/matminer/index.html) for [generating features](https://hackingmaterials.lbl.gov/matminer/featurizer_summary.html) in an automated way.\n",
    "By the end of this notebook, you should be able to:\n",
    "1. Generate features from the chemical formula.\n",
    "1. Generate features from the crystal structure.\n",
    "\n",
    "We will rely on the [matminer](https://hackingmaterials.lbl.gov/matminer/index.html) package for implementing these algorithms.\n",
    "\n"
   ]
  },
  {
   "cell_type": "markdown",
   "id": "1948043f",
   "metadata": {},
   "source": [
    "## Contents\n",
    "\n",
    "1. [Chemical formula features](#Chemical-formula-features)\n",
    "1. [Crystal structure features](#Crystal-structure-features)"
   ]
  },
  {
   "cell_type": "markdown",
   "id": "5a784716",
   "metadata": {},
   "source": [
    "## Motivation\n",
    "\n",
    "So far, it sounds like everyone is off to a good start and thinking deeply about what properties might exhibit correlations with the dielectric constant $\\varepsilon$.\n",
    "This is a really important step at the beginning of any data-driven pipeline and it's good practice for you to assemble the code infrastructure for a few manual cases before jumping into an automated approach.\n",
    "\n",
    "That being said, you're probably running out of materials properties that are present \"by default\" in MP, so it's time to think about what **new features** we can generate (also called **feature engineering**) from the data that is there.\n",
    "We want these features to be **physically meaningful**, so we'll take a look at the chemical formula and crystal structure and how we can use [featurizers from matminer](https://hackingmaterials.lbl.gov/matminer/featurizer_summary.html) to convert these objects into new features.\n",
    "\n",
    "### Import Python packages"
   ]
  },
  {
   "cell_type": "code",
   "execution_count": null,
   "id": "4b348251",
   "metadata": {},
   "outputs": [],
   "source": [
    "import numpy as np\n",
    "import pandas as pd\n",
    "pd.set_option('display.max_columns', None)\n",
    "pd.set_option('display.max_rows', 300)\n",
    "import matplotlib.pyplot as plt\n",
    "%matplotlib inline\n",
    "\n",
    "from sklearn.linear_model import LinearRegression\n",
    "from sklearn.preprocessing import StandardScaler\n",
    "from sklearn.metrics import mean_squared_error, mean_absolute_error\n",
    "from sklearn.model_selection import KFold, cross_val_score, cross_val_predict\n",
    "\n",
    "plt.rcParams.update({'figure.figsize':(8,6),       # Increase figure size\n",
    "                     'font.size':20,               # Increase font size\n",
    "                     'mathtext.fontset':'cm',      # Change math font to Computer Modern\n",
    "                     'mathtext.rm':'serif',        # Documentation recommended follow-up\n",
    "                     'lines.linewidth':5,          # Thicker plot lines\n",
    "                     'lines.markersize':12,        # Larger plot points\n",
    "                     'axes.linewidth':2,           # Thicker axes lines (but not too thick)\n",
    "                     'xtick.major.size':8,         # Make the x-ticks longer (our plot is larger!)\n",
    "                     'xtick.major.width':2,        # Make the x-ticks wider\n",
    "                     'ytick.major.size':8,         # Ditto for y-ticks\n",
    "                     'ytick.major.width':2,        # Ditto for y-ticks\n",
    "                     'xtick.direction':'in', \n",
    "                     'ytick.direction':'in'})\n",
    "\n",
    "### Load in your MP API key\n",
    "api_key = None\n",
    "try:       # this is for running locally\n",
    "    import os\n",
    "    api_key = os.environ['MAPI_KEY']\n",
    "except:    # this is for running on DataHub\n",
    "    with open('../../assets/files/mp_api_key.txt', 'r') as f:\n",
    "        api_key = f.readlines()[1].strip()\n",
    "\n",
    "# assert helps catch potential bugs\n",
    "assert api_key is not None, 'API key not set correctly in environment!'\n",
    "assert api_key != '', 'API key not found in mp_api_key.txt file!'"
   ]
  },
  {
   "cell_type": "markdown",
   "id": "16d7d60a",
   "metadata": {},
   "source": [
    "### Step 1: Fetch and organize the data\n",
    "\n",
    "We haven't shown mechanical properties much love in this module, so let's run a MAPI query for the **elastic constants**, focusing on the **bulk modulus** $K$ in particular."
   ]
  },
  {
   "cell_type": "code",
   "execution_count": null,
   "id": "66cda66e",
   "metadata": {},
   "outputs": [],
   "source": [
    "from pymatgen.ext.matproj import MPRester\n",
    "\n",
    "# run the query\n",
    "with MPRester(api_key) as mpr:\n",
    "    entries = mpr.query(criteria={'nelements': 2,   # this is just to keep the dataset small\n",
    "                                  'e_above_hull': {'$lte': 0.01}, \n",
    "                                  'elasticity': {'$exists': True}},\n",
    "                        properties=['pretty_formula', 'structure', 'elasticity'])\n",
    "\n",
    "# format data from JSON to DataFrame (tabular) --- hopefully this block looks familiar!\n",
    "formulas = []\n",
    "structures = []   # we'll use this later\n",
    "bulk_mod = []\n",
    "for entry in entries:\n",
    "    formulas.append(entry['pretty_formula'])\n",
    "    structures.append(entry['structure'])\n",
    "    bulk_mod.append(entry['elasticity']['K_VRH'])\n",
    "\n",
    "df = pd.DataFrame({\n",
    "    'formula': formulas,\n",
    "    'structure': structures,\n",
    "    'bulk_modulus': bulk_mod\n",
    "})\n",
    "df.head()"
   ]
  },
  {
   "cell_type": "markdown",
   "id": "0d765c6a",
   "metadata": {},
   "source": [
    "## Chemical formula features\n",
    "\n",
    "[Back to top](#Contents)\n",
    "\n",
    "The first featurizer we'll discuss, which is a review of the \"Featurization\" notebook, is the [composition featurizer](https://hackingmaterials.lbl.gov/matminer/matminer.featurizers.composition.html), which generates chemical features from the chemical formula.\n",
    "We will specifically showcase the [`ElementProperty`](https://hackingmaterials.lbl.gov/matminer/matminer.featurizers.composition.html#matminer.featurizers.composition.composite.ElementProperty) class, and this time do it with a little more granularity so you can pick the features that are important to you.\n",
    "\n",
    "The procedure is as follows:\n",
    "\n",
    "1. Perform a MAPI query using Pymatgen to fetch data (we've done this already).\n",
    "1. Convert the chemical formula from `str` to a Pymatgen [`Composition`](https://pymatgen.org/pymatgen.core.composition.html) object in a new column.\n",
    "1. Construct an `ElementProperty()` object that specifies which new features to generate.\n",
    "1. Use the `featurize_dataframe()` method to generate many new columns in the `DataFrame`, one for each feature."
   ]
  },
  {
   "cell_type": "markdown",
   "id": "59d3c3ce",
   "metadata": {},
   "source": [
    "### Step 2: `str` to `Composition`"
   ]
  },
  {
   "cell_type": "code",
   "execution_count": null,
   "id": "3ac63e9b",
   "metadata": {},
   "outputs": [],
   "source": [
    "from matminer.featurizers.conversions import StrToComposition\n",
    "\n",
    "# create an object for converting formula --> Composition\n",
    "str_to_comp = StrToComposition(target_col_id='composition')\n",
    "\n",
    "# perform the conversion and add a new column to the DataFrame\n",
    "df_comp = str_to_comp.featurize_dataframe(df, col_id='formula')\n",
    "\n",
    "# show the results\n",
    "df_comp.head()"
   ]
  },
  {
   "cell_type": "markdown",
   "id": "c7242cf7",
   "metadata": {},
   "source": [
    "### Steps 3 and 4: `Composition` to FEATURES 💥\n",
    "\n",
    "Note that these chemical formulas all have two elements in them, so it's not so intuitive what information to extract from the elements in this formula.\n",
    "Pay attention to how we are specifying the Magpie elemental features ([original paper](https://www.nature.com/articles/npjcompumats201628)).\n",
    "Remember what this is doing is taking the property (such as `AtomicWeight` or `MeltingT`) of all of the constituent elements and calculating an average, maximum, minimum, etc. and using these _statistical quantities of elemental properties_ as features.\n",
    "There are [more composition featurizers](https://hackingmaterials.lbl.gov/matminer/matminer.featurizers.composition.html) you can try, which will be left as an exercise to the reader.\n",
    "\n",
    "![Magpie features](../../assets/fig/week_1/04/magpie_features.png)\n",
    "\n",
    "**Pause and reflect**: Why do we calculate statistical quantities of the individual elemental features?"
   ]
  },
  {
   "cell_type": "code",
   "execution_count": null,
   "id": "76c768dc",
   "metadata": {},
   "outputs": [],
   "source": [
    "from matminer.featurizers.composition import ElementProperty\n",
    "\n",
    "# these are all the Magpie features. You can choose fewer if you want.\n",
    "features = ['Number', 'MendeleevNumber', 'AtomicWeight', 'MeltingT', \n",
    "            'Column', 'Row', 'CovalentRadius', 'Electronegativity', \n",
    "            'NsValence', 'NpValence', 'NdValence', 'NfValence', 'NValence', \n",
    "            'NsUnfilled', 'NpUnfilled', 'NdUnfilled', 'NfUnfilled', 'NUnfilled', \n",
    "            'GSvolume_pa', 'GSbandgap', 'GSmagmom', 'SpaceGroupNumber']\n",
    "\n",
    "# these are the statistical quantities we can compute\n",
    "stats = ['mean']   # we can also add 'minimum', 'maximum', 'range', 'avg_dev', 'mode'\n",
    "\n",
    "featurizer = ElementProperty(data_source='magpie',\n",
    "                             features=features,\n",
    "                             stats=stats)\n",
    "# featurizer = ElementProperty.from_preset('magpie')   # this is what we had last time\n",
    "\n",
    "# generate the features\n",
    "df_features = featurizer.featurize_dataframe(df_comp, col_id='composition')\n",
    "feature_labels = featurizer.feature_labels()   # this extracts the ugly names; but same order as \"features\" up above\n",
    "\n",
    "# see the changes\n",
    "df_features.head()"
   ]
  },
  {
   "cell_type": "markdown",
   "id": "6a9051f8",
   "metadata": {},
   "source": [
    "### What can we do with these new features?\n",
    "\n",
    "You can use these columns for the same things you were doing with your original features like \"density\" or \"formation energy.\"\n",
    "For example, we can plot them against the bulk modulus:"
   ]
  },
  {
   "cell_type": "code",
   "execution_count": null,
   "id": "7b88efb9",
   "metadata": {
    "scrolled": true
   },
   "outputs": [],
   "source": [
    "# we can make a series of plots in one swell foop\n",
    "for i in range(4):\n",
    "    single_feature = feature_labels[i]\n",
    "    fig, ax = plt.subplots()\n",
    "    ax.scatter(df_features[single_feature], df_features['bulk_modulus'], s=50)\n",
    "    ax.set_xlabel(single_feature)\n",
    "    ax.set_ylabel('bulk modulus (MPa)')\n",
    "    plt.show()"
   ]
  },
  {
   "cell_type": "markdown",
   "id": "4718a106",
   "metadata": {},
   "source": [
    "We can also compute some correlations too.\n",
    "Change the `method` in [`df.corr()`](https://pandas.pydata.org/pandas-docs/stable/reference/api/pandas.DataFrame.corr.html) and see what happens."
   ]
  },
  {
   "cell_type": "code",
   "execution_count": null,
   "id": "4c5a6652",
   "metadata": {},
   "outputs": [],
   "source": [
    "# trim the DataFrame\n",
    "features_subset = ['bulk_modulus'] + feature_labels[:4]\n",
    "features_subset_cleaned = [f.split()[-1] for f in features_subset]   # clean it up for plotting\n",
    "df_subset = df_features[features_subset]\n",
    "\n",
    "# construct a correlation matrix\n",
    "method = 'pearson'\n",
    "corr_matrix = df_subset.corr(method=method)\n",
    "\n",
    "# plot the correlations\n",
    "fig, ax = plt.subplots()\n",
    "h = ax.imshow(corr_matrix, cmap='coolwarm', vmin=-1, vmax=1)   # haha you can prob choose better colors\n",
    "ax.set_xticks(range(len(features_subset_cleaned)))\n",
    "ax.set_xticklabels(features_subset_cleaned, rotation=60, fontsize=14)\n",
    "ax.set_yticks(range(len(features_subset_cleaned)))\n",
    "ax.set_yticklabels(features_subset_cleaned, fontsize=14)\n",
    "plt.colorbar(h, label=f'{method} correlation coefficient')\n",
    "plt.show()"
   ]
  },
  {
   "cell_type": "markdown",
   "id": "554c589b",
   "metadata": {},
   "source": [
    "We think `matminer` is a pretty cool package to know, and we hope it makes your lives a little bit easier.\n",
    "\n",
    "<div class=\"alert alert-block alert-warning\">\n",
    "    <center><b>~ BREAK ~</b></center>\n",
    "    At this point, we highly suggest you give yourself a decent break before continuing further. 🥰\n",
    "    Get a drink of water, go grab a bite, or at least stand up and stretch to give your eyes a break.\n",
    "    You all are awesome!! 🙌\n",
    "</div>"
   ]
  },
  {
   "cell_type": "markdown",
   "id": "6f2a038d",
   "metadata": {},
   "source": [
    "## Crystal structure features\n",
    "\n",
    "[Back to top](#Contents)\n",
    "\n",
    "While chemistry/composition plays a big role in materials properties, we know that **materials structure** is important as well.\n",
    "After all, graphene, diamond, nanotubes, and buckyballs all have the same composition, but wildly different properties.\n",
    "Another material property that we get \"for free\" at least from MP is the crystal structure of that material, which is encoded as a Pymatgen [`Structure`](https://pymatgen.org/pymatgen.core.structure.html) object.\n",
    "As we've already been discussing features related to crystal structure, we would like to use the structure to engineer relevant features.\n",
    "The procedure is very similar to how we featurized the `Composition` up above.\n",
    "\n",
    "But first, let's explore what is available in a `Structure` object (recall that we stored this in the `structure` column of our initial DataFrame after querying the MAPI)."
   ]
  },
  {
   "cell_type": "code",
   "execution_count": null,
   "id": "e7a14866",
   "metadata": {},
   "outputs": [],
   "source": [
    "# get the first structure for demonstration\n",
    "struct = df.loc[0, 'structure']\n",
    "print(struct)\n",
    "print()\n",
    "print(f'The density is {struct.density}')\n",
    "print()\n",
    "print(f'The volume is {struct.volume}')\n",
    "print()\n",
    "print(f'The space group is {struct.get_space_group_info()}')"
   ]
  },
  {
   "cell_type": "markdown",
   "id": "c16d1cb0",
   "metadata": {},
   "source": [
    "### Automating the feature extraction\n",
    "\n",
    "Hmm, it seems like there's definitely useful information contained inside the `Structure` object.\n",
    "But rather than enumerate these properties by hand, let's see if we can extract them automatically using the following steps:\n",
    "\n",
    "1. Obtain the `Structure` using the MAPI (we've done this).\n",
    "1. Construct a structure featurizer object from matminer that determines what new features to generate.\n",
    "1. Use that object to featurize the `Structure` and add new features as columns in our DataFrame.\n",
    "\n",
    "There are [many structure featurizers](https://hackingmaterials.lbl.gov/matminer/matminer.featurizers.structure.html#submodules) available in matminer, and we'll opt for the simpler [`DensityFeatures`](https://hackingmaterials.lbl.gov/matminer/matminer.featurizers.structure.html#matminer.featurizers.structure.order.DensityFeatures) featurizer below.\n",
    "We encourage you to read about the other ones if you're curious and we're happy to explain what they mean."
   ]
  },
  {
   "cell_type": "code",
   "execution_count": null,
   "id": "a111be97",
   "metadata": {},
   "outputs": [],
   "source": [
    "from matminer.featurizers.structure import DensityFeatures\n",
    "\n",
    "# construct the featurizer object with specifications - vpa is short for \"volume per atom\"\n",
    "featurizer = DensityFeatures(desired_features=['density', 'vpa', 'packing fraction'])\n",
    "\n",
    "# perform the featurization and extract the feature names\n",
    "df_struct = featurizer.featurize_dataframe(df, col_id='structure', ignore_errors=True)   # there is one error\n",
    "struct_feature_labels = featurizer.feature_labels()\n",
    "\n",
    "# clean it up and show the result\n",
    "df_struct = df_struct.dropna(how='any', axis=0)\n",
    "df_struct.head()"
   ]
  },
  {
   "cell_type": "markdown",
   "id": "a0d0b848",
   "metadata": {},
   "source": [
    "Note that these are features derived from the _entire structure_, not the constituent elements (what we did for Magpie), so there's no statistics to compute (mean, min, max, etc.).\n",
    "\n",
    "### What can we do with these new features?\n",
    "\n",
    "Same thing as before!\n",
    "Since we like plots, let's make a few plots. 🙂\n",
    "\n",
    "#### Scatter plot"
   ]
  },
  {
   "cell_type": "code",
   "execution_count": null,
   "id": "9ec3e6ed",
   "metadata": {},
   "outputs": [],
   "source": [
    "single_feature = struct_feature_labels[1]   # we pick one that's kinda cool\n",
    "fig, ax = plt.subplots()\n",
    "ax.scatter(df_struct[single_feature], df_struct['bulk_modulus'], s=50)\n",
    "ax.set_xlabel(single_feature)\n",
    "ax.set_ylabel('bulk modulus (MPa)')\n",
    "plt.show()"
   ]
  },
  {
   "cell_type": "markdown",
   "id": "557d413d",
   "metadata": {},
   "source": [
    "#### Correlation matrix"
   ]
  },
  {
   "cell_type": "code",
   "execution_count": null,
   "id": "9b010ac2",
   "metadata": {},
   "outputs": [],
   "source": [
    "# trim the DataFrame\n",
    "features_subset = ['bulk_modulus'] + struct_feature_labels\n",
    "df_subset = df_struct[features_subset]\n",
    "\n",
    "# construct a correlation matrix\n",
    "method = 'pearson'\n",
    "corr_matrix = df_subset.corr(method=method)\n",
    "\n",
    "# plot the correlations\n",
    "fig, ax = plt.subplots()\n",
    "h = ax.imshow(corr_matrix, cmap='coolwarm', vmin=-1, vmax=1)\n",
    "ax.set_xticks(range(len(features_subset)))\n",
    "ax.set_xticklabels(features_subset, rotation=60, fontsize=14)\n",
    "ax.set_yticks(range(len(features_subset)))\n",
    "ax.set_yticklabels(features_subset, fontsize=14)\n",
    "plt.colorbar(h, label=f'{method} correlation coefficient')\n",
    "plt.show()"
   ]
  },
  {
   "cell_type": "markdown",
   "id": "51e529c9",
   "metadata": {},
   "source": [
    "## Conclusion\n",
    "\n",
    "[Back to top](#Contents)\n",
    "\n",
    "This concludes the review of [matminer](https://hackingmaterials.lbl.gov/matminer/index.html).\n",
    "If you have any questions, please do not hesitate to ask on Slack!"
   ]
  }
 ],
 "metadata": {
  "kernelspec": {
   "display_name": "Python 3",
   "language": "python",
   "name": "python3"
  },
  "language_info": {
   "codemirror_mode": {
    "name": "ipython",
    "version": 3
   },
   "file_extension": ".py",
   "mimetype": "text/x-python",
   "name": "python",
   "nbconvert_exporter": "python",
   "pygments_lexer": "ipython3",
   "version": "3.7.10"
  },
  "toc": {
   "base_numbering": 1,
   "nav_menu": {},
   "number_sections": false,
   "sideBar": true,
   "skip_h1_title": true,
   "title_cell": "Table of Contents",
   "title_sidebar": "Contents",
   "toc_cell": false,
   "toc_position": {},
   "toc_section_display": true,
   "toc_window_display": false
  }
 },
 "nbformat": 4,
 "nbformat_minor": 5
}
