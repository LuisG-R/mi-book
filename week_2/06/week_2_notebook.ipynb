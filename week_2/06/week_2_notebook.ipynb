{
 "cells": [
  {
   "cell_type": "markdown",
   "id": "a5e994bf",
   "metadata": {},
   "source": [
    "# Week 2 Jupyter notebook placeholder"
   ]
  },
  {
   "cell_type": "code",
   "execution_count": 1,
   "id": "e48872b1",
   "metadata": {
    "tags": [
     "remove-input"
    ]
   },
   "outputs": [],
   "source": [
    "import os\n",
    "import sys\n",
    "\n",
    "import numpy as np\n",
    "import pandas as pd\n",
    "import scipy as sp\n",
    "import matplotlib.pyplot as plt\n",
    "%matplotlib inline\n",
    "\n",
    "from pymatgen.ext.matproj import MPRester\n",
    "import matminer"
   ]
  },
  {
   "cell_type": "markdown",
   "id": "23471394",
   "metadata": {
    "solution2": "shown",
    "solution2_first": true
   },
   "source": [
    "**Exercise 1**: Print `'Hello, World!`"
   ]
  },
  {
   "cell_type": "code",
   "execution_count": 6,
   "id": "e7e2a669",
   "metadata": {
    "solution2": "shown"
   },
   "outputs": [
    {
     "name": "stdout",
     "output_type": "stream",
     "text": [
      "Hello, World!\n",
      "Lu2 Al4\n"
     ]
    }
   ],
   "source": [
    "print('Hello, World!')\n",
    "\n",
    "mp_api_key = os.environ.get('MP_API_KEY')\n",
    "with MPRester(mp_api_key) as mpr:\n",
    "    structure = mpr.get_structure_by_material_id(\"mp-1234\")\n",
    "print(structure.formula)"
   ]
  },
  {
   "cell_type": "code",
   "execution_count": 5,
   "id": "415786ca",
   "metadata": {
    "tags": [
     "remove-output"
    ]
   },
   "outputs": [
    {
     "data": {
      "text/plain": [
       "['DISTANCE_TOLERANCE',\n",
       " 'REDIRECT',\n",
       " '__abstractmethods__',\n",
       " '__class__',\n",
       " '__contains__',\n",
       " '__delattr__',\n",
       " '__delitem__',\n",
       " '__dict__',\n",
       " '__dir__',\n",
       " '__doc__',\n",
       " '__eq__',\n",
       " '__format__',\n",
       " '__ge__',\n",
       " '__get_validators__',\n",
       " '__getattribute__',\n",
       " '__getitem__',\n",
       " '__gt__',\n",
       " '__hash__',\n",
       " '__iadd__',\n",
       " '__init__',\n",
       " '__init_subclass__',\n",
       " '__iter__',\n",
       " '__le__',\n",
       " '__len__',\n",
       " '__lt__',\n",
       " '__modify_schema__',\n",
       " '__module__',\n",
       " '__mul__',\n",
       " '__ne__',\n",
       " '__new__',\n",
       " '__reduce__',\n",
       " '__reduce_ex__',\n",
       " '__repr__',\n",
       " '__reversed__',\n",
       " '__rmul__',\n",
       " '__setattr__',\n",
       " '__setitem__',\n",
       " '__sizeof__',\n",
       " '__slots__',\n",
       " '__str__',\n",
       " '__subclasshook__',\n",
       " '__weakref__',\n",
       " '_abc_impl',\n",
       " '_charge',\n",
       " '_get_neighbor_list_py',\n",
       " '_lattice',\n",
       " '_sites',\n",
       " 'add_oxidation_state_by_element',\n",
       " 'add_oxidation_state_by_guess',\n",
       " 'add_oxidation_state_by_site',\n",
       " 'add_site_property',\n",
       " 'add_spin_by_element',\n",
       " 'add_spin_by_site',\n",
       " 'append',\n",
       " 'apply_operation',\n",
       " 'apply_strain',\n",
       " 'as_dataframe',\n",
       " 'as_dict',\n",
       " 'atomic_numbers',\n",
       " 'cart_coords',\n",
       " 'charge',\n",
       " 'clear',\n",
       " 'composition',\n",
       " 'copy',\n",
       " 'count',\n",
       " 'density',\n",
       " 'distance_matrix',\n",
       " 'extend',\n",
       " 'extract_cluster',\n",
       " 'formula',\n",
       " 'frac_coords',\n",
       " 'from_dict',\n",
       " 'from_file',\n",
       " 'from_magnetic_spacegroup',\n",
       " 'from_sites',\n",
       " 'from_spacegroup',\n",
       " 'from_str',\n",
       " 'get_all_neighbors',\n",
       " 'get_all_neighbors_old',\n",
       " 'get_all_neighbors_py',\n",
       " 'get_angle',\n",
       " 'get_dihedral',\n",
       " 'get_distance',\n",
       " 'get_miller_index_from_site_indexes',\n",
       " 'get_neighbor_list',\n",
       " 'get_neighbors',\n",
       " 'get_neighbors_in_shell',\n",
       " 'get_neighbors_old',\n",
       " 'get_orderings',\n",
       " 'get_primitive_structure',\n",
       " 'get_reduced_structure',\n",
       " 'get_sites_in_sphere',\n",
       " 'get_sorted_structure',\n",
       " 'get_space_group_info',\n",
       " 'group_by_types',\n",
       " 'index',\n",
       " 'indices_from_symbol',\n",
       " 'insert',\n",
       " 'interpolate',\n",
       " 'is_ordered',\n",
       " 'is_valid',\n",
       " 'lattice',\n",
       " 'make_supercell',\n",
       " 'matches',\n",
       " 'merge_sites',\n",
       " 'ntypesp',\n",
       " 'num_sites',\n",
       " 'perturb',\n",
       " 'pop',\n",
       " 'remove',\n",
       " 'remove_oxidation_states',\n",
       " 'remove_site_property',\n",
       " 'remove_sites',\n",
       " 'remove_species',\n",
       " 'remove_spin',\n",
       " 'replace',\n",
       " 'replace_species',\n",
       " 'reverse',\n",
       " 'rotate_sites',\n",
       " 'scale_lattice',\n",
       " 'set_charge',\n",
       " 'site_properties',\n",
       " 'sites',\n",
       " 'sort',\n",
       " 'species',\n",
       " 'species_and_occu',\n",
       " 'substitute',\n",
       " 'symbol_set',\n",
       " 'to',\n",
       " 'to_json',\n",
       " 'translate_sites',\n",
       " 'types_of_specie',\n",
       " 'types_of_species',\n",
       " 'unsafe_hash',\n",
       " 'validate_monty',\n",
       " 'volume']"
      ]
     },
     "execution_count": 5,
     "metadata": {},
     "output_type": "execute_result"
    }
   ],
   "source": [
    "dir(structure)"
   ]
  }
 ],
 "metadata": {
  "celltoolbar": "Tags",
  "kernelspec": {
   "display_name": "Python 3",
   "language": "python",
   "name": "python3"
  },
  "language_info": {
   "codemirror_mode": {
    "name": "ipython",
    "version": 3
   },
   "file_extension": ".py",
   "mimetype": "text/x-python",
   "name": "python",
   "nbconvert_exporter": "python",
   "pygments_lexer": "ipython3",
   "version": "3.7.10"
  },
  "toc": {
   "base_numbering": 1,
   "nav_menu": {},
   "number_sections": false,
   "sideBar": true,
   "skip_h1_title": true,
   "title_cell": "Table of Contents",
   "title_sidebar": "Contents",
   "toc_cell": false,
   "toc_position": {},
   "toc_section_display": true,
   "toc_window_display": false
  },
  "varInspector": {
   "cols": {
    "lenName": 16,
    "lenType": 16,
    "lenVar": 40
   },
   "kernels_config": {
    "python": {
     "delete_cmd_postfix": "",
     "delete_cmd_prefix": "del ",
     "library": "var_list.py",
     "varRefreshCmd": "print(var_dic_list())"
    },
    "r": {
     "delete_cmd_postfix": ") ",
     "delete_cmd_prefix": "rm(",
     "library": "var_list.r",
     "varRefreshCmd": "cat(var_dic_list()) "
    }
   },
   "types_to_exclude": [
    "module",
    "function",
    "builtin_function_or_method",
    "instance",
    "_Feature"
   ],
   "window_display": false
  }
 },
 "nbformat": 4,
 "nbformat_minor": 5
}
